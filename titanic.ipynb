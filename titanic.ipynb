{
 "metadata": {
  "kernelspec": {
   "language": "python",
   "display_name": "Python 3",
   "name": "python3"
  },
  "language_info": {
   "pygments_lexer": "ipython3",
   "nbconvert_exporter": "python",
   "version": "3.6.4",
   "file_extension": ".py",
   "codemirror_mode": {
    "name": "ipython",
    "version": 3
   },
   "name": "python",
   "mimetype": "text/x-python"
  }
 },
 "nbformat_minor": 4,
 "nbformat": 4,
 "cells": [
  {
   "cell_type": "markdown",
   "source": [
    "# References"
   ],
   "metadata": {}
  },
  {
   "cell_type": "markdown",
   "source": [
    "* https://habr.com/ru/post/274171/\n",
    "* https://neurohive.io/ru/osnovy-data-science/razbor-resheniya-zadachi-titanik-na-kaggle-dlya-nachinajushhih/"
   ],
   "metadata": {}
  },
  {
   "cell_type": "markdown",
   "source": [
    "# Packages"
   ],
   "metadata": {}
  },
  {
   "cell_type": "code",
   "source": [
    "import numpy as np # linear algebra\n",
    "import pandas as pd # data processing\n",
    "\n",
    "import matplotlib.pyplot as plt # graphs\n",
    "import seaborn as sns # graphs\n",
    "\n",
    "from sklearn.model_selection import GridSearchCV # CV\n",
    "from sklearn.linear_model import LogisticRegression # Model\n",
    "from sklearn.preprocessing import StandardScaler, OneHotEncoder # Preprocess feautures\n",
    "from sklearn.pipeline import Pipeline, make_pipeline # Pipelines\n",
    "from sklearn.impute import SimpleImputer # Imputer\n",
    "from sklearn.compose import ColumnTransformer # For transformation\n",
    "from sklearn.metrics import classification_report,roc_curve, roc_auc_score # Report\n",
    "from sklearn.ensemble import RandomForestClassifier\n",
    "from sklearn.metrics import accuracy_score\n",
    "from sklearn.compose import ColumnTransformer\n",
    "from sklearn.pipeline import Pipeline\n",
    "from sklearn.impute import SimpleImputer\n",
    "from sklearn.preprocessing import OneHotEncoder\n",
    "from sklearn.ensemble import RandomForestClassifier\n",
    "from sklearn.metrics import mean_absolute_error\n",
    "\n",
    "from sklearn import set_config\n",
    "from sklearn.model_selection import train_test_split\n",
    "import re\n",
    "\n",
    "set_config(display='diagram')\n",
    "from xgboost import XGBClassifier\n",
    "\n",
    "import warnings\n",
    "warnings.simplefilter(action='ignore', category=FutureWarning)\n",
    "warnings.warn(label_encoder_deprecation_msg, UserWarning)"
   ],
   "metadata": {
    "_uuid": "8f2839f25d086af736a60e9eeb907d3b93b6e0e5",
    "_cell_guid": "b1076dfc-b9ad-4769-8c92-a6c4dae69d19",
    "execution": {
     "iopub.status.busy": "2022-01-23T19:45:22.45478Z",
     "iopub.execute_input": "2022-01-23T19:45:22.4553Z",
     "iopub.status.idle": "2022-01-23T19:45:25.004403Z",
     "shell.execute_reply.started": "2022-01-23T19:45:22.455262Z",
     "shell.execute_reply": "2022-01-23T19:45:25.003423Z"
    },
    "trusted": true
   },
   "execution_count": 53,
   "outputs": [
    {
     "ename": "NameError",
     "evalue": "name 'label_encoder_deprecation_msg' is not defined",
     "output_type": "error",
     "traceback": [
      "\u001B[0;31m---------------------------------------------------------------------------\u001B[0m",
      "\u001B[0;31mNameError\u001B[0m                                 Traceback (most recent call last)",
      "Input \u001B[0;32mIn [53]\u001B[0m, in \u001B[0;36m<module>\u001B[0;34m\u001B[0m\n\u001B[1;32m     30\u001B[0m \u001B[38;5;28;01mimport\u001B[39;00m \u001B[38;5;21;01mwarnings\u001B[39;00m\n\u001B[1;32m     31\u001B[0m warnings\u001B[38;5;241m.\u001B[39msimplefilter(action\u001B[38;5;241m=\u001B[39m\u001B[38;5;124m'\u001B[39m\u001B[38;5;124mignore\u001B[39m\u001B[38;5;124m'\u001B[39m, category\u001B[38;5;241m=\u001B[39m\u001B[38;5;167;01mFutureWarning\u001B[39;00m)\n\u001B[0;32m---> 32\u001B[0m warnings\u001B[38;5;241m.\u001B[39mwarn(\u001B[43mlabel_encoder_deprecation_msg\u001B[49m, \u001B[38;5;167;01mUserWarning\u001B[39;00m)\n",
      "\u001B[0;31mNameError\u001B[0m: name 'label_encoder_deprecation_msg' is not defined"
     ]
    }
   ]
  },
  {
   "cell_type": "markdown",
   "source": [
    "# Load the data"
   ],
   "metadata": {}
  },
  {
   "cell_type": "code",
   "source": [
    "Train_full = pd.read_csv('titanic/train.csv',index_col='PassengerId',\n",
    "                    dtype={'Pclass': 'category','Sex': 'category'})\n",
    "X_valid_full = pd.read_csv('titanic/test.csv', index_col='PassengerId',\n",
    "                  dtype={'Pclass': 'category','Sex': 'category'})"
   ],
   "metadata": {
    "execution": {
     "iopub.status.busy": "2022-01-23T19:45:25.005642Z",
     "iopub.execute_input": "2022-01-23T19:45:25.005887Z",
     "iopub.status.idle": "2022-01-23T19:45:25.053852Z",
     "shell.execute_reply.started": "2022-01-23T19:45:25.005862Z",
     "shell.execute_reply": "2022-01-23T19:45:25.052987Z"
    },
    "trusted": true
   },
   "execution_count": 3,
   "outputs": []
  },
  {
   "cell_type": "code",
   "source": [
    "# Remove rows with missing target, separate target from predictors\n",
    "Train_full.dropna(axis=0, subset=['Survived'], inplace=True)\n",
    "y = Train_full.Survived\n",
    "Train_full.drop(['Survived'], axis=1, inplace=True)"
   ],
   "metadata": {
    "execution": {
     "iopub.status.busy": "2022-01-23T19:45:25.055284Z",
     "iopub.execute_input": "2022-01-23T19:45:25.055549Z",
     "iopub.status.idle": "2022-01-23T19:45:25.079023Z",
     "shell.execute_reply.started": "2022-01-23T19:45:25.055516Z",
     "shell.execute_reply": "2022-01-23T19:45:25.078303Z"
    },
    "trusted": true
   },
   "execution_count": 4,
   "outputs": []
  },
  {
   "cell_type": "code",
   "source": [
    "# Break off test set from training data\n",
    "X_train_full, X_test_full, y_train, y_test = train_test_split(Train_full, y, \n",
    "                                                                train_size=0.8, test_size=0.2,\n",
    "                                                                random_state=1902)"
   ],
   "metadata": {
    "execution": {
     "iopub.status.busy": "2022-01-23T19:45:26.811399Z",
     "iopub.execute_input": "2022-01-23T19:45:26.811929Z",
     "iopub.status.idle": "2022-01-23T19:45:26.817937Z",
     "shell.execute_reply.started": "2022-01-23T19:45:26.811896Z",
     "shell.execute_reply": "2022-01-23T19:45:26.817235Z"
    },
    "trusted": true
   },
   "execution_count": 5,
   "outputs": []
  },
  {
   "cell_type": "markdown",
   "source": [
    "# Prepare the data"
   ],
   "metadata": {}
  },
  {
   "cell_type": "code",
   "source": [
    "X_train_full.dtypes.value_counts() # Look on dtypes of raw features"
   ],
   "metadata": {
    "execution": {
     "iopub.status.busy": "2022-01-23T19:45:28.916659Z",
     "iopub.execute_input": "2022-01-23T19:45:28.917104Z",
     "iopub.status.idle": "2022-01-23T19:45:28.932942Z",
     "shell.execute_reply.started": "2022-01-23T19:45:28.917067Z",
     "shell.execute_reply": "2022-01-23T19:45:28.932048Z"
    },
    "trusted": true
   },
   "execution_count": 6,
   "outputs": [
    {
     "data": {
      "text/plain": "object      4\nfloat64     2\nint64       2\ncategory    1\ncategory    1\ndtype: int64"
     },
     "execution_count": 6,
     "metadata": {},
     "output_type": "execute_result"
    }
   ]
  },
  {
   "cell_type": "code",
   "source": [
    "# \"Cardinality\" means the number of unique values in a column\n",
    "# Select categorical columns with relatively low cardinality (convenient but arbitrary)\n",
    "categorical_cols = [cname for cname in X_train_full.columns if\n",
    "                    X_train_full[cname].nunique() < 10 and \n",
    "                    X_train_full[cname].dtype not in ('int64','float64')]\n",
    "\n",
    "# Select numerical columns\n",
    "numerical_cols = [cname for cname in X_train_full.columns if \n",
    "                X_train_full[cname].dtype in ('int64','float64')]"
   ],
   "metadata": {
    "execution": {
     "iopub.status.busy": "2022-01-23T19:45:35.236261Z",
     "iopub.execute_input": "2022-01-23T19:45:35.237124Z",
     "iopub.status.idle": "2022-01-23T19:45:35.252123Z",
     "shell.execute_reply.started": "2022-01-23T19:45:35.237068Z",
     "shell.execute_reply": "2022-01-23T19:45:35.251231Z"
    },
    "trusted": true
   },
   "execution_count": 7,
   "outputs": []
  },
  {
   "cell_type": "code",
   "source": [
    "# Keep selected columns only\n",
    "my_cols = categorical_cols + numerical_cols\n",
    "X_train = X_train_full[my_cols].copy()\n",
    "X_valid = X_valid_full[my_cols].copy()\n",
    "X_test = X_test_full[my_cols].copy()\n",
    "\n",
    "# Preprocessing for numerical data\n",
    "numerical_transformer = SimpleImputer(strategy='constant')\n",
    "\n",
    "# Preprocessing for categorical data\n",
    "categorical_transformer = Pipeline(steps=[\n",
    "    ('imputer', SimpleImputer(strategy='most_frequent')),\n",
    "    ('onehot', OneHotEncoder(handle_unknown='ignore'))\n",
    "])\n",
    "\n",
    "# Bundle preprocessing for numerical and categorical data\n",
    "preprocessor = ColumnTransformer(\n",
    "    transformers=[\n",
    "        ('num', numerical_transformer, numerical_cols),\n",
    "        ('cat', categorical_transformer, categorical_cols)\n",
    "    ])\n"
   ],
   "metadata": {
    "execution": {
     "iopub.status.busy": "2022-01-23T19:45:37.295585Z",
     "iopub.execute_input": "2022-01-23T19:45:37.296248Z",
     "iopub.status.idle": "2022-01-23T19:45:37.308092Z",
     "shell.execute_reply.started": "2022-01-23T19:45:37.296201Z",
     "shell.execute_reply": "2022-01-23T19:45:37.307364Z"
    },
    "trusted": true
   },
   "execution_count": 8,
   "outputs": []
  },
  {
   "cell_type": "markdown",
   "source": [
    "# Models"
   ],
   "metadata": {}
  },
  {
   "cell_type": "markdown",
   "source": [
    "## Random Forest"
   ],
   "metadata": {}
  },
  {
   "cell_type": "code",
   "source": [
    "# Define model\n",
    "model = RandomForestClassifier(n_estimators=100, random_state=1902)\n",
    "\n",
    "# Bundle preprocessing and modeling code in a pipeline\n",
    "clf_RF = Pipeline(steps=[\n",
    "    ('preprocessor', preprocessor),\n",
    "    ('model', model)\n",
    "                        ]\n",
    "                 )\n",
    "# Preprocessing of training data, fit model \n",
    "clf_RF.fit(X_train, y_train)"
   ],
   "metadata": {
    "execution": {
     "iopub.status.busy": "2022-01-23T19:45:50.384793Z",
     "iopub.execute_input": "2022-01-23T19:45:50.386854Z",
     "iopub.status.idle": "2022-01-23T19:45:50.761984Z",
     "shell.execute_reply.started": "2022-01-23T19:45:50.386711Z",
     "shell.execute_reply": "2022-01-23T19:45:50.760822Z"
    },
    "trusted": true
   },
   "execution_count": 9,
   "outputs": [
    {
     "data": {
      "text/plain": "Pipeline(steps=[('preprocessor',\n                 ColumnTransformer(transformers=[('num',\n                                                  SimpleImputer(strategy='constant'),\n                                                  ['Age', 'SibSp', 'Parch',\n                                                   'Fare']),\n                                                 ('cat',\n                                                  Pipeline(steps=[('imputer',\n                                                                   SimpleImputer(strategy='most_frequent')),\n                                                                  ('onehot',\n                                                                   OneHotEncoder(handle_unknown='ignore'))]),\n                                                  ['Pclass', 'Sex',\n                                                   'Embarked'])])),\n                ('model', RandomForestClassifier(random_state=1902))])",
      "text/html": "<style>#sk-19e84f80-3080-4332-81ca-0f6573b801c0 {color: black;background-color: white;}#sk-19e84f80-3080-4332-81ca-0f6573b801c0 pre{padding: 0;}#sk-19e84f80-3080-4332-81ca-0f6573b801c0 div.sk-toggleable {background-color: white;}#sk-19e84f80-3080-4332-81ca-0f6573b801c0 label.sk-toggleable__label {cursor: pointer;display: block;width: 100%;margin-bottom: 0;padding: 0.3em;box-sizing: border-box;text-align: center;}#sk-19e84f80-3080-4332-81ca-0f6573b801c0 label.sk-toggleable__label-arrow:before {content: \"▸\";float: left;margin-right: 0.25em;color: #696969;}#sk-19e84f80-3080-4332-81ca-0f6573b801c0 label.sk-toggleable__label-arrow:hover:before {color: black;}#sk-19e84f80-3080-4332-81ca-0f6573b801c0 div.sk-estimator:hover label.sk-toggleable__label-arrow:before {color: black;}#sk-19e84f80-3080-4332-81ca-0f6573b801c0 div.sk-toggleable__content {max-height: 0;max-width: 0;overflow: hidden;text-align: left;background-color: #f0f8ff;}#sk-19e84f80-3080-4332-81ca-0f6573b801c0 div.sk-toggleable__content pre {margin: 0.2em;color: black;border-radius: 0.25em;background-color: #f0f8ff;}#sk-19e84f80-3080-4332-81ca-0f6573b801c0 input.sk-toggleable__control:checked~div.sk-toggleable__content {max-height: 200px;max-width: 100%;overflow: auto;}#sk-19e84f80-3080-4332-81ca-0f6573b801c0 input.sk-toggleable__control:checked~label.sk-toggleable__label-arrow:before {content: \"▾\";}#sk-19e84f80-3080-4332-81ca-0f6573b801c0 div.sk-estimator input.sk-toggleable__control:checked~label.sk-toggleable__label {background-color: #d4ebff;}#sk-19e84f80-3080-4332-81ca-0f6573b801c0 div.sk-label input.sk-toggleable__control:checked~label.sk-toggleable__label {background-color: #d4ebff;}#sk-19e84f80-3080-4332-81ca-0f6573b801c0 input.sk-hidden--visually {border: 0;clip: rect(1px 1px 1px 1px);clip: rect(1px, 1px, 1px, 1px);height: 1px;margin: -1px;overflow: hidden;padding: 0;position: absolute;width: 1px;}#sk-19e84f80-3080-4332-81ca-0f6573b801c0 div.sk-estimator {font-family: monospace;background-color: #f0f8ff;border: 1px dotted black;border-radius: 0.25em;box-sizing: border-box;margin-bottom: 0.5em;}#sk-19e84f80-3080-4332-81ca-0f6573b801c0 div.sk-estimator:hover {background-color: #d4ebff;}#sk-19e84f80-3080-4332-81ca-0f6573b801c0 div.sk-parallel-item::after {content: \"\";width: 100%;border-bottom: 1px solid gray;flex-grow: 1;}#sk-19e84f80-3080-4332-81ca-0f6573b801c0 div.sk-label:hover label.sk-toggleable__label {background-color: #d4ebff;}#sk-19e84f80-3080-4332-81ca-0f6573b801c0 div.sk-serial::before {content: \"\";position: absolute;border-left: 1px solid gray;box-sizing: border-box;top: 2em;bottom: 0;left: 50%;}#sk-19e84f80-3080-4332-81ca-0f6573b801c0 div.sk-serial {display: flex;flex-direction: column;align-items: center;background-color: white;padding-right: 0.2em;padding-left: 0.2em;}#sk-19e84f80-3080-4332-81ca-0f6573b801c0 div.sk-item {z-index: 1;}#sk-19e84f80-3080-4332-81ca-0f6573b801c0 div.sk-parallel {display: flex;align-items: stretch;justify-content: center;background-color: white;}#sk-19e84f80-3080-4332-81ca-0f6573b801c0 div.sk-parallel::before {content: \"\";position: absolute;border-left: 1px solid gray;box-sizing: border-box;top: 2em;bottom: 0;left: 50%;}#sk-19e84f80-3080-4332-81ca-0f6573b801c0 div.sk-parallel-item {display: flex;flex-direction: column;position: relative;background-color: white;}#sk-19e84f80-3080-4332-81ca-0f6573b801c0 div.sk-parallel-item:first-child::after {align-self: flex-end;width: 50%;}#sk-19e84f80-3080-4332-81ca-0f6573b801c0 div.sk-parallel-item:last-child::after {align-self: flex-start;width: 50%;}#sk-19e84f80-3080-4332-81ca-0f6573b801c0 div.sk-parallel-item:only-child::after {width: 0;}#sk-19e84f80-3080-4332-81ca-0f6573b801c0 div.sk-dashed-wrapped {border: 1px dashed gray;margin: 0 0.4em 0.5em 0.4em;box-sizing: border-box;padding-bottom: 0.4em;background-color: white;position: relative;}#sk-19e84f80-3080-4332-81ca-0f6573b801c0 div.sk-label label {font-family: monospace;font-weight: bold;background-color: white;display: inline-block;line-height: 1.2em;}#sk-19e84f80-3080-4332-81ca-0f6573b801c0 div.sk-label-container {position: relative;z-index: 2;text-align: center;}#sk-19e84f80-3080-4332-81ca-0f6573b801c0 div.sk-container {/* jupyter's `normalize.less` sets `[hidden] { display: none; }` but bootstrap.min.css set `[hidden] { display: none !important; }` so we also need the `!important` here to be able to override the default hidden behavior on the sphinx rendered scikit-learn.org. See: https://github.com/scikit-learn/scikit-learn/issues/21755 */display: inline-block !important;position: relative;}#sk-19e84f80-3080-4332-81ca-0f6573b801c0 div.sk-text-repr-fallback {display: none;}</style><div id=\"sk-19e84f80-3080-4332-81ca-0f6573b801c0\" class=\"sk-top-container\"><div class=\"sk-text-repr-fallback\"><pre>Pipeline(steps=[(&#x27;preprocessor&#x27;,\n                 ColumnTransformer(transformers=[(&#x27;num&#x27;,\n                                                  SimpleImputer(strategy=&#x27;constant&#x27;),\n                                                  [&#x27;Age&#x27;, &#x27;SibSp&#x27;, &#x27;Parch&#x27;,\n                                                   &#x27;Fare&#x27;]),\n                                                 (&#x27;cat&#x27;,\n                                                  Pipeline(steps=[(&#x27;imputer&#x27;,\n                                                                   SimpleImputer(strategy=&#x27;most_frequent&#x27;)),\n                                                                  (&#x27;onehot&#x27;,\n                                                                   OneHotEncoder(handle_unknown=&#x27;ignore&#x27;))]),\n                                                  [&#x27;Pclass&#x27;, &#x27;Sex&#x27;,\n                                                   &#x27;Embarked&#x27;])])),\n                (&#x27;model&#x27;, RandomForestClassifier(random_state=1902))])</pre><b>Please rerun this cell to show the HTML repr or trust the notebook.</b></div><div class=\"sk-container\" hidden><div class=\"sk-item sk-dashed-wrapped\"><div class=\"sk-label-container\"><div class=\"sk-label sk-toggleable\"><input class=\"sk-toggleable__control sk-hidden--visually\" id=\"26264394-8604-459a-a4dd-1c48dddee450\" type=\"checkbox\" ><label for=\"26264394-8604-459a-a4dd-1c48dddee450\" class=\"sk-toggleable__label sk-toggleable__label-arrow\">Pipeline</label><div class=\"sk-toggleable__content\"><pre>Pipeline(steps=[(&#x27;preprocessor&#x27;,\n                 ColumnTransformer(transformers=[(&#x27;num&#x27;,\n                                                  SimpleImputer(strategy=&#x27;constant&#x27;),\n                                                  [&#x27;Age&#x27;, &#x27;SibSp&#x27;, &#x27;Parch&#x27;,\n                                                   &#x27;Fare&#x27;]),\n                                                 (&#x27;cat&#x27;,\n                                                  Pipeline(steps=[(&#x27;imputer&#x27;,\n                                                                   SimpleImputer(strategy=&#x27;most_frequent&#x27;)),\n                                                                  (&#x27;onehot&#x27;,\n                                                                   OneHotEncoder(handle_unknown=&#x27;ignore&#x27;))]),\n                                                  [&#x27;Pclass&#x27;, &#x27;Sex&#x27;,\n                                                   &#x27;Embarked&#x27;])])),\n                (&#x27;model&#x27;, RandomForestClassifier(random_state=1902))])</pre></div></div></div><div class=\"sk-serial\"><div class=\"sk-item sk-dashed-wrapped\"><div class=\"sk-label-container\"><div class=\"sk-label sk-toggleable\"><input class=\"sk-toggleable__control sk-hidden--visually\" id=\"5ce03ca3-b228-4693-ba92-99a3bad2e499\" type=\"checkbox\" ><label for=\"5ce03ca3-b228-4693-ba92-99a3bad2e499\" class=\"sk-toggleable__label sk-toggleable__label-arrow\">preprocessor: ColumnTransformer</label><div class=\"sk-toggleable__content\"><pre>ColumnTransformer(transformers=[(&#x27;num&#x27;, SimpleImputer(strategy=&#x27;constant&#x27;),\n                                 [&#x27;Age&#x27;, &#x27;SibSp&#x27;, &#x27;Parch&#x27;, &#x27;Fare&#x27;]),\n                                (&#x27;cat&#x27;,\n                                 Pipeline(steps=[(&#x27;imputer&#x27;,\n                                                  SimpleImputer(strategy=&#x27;most_frequent&#x27;)),\n                                                 (&#x27;onehot&#x27;,\n                                                  OneHotEncoder(handle_unknown=&#x27;ignore&#x27;))]),\n                                 [&#x27;Pclass&#x27;, &#x27;Sex&#x27;, &#x27;Embarked&#x27;])])</pre></div></div></div><div class=\"sk-parallel\"><div class=\"sk-parallel-item\"><div class=\"sk-item\"><div class=\"sk-label-container\"><div class=\"sk-label sk-toggleable\"><input class=\"sk-toggleable__control sk-hidden--visually\" id=\"6bbdfc73-e784-4128-b941-e981d520fab3\" type=\"checkbox\" ><label for=\"6bbdfc73-e784-4128-b941-e981d520fab3\" class=\"sk-toggleable__label sk-toggleable__label-arrow\">num</label><div class=\"sk-toggleable__content\"><pre>[&#x27;Age&#x27;, &#x27;SibSp&#x27;, &#x27;Parch&#x27;, &#x27;Fare&#x27;]</pre></div></div></div><div class=\"sk-serial\"><div class=\"sk-item\"><div class=\"sk-estimator sk-toggleable\"><input class=\"sk-toggleable__control sk-hidden--visually\" id=\"69fba1a9-82bc-40fa-b0c8-b718ea51c22f\" type=\"checkbox\" ><label for=\"69fba1a9-82bc-40fa-b0c8-b718ea51c22f\" class=\"sk-toggleable__label sk-toggleable__label-arrow\">SimpleImputer</label><div class=\"sk-toggleable__content\"><pre>SimpleImputer(strategy=&#x27;constant&#x27;)</pre></div></div></div></div></div></div><div class=\"sk-parallel-item\"><div class=\"sk-item\"><div class=\"sk-label-container\"><div class=\"sk-label sk-toggleable\"><input class=\"sk-toggleable__control sk-hidden--visually\" id=\"b91db1a2-ac91-43ec-a307-fc5379e9fea0\" type=\"checkbox\" ><label for=\"b91db1a2-ac91-43ec-a307-fc5379e9fea0\" class=\"sk-toggleable__label sk-toggleable__label-arrow\">cat</label><div class=\"sk-toggleable__content\"><pre>[&#x27;Pclass&#x27;, &#x27;Sex&#x27;, &#x27;Embarked&#x27;]</pre></div></div></div><div class=\"sk-serial\"><div class=\"sk-item\"><div class=\"sk-serial\"><div class=\"sk-item\"><div class=\"sk-estimator sk-toggleable\"><input class=\"sk-toggleable__control sk-hidden--visually\" id=\"1f3d10bd-29db-44e3-995c-f0930bbd84ed\" type=\"checkbox\" ><label for=\"1f3d10bd-29db-44e3-995c-f0930bbd84ed\" class=\"sk-toggleable__label sk-toggleable__label-arrow\">SimpleImputer</label><div class=\"sk-toggleable__content\"><pre>SimpleImputer(strategy=&#x27;most_frequent&#x27;)</pre></div></div></div><div class=\"sk-item\"><div class=\"sk-estimator sk-toggleable\"><input class=\"sk-toggleable__control sk-hidden--visually\" id=\"1719876d-e0ca-4b86-96b8-06583cd13dd6\" type=\"checkbox\" ><label for=\"1719876d-e0ca-4b86-96b8-06583cd13dd6\" class=\"sk-toggleable__label sk-toggleable__label-arrow\">OneHotEncoder</label><div class=\"sk-toggleable__content\"><pre>OneHotEncoder(handle_unknown=&#x27;ignore&#x27;)</pre></div></div></div></div></div></div></div></div></div></div><div class=\"sk-item\"><div class=\"sk-estimator sk-toggleable\"><input class=\"sk-toggleable__control sk-hidden--visually\" id=\"f02a47db-5af4-4406-8b2e-09b755d47b84\" type=\"checkbox\" ><label for=\"f02a47db-5af4-4406-8b2e-09b755d47b84\" class=\"sk-toggleable__label sk-toggleable__label-arrow\">RandomForestClassifier</label><div class=\"sk-toggleable__content\"><pre>RandomForestClassifier(random_state=1902)</pre></div></div></div></div></div></div></div>"
     },
     "execution_count": 9,
     "metadata": {},
     "output_type": "execute_result"
    }
   ]
  },
  {
   "cell_type": "code",
   "source": [
    "# Base Results\n",
    "y_test_preds = clf_RF.predict(X_test)\n",
    "y_train_preds = clf_RF.predict(X_train)\n",
    "\n",
    "print('Accuracy (train):', accuracy_score(y_train, y_train_preds))\n",
    "print('Accuracy (test):', accuracy_score(y_test, y_test_preds))"
   ],
   "metadata": {
    "execution": {
     "iopub.status.busy": "2022-01-23T19:45:50.982743Z",
     "iopub.execute_input": "2022-01-23T19:45:50.983728Z",
     "iopub.status.idle": "2022-01-23T19:45:51.066855Z",
     "shell.execute_reply.started": "2022-01-23T19:45:50.983645Z",
     "shell.execute_reply": "2022-01-23T19:45:51.066029Z"
    },
    "trusted": true
   },
   "execution_count": 10,
   "outputs": [
    {
     "name": "stdout",
     "output_type": "stream",
     "text": [
      "Accuracy (train): 0.9789325842696629\n",
      "Accuracy (test): 0.8100558659217877\n"
     ]
    }
   ]
  },
  {
   "cell_type": "markdown",
   "source": [
    "## XGBoost"
   ],
   "metadata": {}
  },
  {
   "cell_type": "code",
   "source": [
    "# Define model\n",
    "model = XGBClassifier(n_estimators=100, random_state=1902)\n",
    "\n",
    "# Bundle preprocessing and modeling code in a pipeline\n",
    "clf_XGB = Pipeline(steps=[\n",
    "    ('preprocessor', preprocessor),\n",
    "    ('model', model)\n",
    "                        ]\n",
    "                 )\n",
    "# Preprocessing of training data, fit model \n",
    "clf_XGB.fit(X_train, y_train)"
   ],
   "metadata": {
    "execution": {
     "iopub.status.busy": "2022-01-23T19:52:39.563603Z",
     "iopub.execute_input": "2022-01-23T19:52:39.564077Z",
     "iopub.status.idle": "2022-01-23T19:52:39.706666Z",
     "shell.execute_reply.started": "2022-01-23T19:52:39.564043Z",
     "shell.execute_reply": "2022-01-23T19:52:39.706031Z"
    },
    "trusted": true
   },
   "execution_count": 14,
   "outputs": [
    {
     "name": "stdout",
     "output_type": "stream",
     "text": [
      "[23:34:15] WARNING: /Users/runner/work/xgboost/xgboost/src/learner.cc:1115: Starting in XGBoost 1.3.0, the default evaluation metric used with the objective 'binary:logistic' was changed from 'error' to 'logloss'. Explicitly set eval_metric if you'd like to restore the old behavior.\n"
     ]
    },
    {
     "name": "stderr",
     "output_type": "stream",
     "text": [
      "/Users/evgeny/PycharmProjects/Titanic/venv/lib/python3.9/site-packages/xgboost/sklearn.py:1224: UserWarning: The use of label encoder in XGBClassifier is deprecated and will be removed in a future release. To remove this warning, do the following: 1) Pass option use_label_encoder=False when constructing XGBClassifier object; and 2) Encode your labels (y) as integers starting with 0, i.e. 0, 1, 2, ..., [num_class - 1].\n",
      "  warnings.warn(label_encoder_deprecation_msg, UserWarning)\n"
     ]
    },
    {
     "data": {
      "text/plain": "Pipeline(steps=[('preprocessor',\n                 ColumnTransformer(transformers=[('num',\n                                                  SimpleImputer(strategy='constant'),\n                                                  ['Age', 'SibSp', 'Parch',\n                                                   'Fare']),\n                                                 ('cat',\n                                                  Pipeline(steps=[('imputer',\n                                                                   SimpleImputer(strategy='most_frequent')),\n                                                                  ('onehot',\n                                                                   OneHotEncoder(handle_unknown='ignore'))]),\n                                                  ['Pclass', 'Sex',\n                                                   'Embarked'])])),\n                ('model',\n                 XGBClassifier(base_score=0.5, booster='gbtree...\n                               gamma=0, gpu_id=-1, importance_type=None,\n                               interaction_constraints='',\n                               learning_rate=0.300000012, max_delta_step=0,\n                               max_depth=6, min_child_weight=1, missing=nan,\n                               monotone_constraints='()', n_estimators=100,\n                               n_jobs=12, num_parallel_tree=1, predictor='auto',\n                               random_state=1902, reg_alpha=0, reg_lambda=1,\n                               scale_pos_weight=1, subsample=1,\n                               tree_method='exact', validate_parameters=1,\n                               verbosity=None))])",
      "text/html": "<style>#sk-7880778b-9122-427a-9b77-04444bde3509 {color: black;background-color: white;}#sk-7880778b-9122-427a-9b77-04444bde3509 pre{padding: 0;}#sk-7880778b-9122-427a-9b77-04444bde3509 div.sk-toggleable {background-color: white;}#sk-7880778b-9122-427a-9b77-04444bde3509 label.sk-toggleable__label {cursor: pointer;display: block;width: 100%;margin-bottom: 0;padding: 0.3em;box-sizing: border-box;text-align: center;}#sk-7880778b-9122-427a-9b77-04444bde3509 label.sk-toggleable__label-arrow:before {content: \"▸\";float: left;margin-right: 0.25em;color: #696969;}#sk-7880778b-9122-427a-9b77-04444bde3509 label.sk-toggleable__label-arrow:hover:before {color: black;}#sk-7880778b-9122-427a-9b77-04444bde3509 div.sk-estimator:hover label.sk-toggleable__label-arrow:before {color: black;}#sk-7880778b-9122-427a-9b77-04444bde3509 div.sk-toggleable__content {max-height: 0;max-width: 0;overflow: hidden;text-align: left;background-color: #f0f8ff;}#sk-7880778b-9122-427a-9b77-04444bde3509 div.sk-toggleable__content pre {margin: 0.2em;color: black;border-radius: 0.25em;background-color: #f0f8ff;}#sk-7880778b-9122-427a-9b77-04444bde3509 input.sk-toggleable__control:checked~div.sk-toggleable__content {max-height: 200px;max-width: 100%;overflow: auto;}#sk-7880778b-9122-427a-9b77-04444bde3509 input.sk-toggleable__control:checked~label.sk-toggleable__label-arrow:before {content: \"▾\";}#sk-7880778b-9122-427a-9b77-04444bde3509 div.sk-estimator input.sk-toggleable__control:checked~label.sk-toggleable__label {background-color: #d4ebff;}#sk-7880778b-9122-427a-9b77-04444bde3509 div.sk-label input.sk-toggleable__control:checked~label.sk-toggleable__label {background-color: #d4ebff;}#sk-7880778b-9122-427a-9b77-04444bde3509 input.sk-hidden--visually {border: 0;clip: rect(1px 1px 1px 1px);clip: rect(1px, 1px, 1px, 1px);height: 1px;margin: -1px;overflow: hidden;padding: 0;position: absolute;width: 1px;}#sk-7880778b-9122-427a-9b77-04444bde3509 div.sk-estimator {font-family: monospace;background-color: #f0f8ff;border: 1px dotted black;border-radius: 0.25em;box-sizing: border-box;margin-bottom: 0.5em;}#sk-7880778b-9122-427a-9b77-04444bde3509 div.sk-estimator:hover {background-color: #d4ebff;}#sk-7880778b-9122-427a-9b77-04444bde3509 div.sk-parallel-item::after {content: \"\";width: 100%;border-bottom: 1px solid gray;flex-grow: 1;}#sk-7880778b-9122-427a-9b77-04444bde3509 div.sk-label:hover label.sk-toggleable__label {background-color: #d4ebff;}#sk-7880778b-9122-427a-9b77-04444bde3509 div.sk-serial::before {content: \"\";position: absolute;border-left: 1px solid gray;box-sizing: border-box;top: 2em;bottom: 0;left: 50%;}#sk-7880778b-9122-427a-9b77-04444bde3509 div.sk-serial {display: flex;flex-direction: column;align-items: center;background-color: white;padding-right: 0.2em;padding-left: 0.2em;}#sk-7880778b-9122-427a-9b77-04444bde3509 div.sk-item {z-index: 1;}#sk-7880778b-9122-427a-9b77-04444bde3509 div.sk-parallel {display: flex;align-items: stretch;justify-content: center;background-color: white;}#sk-7880778b-9122-427a-9b77-04444bde3509 div.sk-parallel::before {content: \"\";position: absolute;border-left: 1px solid gray;box-sizing: border-box;top: 2em;bottom: 0;left: 50%;}#sk-7880778b-9122-427a-9b77-04444bde3509 div.sk-parallel-item {display: flex;flex-direction: column;position: relative;background-color: white;}#sk-7880778b-9122-427a-9b77-04444bde3509 div.sk-parallel-item:first-child::after {align-self: flex-end;width: 50%;}#sk-7880778b-9122-427a-9b77-04444bde3509 div.sk-parallel-item:last-child::after {align-self: flex-start;width: 50%;}#sk-7880778b-9122-427a-9b77-04444bde3509 div.sk-parallel-item:only-child::after {width: 0;}#sk-7880778b-9122-427a-9b77-04444bde3509 div.sk-dashed-wrapped {border: 1px dashed gray;margin: 0 0.4em 0.5em 0.4em;box-sizing: border-box;padding-bottom: 0.4em;background-color: white;position: relative;}#sk-7880778b-9122-427a-9b77-04444bde3509 div.sk-label label {font-family: monospace;font-weight: bold;background-color: white;display: inline-block;line-height: 1.2em;}#sk-7880778b-9122-427a-9b77-04444bde3509 div.sk-label-container {position: relative;z-index: 2;text-align: center;}#sk-7880778b-9122-427a-9b77-04444bde3509 div.sk-container {/* jupyter's `normalize.less` sets `[hidden] { display: none; }` but bootstrap.min.css set `[hidden] { display: none !important; }` so we also need the `!important` here to be able to override the default hidden behavior on the sphinx rendered scikit-learn.org. See: https://github.com/scikit-learn/scikit-learn/issues/21755 */display: inline-block !important;position: relative;}#sk-7880778b-9122-427a-9b77-04444bde3509 div.sk-text-repr-fallback {display: none;}</style><div id=\"sk-7880778b-9122-427a-9b77-04444bde3509\" class=\"sk-top-container\"><div class=\"sk-text-repr-fallback\"><pre>Pipeline(steps=[(&#x27;preprocessor&#x27;,\n                 ColumnTransformer(transformers=[(&#x27;num&#x27;,\n                                                  SimpleImputer(strategy=&#x27;constant&#x27;),\n                                                  [&#x27;Age&#x27;, &#x27;SibSp&#x27;, &#x27;Parch&#x27;,\n                                                   &#x27;Fare&#x27;]),\n                                                 (&#x27;cat&#x27;,\n                                                  Pipeline(steps=[(&#x27;imputer&#x27;,\n                                                                   SimpleImputer(strategy=&#x27;most_frequent&#x27;)),\n                                                                  (&#x27;onehot&#x27;,\n                                                                   OneHotEncoder(handle_unknown=&#x27;ignore&#x27;))]),\n                                                  [&#x27;Pclass&#x27;, &#x27;Sex&#x27;,\n                                                   &#x27;Embarked&#x27;])])),\n                (&#x27;model&#x27;,\n                 XGBClassifier(base_score=0.5, booster=&#x27;gbtree...\n                               gamma=0, gpu_id=-1, importance_type=None,\n                               interaction_constraints=&#x27;&#x27;,\n                               learning_rate=0.300000012, max_delta_step=0,\n                               max_depth=6, min_child_weight=1, missing=nan,\n                               monotone_constraints=&#x27;()&#x27;, n_estimators=100,\n                               n_jobs=12, num_parallel_tree=1, predictor=&#x27;auto&#x27;,\n                               random_state=1902, reg_alpha=0, reg_lambda=1,\n                               scale_pos_weight=1, subsample=1,\n                               tree_method=&#x27;exact&#x27;, validate_parameters=1,\n                               verbosity=None))])</pre><b>Please rerun this cell to show the HTML repr or trust the notebook.</b></div><div class=\"sk-container\" hidden><div class=\"sk-item sk-dashed-wrapped\"><div class=\"sk-label-container\"><div class=\"sk-label sk-toggleable\"><input class=\"sk-toggleable__control sk-hidden--visually\" id=\"66e06328-6865-458c-af4a-1521528dfb64\" type=\"checkbox\" ><label for=\"66e06328-6865-458c-af4a-1521528dfb64\" class=\"sk-toggleable__label sk-toggleable__label-arrow\">Pipeline</label><div class=\"sk-toggleable__content\"><pre>Pipeline(steps=[(&#x27;preprocessor&#x27;,\n                 ColumnTransformer(transformers=[(&#x27;num&#x27;,\n                                                  SimpleImputer(strategy=&#x27;constant&#x27;),\n                                                  [&#x27;Age&#x27;, &#x27;SibSp&#x27;, &#x27;Parch&#x27;,\n                                                   &#x27;Fare&#x27;]),\n                                                 (&#x27;cat&#x27;,\n                                                  Pipeline(steps=[(&#x27;imputer&#x27;,\n                                                                   SimpleImputer(strategy=&#x27;most_frequent&#x27;)),\n                                                                  (&#x27;onehot&#x27;,\n                                                                   OneHotEncoder(handle_unknown=&#x27;ignore&#x27;))]),\n                                                  [&#x27;Pclass&#x27;, &#x27;Sex&#x27;,\n                                                   &#x27;Embarked&#x27;])])),\n                (&#x27;model&#x27;,\n                 XGBClassifier(base_score=0.5, booster=&#x27;gbtree...\n                               gamma=0, gpu_id=-1, importance_type=None,\n                               interaction_constraints=&#x27;&#x27;,\n                               learning_rate=0.300000012, max_delta_step=0,\n                               max_depth=6, min_child_weight=1, missing=nan,\n                               monotone_constraints=&#x27;()&#x27;, n_estimators=100,\n                               n_jobs=12, num_parallel_tree=1, predictor=&#x27;auto&#x27;,\n                               random_state=1902, reg_alpha=0, reg_lambda=1,\n                               scale_pos_weight=1, subsample=1,\n                               tree_method=&#x27;exact&#x27;, validate_parameters=1,\n                               verbosity=None))])</pre></div></div></div><div class=\"sk-serial\"><div class=\"sk-item sk-dashed-wrapped\"><div class=\"sk-label-container\"><div class=\"sk-label sk-toggleable\"><input class=\"sk-toggleable__control sk-hidden--visually\" id=\"9fb360a3-e04b-4d83-b061-cac2c42b9141\" type=\"checkbox\" ><label for=\"9fb360a3-e04b-4d83-b061-cac2c42b9141\" class=\"sk-toggleable__label sk-toggleable__label-arrow\">preprocessor: ColumnTransformer</label><div class=\"sk-toggleable__content\"><pre>ColumnTransformer(transformers=[(&#x27;num&#x27;, SimpleImputer(strategy=&#x27;constant&#x27;),\n                                 [&#x27;Age&#x27;, &#x27;SibSp&#x27;, &#x27;Parch&#x27;, &#x27;Fare&#x27;]),\n                                (&#x27;cat&#x27;,\n                                 Pipeline(steps=[(&#x27;imputer&#x27;,\n                                                  SimpleImputer(strategy=&#x27;most_frequent&#x27;)),\n                                                 (&#x27;onehot&#x27;,\n                                                  OneHotEncoder(handle_unknown=&#x27;ignore&#x27;))]),\n                                 [&#x27;Pclass&#x27;, &#x27;Sex&#x27;, &#x27;Embarked&#x27;])])</pre></div></div></div><div class=\"sk-parallel\"><div class=\"sk-parallel-item\"><div class=\"sk-item\"><div class=\"sk-label-container\"><div class=\"sk-label sk-toggleable\"><input class=\"sk-toggleable__control sk-hidden--visually\" id=\"35f196a3-03d1-418d-9780-035de5c27ab5\" type=\"checkbox\" ><label for=\"35f196a3-03d1-418d-9780-035de5c27ab5\" class=\"sk-toggleable__label sk-toggleable__label-arrow\">num</label><div class=\"sk-toggleable__content\"><pre>[&#x27;Age&#x27;, &#x27;SibSp&#x27;, &#x27;Parch&#x27;, &#x27;Fare&#x27;]</pre></div></div></div><div class=\"sk-serial\"><div class=\"sk-item\"><div class=\"sk-estimator sk-toggleable\"><input class=\"sk-toggleable__control sk-hidden--visually\" id=\"c8a604ce-e7ec-481d-956b-30491295c3f8\" type=\"checkbox\" ><label for=\"c8a604ce-e7ec-481d-956b-30491295c3f8\" class=\"sk-toggleable__label sk-toggleable__label-arrow\">SimpleImputer</label><div class=\"sk-toggleable__content\"><pre>SimpleImputer(strategy=&#x27;constant&#x27;)</pre></div></div></div></div></div></div><div class=\"sk-parallel-item\"><div class=\"sk-item\"><div class=\"sk-label-container\"><div class=\"sk-label sk-toggleable\"><input class=\"sk-toggleable__control sk-hidden--visually\" id=\"de8dc71b-e9b0-4ec0-91b8-84c731c4f886\" type=\"checkbox\" ><label for=\"de8dc71b-e9b0-4ec0-91b8-84c731c4f886\" class=\"sk-toggleable__label sk-toggleable__label-arrow\">cat</label><div class=\"sk-toggleable__content\"><pre>[&#x27;Pclass&#x27;, &#x27;Sex&#x27;, &#x27;Embarked&#x27;]</pre></div></div></div><div class=\"sk-serial\"><div class=\"sk-item\"><div class=\"sk-serial\"><div class=\"sk-item\"><div class=\"sk-estimator sk-toggleable\"><input class=\"sk-toggleable__control sk-hidden--visually\" id=\"812c84f5-4fcd-471e-a4b3-4ccd3a3bd45d\" type=\"checkbox\" ><label for=\"812c84f5-4fcd-471e-a4b3-4ccd3a3bd45d\" class=\"sk-toggleable__label sk-toggleable__label-arrow\">SimpleImputer</label><div class=\"sk-toggleable__content\"><pre>SimpleImputer(strategy=&#x27;most_frequent&#x27;)</pre></div></div></div><div class=\"sk-item\"><div class=\"sk-estimator sk-toggleable\"><input class=\"sk-toggleable__control sk-hidden--visually\" id=\"0e57c552-a1c6-40a9-87e4-c1bc8dec8402\" type=\"checkbox\" ><label for=\"0e57c552-a1c6-40a9-87e4-c1bc8dec8402\" class=\"sk-toggleable__label sk-toggleable__label-arrow\">OneHotEncoder</label><div class=\"sk-toggleable__content\"><pre>OneHotEncoder(handle_unknown=&#x27;ignore&#x27;)</pre></div></div></div></div></div></div></div></div></div></div><div class=\"sk-item\"><div class=\"sk-estimator sk-toggleable\"><input class=\"sk-toggleable__control sk-hidden--visually\" id=\"d4a79be5-ab9a-40f9-a320-b5974f23d471\" type=\"checkbox\" ><label for=\"d4a79be5-ab9a-40f9-a320-b5974f23d471\" class=\"sk-toggleable__label sk-toggleable__label-arrow\">XGBClassifier</label><div class=\"sk-toggleable__content\"><pre>XGBClassifier(base_score=0.5, booster=&#x27;gbtree&#x27;, colsample_bylevel=1,\n              colsample_bynode=1, colsample_bytree=1, enable_categorical=False,\n              gamma=0, gpu_id=-1, importance_type=None,\n              interaction_constraints=&#x27;&#x27;, learning_rate=0.300000012,\n              max_delta_step=0, max_depth=6, min_child_weight=1, missing=nan,\n              monotone_constraints=&#x27;()&#x27;, n_estimators=100, n_jobs=12,\n              num_parallel_tree=1, predictor=&#x27;auto&#x27;, random_state=1902,\n              reg_alpha=0, reg_lambda=1, scale_pos_weight=1, subsample=1,\n              tree_method=&#x27;exact&#x27;, validate_parameters=1, verbosity=None)</pre></div></div></div></div></div></div></div>"
     },
     "execution_count": 14,
     "metadata": {},
     "output_type": "execute_result"
    }
   ]
  },
  {
   "cell_type": "code",
   "source": [
    "# Base Results\n",
    "y_test_preds = clf_XGB.predict(X_test)\n",
    "y_train_preds = clf_XGB.predict(X_train)\n",
    "\n",
    "print('Accuracy (train):', accuracy_score(y_train, y_train_preds))\n",
    "print('Accuracy (test):', accuracy_score(y_test, y_test_preds))"
   ],
   "metadata": {
    "execution": {
     "iopub.status.busy": "2022-01-23T19:52:41.983371Z",
     "iopub.execute_input": "2022-01-23T19:52:41.984002Z",
     "iopub.status.idle": "2022-01-23T19:52:42.016978Z",
     "shell.execute_reply.started": "2022-01-23T19:52:41.983943Z",
     "shell.execute_reply": "2022-01-23T19:52:42.016353Z"
    },
    "trusted": true
   },
   "execution_count": 15,
   "outputs": [
    {
     "name": "stdout",
     "output_type": "stream",
     "text": [
      "Accuracy (train): 0.9662921348314607\n",
      "Accuracy (test): 0.8044692737430168\n"
     ]
    }
   ]
  },
  {
   "cell_type": "code",
   "source": [
    "gs_params = {}"
   ],
   "metadata": {
    "execution": {
     "iopub.status.busy": "2022-01-23T19:46:35.60413Z",
     "iopub.execute_input": "2022-01-23T19:46:35.604531Z",
     "iopub.status.idle": "2022-01-23T19:46:35.608533Z",
     "shell.execute_reply.started": "2022-01-23T19:46:35.604493Z",
     "shell.execute_reply": "2022-01-23T19:46:35.607511Z"
    },
    "trusted": true
   },
   "execution_count": 16,
   "outputs": []
  },
  {
   "cell_type": "code",
   "source": [
    "gs_params[1] = {'model__n_estimators':[10,25,50,100]}\n",
    "gs_params[2] = {'model__learning_rate':[0.01, 0.05, 0.2, 0.3]}\n",
    "gs_params[3] = {'model__max_depth':[1, 2, 4, 8]}\n",
    "gs_params[4] = {'model__subsample':[0.3, 0.5, 0.7, 0.9]}\n",
    "gs_params[5] = {'model__gamma':[0.05, 0.1, 0.5, 1]}"
   ],
   "metadata": {
    "execution": {
     "iopub.status.busy": "2022-01-23T20:12:06.47425Z",
     "iopub.execute_input": "2022-01-23T20:12:06.474752Z",
     "iopub.status.idle": "2022-01-23T20:12:06.482434Z",
     "shell.execute_reply.started": "2022-01-23T20:12:06.474717Z",
     "shell.execute_reply": "2022-01-23T20:12:06.481229Z"
    },
    "trusted": true
   },
   "execution_count": 17,
   "outputs": []
  },
  {
   "cell_type": "markdown",
   "source": [
    "### Number of estimates"
   ],
   "metadata": {}
  },
  {
   "cell_type": "code",
   "source": [
    "gs_1 = GridSearchCV(\n",
    "    estimator=clf_XGB,\n",
    "    param_grid=gs_params[1], \n",
    "    cv=5, \n",
    "    n_jobs=-1, \n",
    "    scoring='accuracy',\n",
    "    verbose=2\n",
    ")"
   ],
   "metadata": {
    "execution": {
     "iopub.status.busy": "2022-01-23T20:06:14.439715Z",
     "iopub.execute_input": "2022-01-23T20:06:14.440107Z",
     "iopub.status.idle": "2022-01-23T20:06:14.444712Z",
     "shell.execute_reply.started": "2022-01-23T20:06:14.440075Z",
     "shell.execute_reply": "2022-01-23T20:06:14.443873Z"
    },
    "trusted": true
   },
   "execution_count": 18,
   "outputs": []
  },
  {
   "cell_type": "code",
   "source": [
    "gs_1.fit(X_train.append(X_test),y_train.append(y_test))"
   ],
   "metadata": {
    "execution": {
     "iopub.status.busy": "2022-01-23T20:08:41.412919Z",
     "iopub.execute_input": "2022-01-23T20:08:41.413511Z",
     "iopub.status.idle": "2022-01-23T20:10:31.560038Z",
     "shell.execute_reply.started": "2022-01-23T20:08:41.413476Z",
     "shell.execute_reply": "2022-01-23T20:10:31.559136Z"
    },
    "trusted": true
   },
   "execution_count": 19,
   "outputs": [
    {
     "name": "stdout",
     "output_type": "stream",
     "text": [
      "Fitting 5 folds for each of 4 candidates, totalling 20 fits\n"
     ]
    },
    {
     "name": "stderr",
     "output_type": "stream",
     "text": [
      "/var/folders/_0/nwqrty512s5bb9npv3jrwv240000gn/T/ipykernel_18044/3847894192.py:1: FutureWarning: The frame.append method is deprecated and will be removed from pandas in a future version. Use pandas.concat instead.\n",
      "  gs_1.fit(X_train.append(X_test),y_train.append(y_test))\n",
      "/var/folders/_0/nwqrty512s5bb9npv3jrwv240000gn/T/ipykernel_18044/3847894192.py:1: FutureWarning: The series.append method is deprecated and will be removed from pandas in a future version. Use pandas.concat instead.\n",
      "  gs_1.fit(X_train.append(X_test),y_train.append(y_test))\n",
      "/Users/evgeny/PycharmProjects/Titanic/venv/lib/python3.9/site-packages/xgboost/compat.py:36: FutureWarning: pandas.Int64Index is deprecated and will be removed from pandas in a future version. Use pandas.Index with the appropriate dtype instead.\n",
      "  from pandas import MultiIndex, Int64Index\n",
      "/Users/evgeny/PycharmProjects/Titanic/venv/lib/python3.9/site-packages/xgboost/compat.py:36: FutureWarning: pandas.Int64Index is deprecated and will be removed from pandas in a future version. Use pandas.Index with the appropriate dtype instead.\n",
      "  from pandas import MultiIndex, Int64Index\n",
      "/Users/evgeny/PycharmProjects/Titanic/venv/lib/python3.9/site-packages/xgboost/compat.py:36: FutureWarning: pandas.Int64Index is deprecated and will be removed from pandas in a future version. Use pandas.Index with the appropriate dtype instead.\n",
      "  from pandas import MultiIndex, Int64Index\n",
      "/Users/evgeny/PycharmProjects/Titanic/venv/lib/python3.9/site-packages/xgboost/compat.py:36: FutureWarning: pandas.Int64Index is deprecated and will be removed from pandas in a future version. Use pandas.Index with the appropriate dtype instead.\n",
      "  from pandas import MultiIndex, Int64Index\n",
      "/Users/evgeny/PycharmProjects/Titanic/venv/lib/python3.9/site-packages/xgboost/compat.py:36: FutureWarning: pandas.Int64Index is deprecated and will be removed from pandas in a future version. Use pandas.Index with the appropriate dtype instead.\n",
      "  from pandas import MultiIndex, Int64Index\n",
      "/Users/evgeny/PycharmProjects/Titanic/venv/lib/python3.9/site-packages/xgboost/compat.py:36: FutureWarning: pandas.Int64Index is deprecated and will be removed from pandas in a future version. Use pandas.Index with the appropriate dtype instead.\n",
      "  from pandas import MultiIndex, Int64Index\n",
      "/Users/evgeny/PycharmProjects/Titanic/venv/lib/python3.9/site-packages/xgboost/compat.py:36: FutureWarning: pandas.Int64Index is deprecated and will be removed from pandas in a future version. Use pandas.Index with the appropriate dtype instead.\n",
      "  from pandas import MultiIndex, Int64Index\n",
      "/Users/evgeny/PycharmProjects/Titanic/venv/lib/python3.9/site-packages/xgboost/compat.py:36: FutureWarning: pandas.Int64Index is deprecated and will be removed from pandas in a future version. Use pandas.Index with the appropriate dtype instead.\n",
      "  from pandas import MultiIndex, Int64Index\n",
      "/Users/evgeny/PycharmProjects/Titanic/venv/lib/python3.9/site-packages/xgboost/compat.py:36: FutureWarning: pandas.Int64Index is deprecated and will be removed from pandas in a future version. Use pandas.Index with the appropriate dtype instead.\n",
      "  from pandas import MultiIndex, Int64Index\n",
      "/Users/evgeny/PycharmProjects/Titanic/venv/lib/python3.9/site-packages/xgboost/compat.py:36: FutureWarning: pandas.Int64Index is deprecated and will be removed from pandas in a future version. Use pandas.Index with the appropriate dtype instead.\n",
      "  from pandas import MultiIndex, Int64Index\n",
      "/Users/evgeny/PycharmProjects/Titanic/venv/lib/python3.9/site-packages/xgboost/compat.py:36: FutureWarning: pandas.Int64Index is deprecated and will be removed from pandas in a future version. Use pandas.Index with the appropriate dtype instead.\n",
      "  from pandas import MultiIndex, Int64Index\n",
      "/Users/evgeny/PycharmProjects/Titanic/venv/lib/python3.9/site-packages/xgboost/compat.py:36: FutureWarning: pandas.Int64Index is deprecated and will be removed from pandas in a future version. Use pandas.Index with the appropriate dtype instead.\n",
      "  from pandas import MultiIndex, Int64Index\n",
      "/Users/evgeny/PycharmProjects/Titanic/venv/lib/python3.9/site-packages/xgboost/sklearn.py:1224: UserWarning: The use of label encoder in XGBClassifier is deprecated and will be removed in a future release. To remove this warning, do the following: 1) Pass option use_label_encoder=False when constructing XGBClassifier object; and 2) Encode your labels (y) as integers starting with 0, i.e. 0, 1, 2, ..., [num_class - 1].\n",
      "  warnings.warn(label_encoder_deprecation_msg, UserWarning)\n",
      "/Users/evgeny/PycharmProjects/Titanic/venv/lib/python3.9/site-packages/xgboost/sklearn.py:1224: UserWarning: The use of label encoder in XGBClassifier is deprecated and will be removed in a future release. To remove this warning, do the following: 1) Pass option use_label_encoder=False when constructing XGBClassifier object; and 2) Encode your labels (y) as integers starting with 0, i.e. 0, 1, 2, ..., [num_class - 1].\n",
      "  warnings.warn(label_encoder_deprecation_msg, UserWarning)\n",
      "/Users/evgeny/PycharmProjects/Titanic/venv/lib/python3.9/site-packages/xgboost/sklearn.py:1224: UserWarning: The use of label encoder in XGBClassifier is deprecated and will be removed in a future release. To remove this warning, do the following: 1) Pass option use_label_encoder=False when constructing XGBClassifier object; and 2) Encode your labels (y) as integers starting with 0, i.e. 0, 1, 2, ..., [num_class - 1].\n",
      "  warnings.warn(label_encoder_deprecation_msg, UserWarning)\n",
      "/Users/evgeny/PycharmProjects/Titanic/venv/lib/python3.9/site-packages/xgboost/sklearn.py:1224: UserWarning: The use of label encoder in XGBClassifier is deprecated and will be removed in a future release. To remove this warning, do the following: 1) Pass option use_label_encoder=False when constructing XGBClassifier object; and 2) Encode your labels (y) as integers starting with 0, i.e. 0, 1, 2, ..., [num_class - 1].\n",
      "  warnings.warn(label_encoder_deprecation_msg, UserWarning)\n",
      "/Users/evgeny/PycharmProjects/Titanic/venv/lib/python3.9/site-packages/xgboost/sklearn.py:1224: UserWarning: The use of label encoder in XGBClassifier is deprecated and will be removed in a future release. To remove this warning, do the following: 1) Pass option use_label_encoder=False when constructing XGBClassifier object; and 2) Encode your labels (y) as integers starting with 0, i.e. 0, 1, 2, ..., [num_class - 1].\n",
      "  warnings.warn(label_encoder_deprecation_msg, UserWarning)\n",
      "/Users/evgeny/PycharmProjects/Titanic/venv/lib/python3.9/site-packages/xgboost/sklearn.py:1224: UserWarning: The use of label encoder in XGBClassifier is deprecated and will be removed in a future release. To remove this warning, do the following: 1) Pass option use_label_encoder=False when constructing XGBClassifier object; and 2) Encode your labels (y) as integers starting with 0, i.e. 0, 1, 2, ..., [num_class - 1].\n",
      "  warnings.warn(label_encoder_deprecation_msg, UserWarning)\n",
      "/Users/evgeny/PycharmProjects/Titanic/venv/lib/python3.9/site-packages/xgboost/sklearn.py:1224: UserWarning: The use of label encoder in XGBClassifier is deprecated and will be removed in a future release. To remove this warning, do the following: 1) Pass option use_label_encoder=False when constructing XGBClassifier object; and 2) Encode your labels (y) as integers starting with 0, i.e. 0, 1, 2, ..., [num_class - 1].\n",
      "  warnings.warn(label_encoder_deprecation_msg, UserWarning)\n",
      "/Users/evgeny/PycharmProjects/Titanic/venv/lib/python3.9/site-packages/xgboost/sklearn.py:1224: UserWarning: The use of label encoder in XGBClassifier is deprecated and will be removed in a future release. To remove this warning, do the following: 1) Pass option use_label_encoder=False when constructing XGBClassifier object; and 2) Encode your labels (y) as integers starting with 0, i.e. 0, 1, 2, ..., [num_class - 1].\n",
      "  warnings.warn(label_encoder_deprecation_msg, UserWarning)\n",
      "/Users/evgeny/PycharmProjects/Titanic/venv/lib/python3.9/site-packages/xgboost/sklearn.py:1224: UserWarning: The use of label encoder in XGBClassifier is deprecated and will be removed in a future release. To remove this warning, do the following: 1) Pass option use_label_encoder=False when constructing XGBClassifier object; and 2) Encode your labels (y) as integers starting with 0, i.e. 0, 1, 2, ..., [num_class - 1].\n",
      "  warnings.warn(label_encoder_deprecation_msg, UserWarning)\n",
      "/Users/evgeny/PycharmProjects/Titanic/venv/lib/python3.9/site-packages/xgboost/sklearn.py:1224: UserWarning: The use of label encoder in XGBClassifier is deprecated and will be removed in a future release. To remove this warning, do the following: 1) Pass option use_label_encoder=False when constructing XGBClassifier object; and 2) Encode your labels (y) as integers starting with 0, i.e. 0, 1, 2, ..., [num_class - 1].\n",
      "  warnings.warn(label_encoder_deprecation_msg, UserWarning)\n",
      "/Users/evgeny/PycharmProjects/Titanic/venv/lib/python3.9/site-packages/xgboost/sklearn.py:1224: UserWarning: The use of label encoder in XGBClassifier is deprecated and will be removed in a future release. To remove this warning, do the following: 1) Pass option use_label_encoder=False when constructing XGBClassifier object; and 2) Encode your labels (y) as integers starting with 0, i.e. 0, 1, 2, ..., [num_class - 1].\n",
      "  warnings.warn(label_encoder_deprecation_msg, UserWarning)\n",
      "/Users/evgeny/PycharmProjects/Titanic/venv/lib/python3.9/site-packages/xgboost/sklearn.py:1224: UserWarning: The use of label encoder in XGBClassifier is deprecated and will be removed in a future release. To remove this warning, do the following: 1) Pass option use_label_encoder=False when constructing XGBClassifier object; and 2) Encode your labels (y) as integers starting with 0, i.e. 0, 1, 2, ..., [num_class - 1].\n",
      "  warnings.warn(label_encoder_deprecation_msg, UserWarning)\n",
      "/Users/evgeny/PycharmProjects/Titanic/venv/lib/python3.9/site-packages/xgboost/sklearn.py:1224: UserWarning: The use of label encoder in XGBClassifier is deprecated and will be removed in a future release. To remove this warning, do the following: 1) Pass option use_label_encoder=False when constructing XGBClassifier object; and 2) Encode your labels (y) as integers starting with 0, i.e. 0, 1, 2, ..., [num_class - 1].\n",
      "  warnings.warn(label_encoder_deprecation_msg, UserWarning)\n",
      "/Users/evgeny/PycharmProjects/Titanic/venv/lib/python3.9/site-packages/xgboost/sklearn.py:1224: UserWarning: The use of label encoder in XGBClassifier is deprecated and will be removed in a future release. To remove this warning, do the following: 1) Pass option use_label_encoder=False when constructing XGBClassifier object; and 2) Encode your labels (y) as integers starting with 0, i.e. 0, 1, 2, ..., [num_class - 1].\n",
      "  warnings.warn(label_encoder_deprecation_msg, UserWarning)\n",
      "/Users/evgeny/PycharmProjects/Titanic/venv/lib/python3.9/site-packages/xgboost/sklearn.py:1224: UserWarning: The use of label encoder in XGBClassifier is deprecated and will be removed in a future release. To remove this warning, do the following: 1) Pass option use_label_encoder=False when constructing XGBClassifier object; and 2) Encode your labels (y) as integers starting with 0, i.e. 0, 1, 2, ..., [num_class - 1].\n",
      "  warnings.warn(label_encoder_deprecation_msg, UserWarning)\n",
      "/Users/evgeny/PycharmProjects/Titanic/venv/lib/python3.9/site-packages/xgboost/sklearn.py:1224: UserWarning: The use of label encoder in XGBClassifier is deprecated and will be removed in a future release. To remove this warning, do the following: 1) Pass option use_label_encoder=False when constructing XGBClassifier object; and 2) Encode your labels (y) as integers starting with 0, i.e. 0, 1, 2, ..., [num_class - 1].\n",
      "  warnings.warn(label_encoder_deprecation_msg, UserWarning)\n",
      "/Users/evgeny/PycharmProjects/Titanic/venv/lib/python3.9/site-packages/xgboost/sklearn.py:1224: UserWarning: The use of label encoder in XGBClassifier is deprecated and will be removed in a future release. To remove this warning, do the following: 1) Pass option use_label_encoder=False when constructing XGBClassifier object; and 2) Encode your labels (y) as integers starting with 0, i.e. 0, 1, 2, ..., [num_class - 1].\n",
      "  warnings.warn(label_encoder_deprecation_msg, UserWarning)\n",
      "/Users/evgeny/PycharmProjects/Titanic/venv/lib/python3.9/site-packages/xgboost/sklearn.py:1224: UserWarning: The use of label encoder in XGBClassifier is deprecated and will be removed in a future release. To remove this warning, do the following: 1) Pass option use_label_encoder=False when constructing XGBClassifier object; and 2) Encode your labels (y) as integers starting with 0, i.e. 0, 1, 2, ..., [num_class - 1].\n",
      "  warnings.warn(label_encoder_deprecation_msg, UserWarning)\n",
      "/Users/evgeny/PycharmProjects/Titanic/venv/lib/python3.9/site-packages/xgboost/sklearn.py:1224: UserWarning: The use of label encoder in XGBClassifier is deprecated and will be removed in a future release. To remove this warning, do the following: 1) Pass option use_label_encoder=False when constructing XGBClassifier object; and 2) Encode your labels (y) as integers starting with 0, i.e. 0, 1, 2, ..., [num_class - 1].\n",
      "  warnings.warn(label_encoder_deprecation_msg, UserWarning)\n",
      "/Users/evgeny/PycharmProjects/Titanic/venv/lib/python3.9/site-packages/xgboost/sklearn.py:1224: UserWarning: The use of label encoder in XGBClassifier is deprecated and will be removed in a future release. To remove this warning, do the following: 1) Pass option use_label_encoder=False when constructing XGBClassifier object; and 2) Encode your labels (y) as integers starting with 0, i.e. 0, 1, 2, ..., [num_class - 1].\n",
      "  warnings.warn(label_encoder_deprecation_msg, UserWarning)\n",
      "/Users/evgeny/PycharmProjects/Titanic/venv/lib/python3.9/site-packages/xgboost/sklearn.py:1224: UserWarning: The use of label encoder in XGBClassifier is deprecated and will be removed in a future release. To remove this warning, do the following: 1) Pass option use_label_encoder=False when constructing XGBClassifier object; and 2) Encode your labels (y) as integers starting with 0, i.e. 0, 1, 2, ..., [num_class - 1].\n",
      "  warnings.warn(label_encoder_deprecation_msg, UserWarning)\n"
     ]
    },
    {
     "name": "stdout",
     "output_type": "stream",
     "text": [
      "[23:34:26] WARNING: /Users/runner/work/xgboost/xgboost/src/learner.cc:1115: Starting in XGBoost 1.3.0, the default evaluation metric used with the objective 'binary:logistic' was changed from 'error' to 'logloss'. Explicitly set eval_metric if you'd like to restore the old behavior.\n"
     ]
    },
    {
     "data": {
      "text/plain": "GridSearchCV(cv=5,\n             estimator=Pipeline(steps=[('preprocessor',\n                                        ColumnTransformer(transformers=[('num',\n                                                                         SimpleImputer(strategy='constant'),\n                                                                         ['Age',\n                                                                          'SibSp',\n                                                                          'Parch',\n                                                                          'Fare']),\n                                                                        ('cat',\n                                                                         Pipeline(steps=[('imputer',\n                                                                                          SimpleImputer(strategy='most_frequent')),\n                                                                                         ('onehot',\n                                                                                          OneHotEncoder(handle_unknown='ignore'))]),\n                                                                         ['Pclass',\n                                                                          'Sex',\n                                                                          'Embarked'])])),\n                                       ('model',\n                                        XGBClassifier(ba...\n                                                      max_depth=6,\n                                                      min_child_weight=1,\n                                                      missing=nan,\n                                                      monotone_constraints='()',\n                                                      n_estimators=100,\n                                                      n_jobs=12,\n                                                      num_parallel_tree=1,\n                                                      predictor='auto',\n                                                      random_state=1902,\n                                                      reg_alpha=0, reg_lambda=1,\n                                                      scale_pos_weight=1,\n                                                      subsample=1,\n                                                      tree_method='exact',\n                                                      validate_parameters=1,\n                                                      verbosity=None))]),\n             n_jobs=-1, param_grid={'model__n_estimators': [10, 25, 50, 100]},\n             scoring='accuracy', verbose=2)",
      "text/html": "<style>#sk-cff6a2cc-0c76-4c18-a248-8f4202f5bd32 {color: black;background-color: white;}#sk-cff6a2cc-0c76-4c18-a248-8f4202f5bd32 pre{padding: 0;}#sk-cff6a2cc-0c76-4c18-a248-8f4202f5bd32 div.sk-toggleable {background-color: white;}#sk-cff6a2cc-0c76-4c18-a248-8f4202f5bd32 label.sk-toggleable__label {cursor: pointer;display: block;width: 100%;margin-bottom: 0;padding: 0.3em;box-sizing: border-box;text-align: center;}#sk-cff6a2cc-0c76-4c18-a248-8f4202f5bd32 label.sk-toggleable__label-arrow:before {content: \"▸\";float: left;margin-right: 0.25em;color: #696969;}#sk-cff6a2cc-0c76-4c18-a248-8f4202f5bd32 label.sk-toggleable__label-arrow:hover:before {color: black;}#sk-cff6a2cc-0c76-4c18-a248-8f4202f5bd32 div.sk-estimator:hover label.sk-toggleable__label-arrow:before {color: black;}#sk-cff6a2cc-0c76-4c18-a248-8f4202f5bd32 div.sk-toggleable__content {max-height: 0;max-width: 0;overflow: hidden;text-align: left;background-color: #f0f8ff;}#sk-cff6a2cc-0c76-4c18-a248-8f4202f5bd32 div.sk-toggleable__content pre {margin: 0.2em;color: black;border-radius: 0.25em;background-color: #f0f8ff;}#sk-cff6a2cc-0c76-4c18-a248-8f4202f5bd32 input.sk-toggleable__control:checked~div.sk-toggleable__content {max-height: 200px;max-width: 100%;overflow: auto;}#sk-cff6a2cc-0c76-4c18-a248-8f4202f5bd32 input.sk-toggleable__control:checked~label.sk-toggleable__label-arrow:before {content: \"▾\";}#sk-cff6a2cc-0c76-4c18-a248-8f4202f5bd32 div.sk-estimator input.sk-toggleable__control:checked~label.sk-toggleable__label {background-color: #d4ebff;}#sk-cff6a2cc-0c76-4c18-a248-8f4202f5bd32 div.sk-label input.sk-toggleable__control:checked~label.sk-toggleable__label {background-color: #d4ebff;}#sk-cff6a2cc-0c76-4c18-a248-8f4202f5bd32 input.sk-hidden--visually {border: 0;clip: rect(1px 1px 1px 1px);clip: rect(1px, 1px, 1px, 1px);height: 1px;margin: -1px;overflow: hidden;padding: 0;position: absolute;width: 1px;}#sk-cff6a2cc-0c76-4c18-a248-8f4202f5bd32 div.sk-estimator {font-family: monospace;background-color: #f0f8ff;border: 1px dotted black;border-radius: 0.25em;box-sizing: border-box;margin-bottom: 0.5em;}#sk-cff6a2cc-0c76-4c18-a248-8f4202f5bd32 div.sk-estimator:hover {background-color: #d4ebff;}#sk-cff6a2cc-0c76-4c18-a248-8f4202f5bd32 div.sk-parallel-item::after {content: \"\";width: 100%;border-bottom: 1px solid gray;flex-grow: 1;}#sk-cff6a2cc-0c76-4c18-a248-8f4202f5bd32 div.sk-label:hover label.sk-toggleable__label {background-color: #d4ebff;}#sk-cff6a2cc-0c76-4c18-a248-8f4202f5bd32 div.sk-serial::before {content: \"\";position: absolute;border-left: 1px solid gray;box-sizing: border-box;top: 2em;bottom: 0;left: 50%;}#sk-cff6a2cc-0c76-4c18-a248-8f4202f5bd32 div.sk-serial {display: flex;flex-direction: column;align-items: center;background-color: white;padding-right: 0.2em;padding-left: 0.2em;}#sk-cff6a2cc-0c76-4c18-a248-8f4202f5bd32 div.sk-item {z-index: 1;}#sk-cff6a2cc-0c76-4c18-a248-8f4202f5bd32 div.sk-parallel {display: flex;align-items: stretch;justify-content: center;background-color: white;}#sk-cff6a2cc-0c76-4c18-a248-8f4202f5bd32 div.sk-parallel::before {content: \"\";position: absolute;border-left: 1px solid gray;box-sizing: border-box;top: 2em;bottom: 0;left: 50%;}#sk-cff6a2cc-0c76-4c18-a248-8f4202f5bd32 div.sk-parallel-item {display: flex;flex-direction: column;position: relative;background-color: white;}#sk-cff6a2cc-0c76-4c18-a248-8f4202f5bd32 div.sk-parallel-item:first-child::after {align-self: flex-end;width: 50%;}#sk-cff6a2cc-0c76-4c18-a248-8f4202f5bd32 div.sk-parallel-item:last-child::after {align-self: flex-start;width: 50%;}#sk-cff6a2cc-0c76-4c18-a248-8f4202f5bd32 div.sk-parallel-item:only-child::after {width: 0;}#sk-cff6a2cc-0c76-4c18-a248-8f4202f5bd32 div.sk-dashed-wrapped {border: 1px dashed gray;margin: 0 0.4em 0.5em 0.4em;box-sizing: border-box;padding-bottom: 0.4em;background-color: white;position: relative;}#sk-cff6a2cc-0c76-4c18-a248-8f4202f5bd32 div.sk-label label {font-family: monospace;font-weight: bold;background-color: white;display: inline-block;line-height: 1.2em;}#sk-cff6a2cc-0c76-4c18-a248-8f4202f5bd32 div.sk-label-container {position: relative;z-index: 2;text-align: center;}#sk-cff6a2cc-0c76-4c18-a248-8f4202f5bd32 div.sk-container {/* jupyter's `normalize.less` sets `[hidden] { display: none; }` but bootstrap.min.css set `[hidden] { display: none !important; }` so we also need the `!important` here to be able to override the default hidden behavior on the sphinx rendered scikit-learn.org. See: https://github.com/scikit-learn/scikit-learn/issues/21755 */display: inline-block !important;position: relative;}#sk-cff6a2cc-0c76-4c18-a248-8f4202f5bd32 div.sk-text-repr-fallback {display: none;}</style><div id=\"sk-cff6a2cc-0c76-4c18-a248-8f4202f5bd32\" class=\"sk-top-container\"><div class=\"sk-text-repr-fallback\"><pre>GridSearchCV(cv=5,\n             estimator=Pipeline(steps=[(&#x27;preprocessor&#x27;,\n                                        ColumnTransformer(transformers=[(&#x27;num&#x27;,\n                                                                         SimpleImputer(strategy=&#x27;constant&#x27;),\n                                                                         [&#x27;Age&#x27;,\n                                                                          &#x27;SibSp&#x27;,\n                                                                          &#x27;Parch&#x27;,\n                                                                          &#x27;Fare&#x27;]),\n                                                                        (&#x27;cat&#x27;,\n                                                                         Pipeline(steps=[(&#x27;imputer&#x27;,\n                                                                                          SimpleImputer(strategy=&#x27;most_frequent&#x27;)),\n                                                                                         (&#x27;onehot&#x27;,\n                                                                                          OneHotEncoder(handle_unknown=&#x27;ignore&#x27;))]),\n                                                                         [&#x27;Pclass&#x27;,\n                                                                          &#x27;Sex&#x27;,\n                                                                          &#x27;Embarked&#x27;])])),\n                                       (&#x27;model&#x27;,\n                                        XGBClassifier(ba...\n                                                      max_depth=6,\n                                                      min_child_weight=1,\n                                                      missing=nan,\n                                                      monotone_constraints=&#x27;()&#x27;,\n                                                      n_estimators=100,\n                                                      n_jobs=12,\n                                                      num_parallel_tree=1,\n                                                      predictor=&#x27;auto&#x27;,\n                                                      random_state=1902,\n                                                      reg_alpha=0, reg_lambda=1,\n                                                      scale_pos_weight=1,\n                                                      subsample=1,\n                                                      tree_method=&#x27;exact&#x27;,\n                                                      validate_parameters=1,\n                                                      verbosity=None))]),\n             n_jobs=-1, param_grid={&#x27;model__n_estimators&#x27;: [10, 25, 50, 100]},\n             scoring=&#x27;accuracy&#x27;, verbose=2)</pre><b>Please rerun this cell to show the HTML repr or trust the notebook.</b></div><div class=\"sk-container\" hidden><div class=\"sk-item sk-dashed-wrapped\"><div class=\"sk-label-container\"><div class=\"sk-label sk-toggleable\"><input class=\"sk-toggleable__control sk-hidden--visually\" id=\"ee62a169-a283-428c-97dd-3d0517f957d6\" type=\"checkbox\" ><label for=\"ee62a169-a283-428c-97dd-3d0517f957d6\" class=\"sk-toggleable__label sk-toggleable__label-arrow\">GridSearchCV</label><div class=\"sk-toggleable__content\"><pre>GridSearchCV(cv=5,\n             estimator=Pipeline(steps=[(&#x27;preprocessor&#x27;,\n                                        ColumnTransformer(transformers=[(&#x27;num&#x27;,\n                                                                         SimpleImputer(strategy=&#x27;constant&#x27;),\n                                                                         [&#x27;Age&#x27;,\n                                                                          &#x27;SibSp&#x27;,\n                                                                          &#x27;Parch&#x27;,\n                                                                          &#x27;Fare&#x27;]),\n                                                                        (&#x27;cat&#x27;,\n                                                                         Pipeline(steps=[(&#x27;imputer&#x27;,\n                                                                                          SimpleImputer(strategy=&#x27;most_frequent&#x27;)),\n                                                                                         (&#x27;onehot&#x27;,\n                                                                                          OneHotEncoder(handle_unknown=&#x27;ignore&#x27;))]),\n                                                                         [&#x27;Pclass&#x27;,\n                                                                          &#x27;Sex&#x27;,\n                                                                          &#x27;Embarked&#x27;])])),\n                                       (&#x27;model&#x27;,\n                                        XGBClassifier(ba...\n                                                      max_depth=6,\n                                                      min_child_weight=1,\n                                                      missing=nan,\n                                                      monotone_constraints=&#x27;()&#x27;,\n                                                      n_estimators=100,\n                                                      n_jobs=12,\n                                                      num_parallel_tree=1,\n                                                      predictor=&#x27;auto&#x27;,\n                                                      random_state=1902,\n                                                      reg_alpha=0, reg_lambda=1,\n                                                      scale_pos_weight=1,\n                                                      subsample=1,\n                                                      tree_method=&#x27;exact&#x27;,\n                                                      validate_parameters=1,\n                                                      verbosity=None))]),\n             n_jobs=-1, param_grid={&#x27;model__n_estimators&#x27;: [10, 25, 50, 100]},\n             scoring=&#x27;accuracy&#x27;, verbose=2)</pre></div></div></div><div class=\"sk-parallel\"><div class=\"sk-parallel-item\"><div class=\"sk-item\"><div class=\"sk-serial\"><div class=\"sk-item\"><div class=\"sk-serial\"><div class=\"sk-item sk-dashed-wrapped\"><div class=\"sk-label-container\"><div class=\"sk-label sk-toggleable\"><input class=\"sk-toggleable__control sk-hidden--visually\" id=\"e7eb4bd2-2178-40dc-8c11-116e9f5f0d90\" type=\"checkbox\" ><label for=\"e7eb4bd2-2178-40dc-8c11-116e9f5f0d90\" class=\"sk-toggleable__label sk-toggleable__label-arrow\">preprocessor: ColumnTransformer</label><div class=\"sk-toggleable__content\"><pre>ColumnTransformer(transformers=[(&#x27;num&#x27;, SimpleImputer(strategy=&#x27;constant&#x27;),\n                                 [&#x27;Age&#x27;, &#x27;SibSp&#x27;, &#x27;Parch&#x27;, &#x27;Fare&#x27;]),\n                                (&#x27;cat&#x27;,\n                                 Pipeline(steps=[(&#x27;imputer&#x27;,\n                                                  SimpleImputer(strategy=&#x27;most_frequent&#x27;)),\n                                                 (&#x27;onehot&#x27;,\n                                                  OneHotEncoder(handle_unknown=&#x27;ignore&#x27;))]),\n                                 [&#x27;Pclass&#x27;, &#x27;Sex&#x27;, &#x27;Embarked&#x27;])])</pre></div></div></div><div class=\"sk-parallel\"><div class=\"sk-parallel-item\"><div class=\"sk-item\"><div class=\"sk-label-container\"><div class=\"sk-label sk-toggleable\"><input class=\"sk-toggleable__control sk-hidden--visually\" id=\"764ae46e-afd6-4cab-9dd0-a29ada0832d3\" type=\"checkbox\" ><label for=\"764ae46e-afd6-4cab-9dd0-a29ada0832d3\" class=\"sk-toggleable__label sk-toggleable__label-arrow\">num</label><div class=\"sk-toggleable__content\"><pre>[&#x27;Age&#x27;, &#x27;SibSp&#x27;, &#x27;Parch&#x27;, &#x27;Fare&#x27;]</pre></div></div></div><div class=\"sk-serial\"><div class=\"sk-item\"><div class=\"sk-estimator sk-toggleable\"><input class=\"sk-toggleable__control sk-hidden--visually\" id=\"d620fcce-4e6c-4d96-bcc9-426db6ea9747\" type=\"checkbox\" ><label for=\"d620fcce-4e6c-4d96-bcc9-426db6ea9747\" class=\"sk-toggleable__label sk-toggleable__label-arrow\">SimpleImputer</label><div class=\"sk-toggleable__content\"><pre>SimpleImputer(strategy=&#x27;constant&#x27;)</pre></div></div></div></div></div></div><div class=\"sk-parallel-item\"><div class=\"sk-item\"><div class=\"sk-label-container\"><div class=\"sk-label sk-toggleable\"><input class=\"sk-toggleable__control sk-hidden--visually\" id=\"bc540c27-96a2-489a-8af2-72a228fc0e6a\" type=\"checkbox\" ><label for=\"bc540c27-96a2-489a-8af2-72a228fc0e6a\" class=\"sk-toggleable__label sk-toggleable__label-arrow\">cat</label><div class=\"sk-toggleable__content\"><pre>[&#x27;Pclass&#x27;, &#x27;Sex&#x27;, &#x27;Embarked&#x27;]</pre></div></div></div><div class=\"sk-serial\"><div class=\"sk-item\"><div class=\"sk-serial\"><div class=\"sk-item\"><div class=\"sk-estimator sk-toggleable\"><input class=\"sk-toggleable__control sk-hidden--visually\" id=\"95bc6cc2-84c3-4766-abde-beb5a47eb5db\" type=\"checkbox\" ><label for=\"95bc6cc2-84c3-4766-abde-beb5a47eb5db\" class=\"sk-toggleable__label sk-toggleable__label-arrow\">SimpleImputer</label><div class=\"sk-toggleable__content\"><pre>SimpleImputer(strategy=&#x27;most_frequent&#x27;)</pre></div></div></div><div class=\"sk-item\"><div class=\"sk-estimator sk-toggleable\"><input class=\"sk-toggleable__control sk-hidden--visually\" id=\"c860dfa0-b6d2-4eb3-897c-17800cde5129\" type=\"checkbox\" ><label for=\"c860dfa0-b6d2-4eb3-897c-17800cde5129\" class=\"sk-toggleable__label sk-toggleable__label-arrow\">OneHotEncoder</label><div class=\"sk-toggleable__content\"><pre>OneHotEncoder(handle_unknown=&#x27;ignore&#x27;)</pre></div></div></div></div></div></div></div></div></div></div><div class=\"sk-item\"><div class=\"sk-estimator sk-toggleable\"><input class=\"sk-toggleable__control sk-hidden--visually\" id=\"b0e12e8e-d093-4eeb-bf68-557be4b6f8b9\" type=\"checkbox\" ><label for=\"b0e12e8e-d093-4eeb-bf68-557be4b6f8b9\" class=\"sk-toggleable__label sk-toggleable__label-arrow\">XGBClassifier</label><div class=\"sk-toggleable__content\"><pre>XGBClassifier(base_score=0.5, booster=&#x27;gbtree&#x27;, colsample_bylevel=1,\n              colsample_bynode=1, colsample_bytree=1, enable_categorical=False,\n              gamma=0, gpu_id=-1, importance_type=None,\n              interaction_constraints=&#x27;&#x27;, learning_rate=0.300000012,\n              max_delta_step=0, max_depth=6, min_child_weight=1, missing=nan,\n              monotone_constraints=&#x27;()&#x27;, n_estimators=100, n_jobs=12,\n              num_parallel_tree=1, predictor=&#x27;auto&#x27;, random_state=1902,\n              reg_alpha=0, reg_lambda=1, scale_pos_weight=1, subsample=1,\n              tree_method=&#x27;exact&#x27;, validate_parameters=1, verbosity=None)</pre></div></div></div></div></div></div></div></div></div></div></div></div>"
     },
     "execution_count": 19,
     "metadata": {},
     "output_type": "execute_result"
    }
   ]
  },
  {
   "cell_type": "code",
   "source": [
    "print(gs_1.best_score_)\n",
    "print(gs_1.best_params_)"
   ],
   "metadata": {
    "execution": {
     "iopub.status.busy": "2022-01-23T20:10:45.885658Z",
     "iopub.execute_input": "2022-01-23T20:10:45.886116Z",
     "iopub.status.idle": "2022-01-23T20:10:45.892541Z",
     "shell.execute_reply.started": "2022-01-23T20:10:45.886076Z",
     "shell.execute_reply": "2022-01-23T20:10:45.891351Z"
    },
    "trusted": true
   },
   "execution_count": 20,
   "outputs": [
    {
     "name": "stdout",
     "output_type": "stream",
     "text": [
      "0.8159625886636117\n",
      "{'model__n_estimators': 10}\n"
     ]
    }
   ]
  },
  {
   "cell_type": "markdown",
   "source": [
    "### Learning rate"
   ],
   "metadata": {}
  },
  {
   "cell_type": "code",
   "source": [
    "gs_2 = GridSearchCV(\n",
    "    estimator=clf_XGB,\n",
    "    param_grid=gs_params[2], \n",
    "    cv=5, \n",
    "    n_jobs=-1, \n",
    "    scoring='accuracy',\n",
    "    verbose=2\n",
    ")"
   ],
   "metadata": {
    "execution": {
     "iopub.status.busy": "2022-01-23T20:12:10.093212Z",
     "iopub.execute_input": "2022-01-23T20:12:10.093609Z",
     "iopub.status.idle": "2022-01-23T20:12:10.097529Z",
     "shell.execute_reply.started": "2022-01-23T20:12:10.093584Z",
     "shell.execute_reply": "2022-01-23T20:12:10.096467Z"
    },
    "trusted": true
   },
   "execution_count": 21,
   "outputs": []
  },
  {
   "cell_type": "code",
   "source": [
    "gs_2.fit(X_train.append(X_test),y_train.append(y_test))"
   ],
   "metadata": {
    "execution": {
     "iopub.status.busy": "2022-01-23T20:12:22.815011Z",
     "iopub.execute_input": "2022-01-23T20:12:22.815352Z",
     "iopub.status.idle": "2022-01-23T20:16:36.995841Z",
     "shell.execute_reply.started": "2022-01-23T20:12:22.81532Z",
     "shell.execute_reply": "2022-01-23T20:16:36.994982Z"
    },
    "trusted": true
   },
   "execution_count": 22,
   "outputs": [
    {
     "name": "stderr",
     "output_type": "stream",
     "text": [
      "/var/folders/_0/nwqrty512s5bb9npv3jrwv240000gn/T/ipykernel_18044/3529469071.py:1: FutureWarning: The frame.append method is deprecated and will be removed from pandas in a future version. Use pandas.concat instead.\n",
      "  gs_2.fit(X_train.append(X_test),y_train.append(y_test))\n",
      "/var/folders/_0/nwqrty512s5bb9npv3jrwv240000gn/T/ipykernel_18044/3529469071.py:1: FutureWarning: The series.append method is deprecated and will be removed from pandas in a future version. Use pandas.concat instead.\n",
      "  gs_2.fit(X_train.append(X_test),y_train.append(y_test))\n",
      "/Users/evgeny/PycharmProjects/Titanic/venv/lib/python3.9/site-packages/xgboost/sklearn.py:1224: UserWarning: The use of label encoder in XGBClassifier is deprecated and will be removed in a future release. To remove this warning, do the following: 1) Pass option use_label_encoder=False when constructing XGBClassifier object; and 2) Encode your labels (y) as integers starting with 0, i.e. 0, 1, 2, ..., [num_class - 1].\n",
      "  warnings.warn(label_encoder_deprecation_msg, UserWarning)\n",
      "/Users/evgeny/PycharmProjects/Titanic/venv/lib/python3.9/site-packages/xgboost/sklearn.py:1224: UserWarning: The use of label encoder in XGBClassifier is deprecated and will be removed in a future release. To remove this warning, do the following: 1) Pass option use_label_encoder=False when constructing XGBClassifier object; and 2) Encode your labels (y) as integers starting with 0, i.e. 0, 1, 2, ..., [num_class - 1].\n",
      "  warnings.warn(label_encoder_deprecation_msg, UserWarning)\n",
      "/Users/evgeny/PycharmProjects/Titanic/venv/lib/python3.9/site-packages/xgboost/sklearn.py:1224: UserWarning: The use of label encoder in XGBClassifier is deprecated and will be removed in a future release. To remove this warning, do the following: 1) Pass option use_label_encoder=False when constructing XGBClassifier object; and 2) Encode your labels (y) as integers starting with 0, i.e. 0, 1, 2, ..., [num_class - 1].\n",
      "  warnings.warn(label_encoder_deprecation_msg, UserWarning)\n",
      "/Users/evgeny/PycharmProjects/Titanic/venv/lib/python3.9/site-packages/xgboost/sklearn.py:1224: UserWarning: The use of label encoder in XGBClassifier is deprecated and will be removed in a future release. To remove this warning, do the following: 1) Pass option use_label_encoder=False when constructing XGBClassifier object; and 2) Encode your labels (y) as integers starting with 0, i.e. 0, 1, 2, ..., [num_class - 1].\n",
      "  warnings.warn(label_encoder_deprecation_msg, UserWarning)\n",
      "/Users/evgeny/PycharmProjects/Titanic/venv/lib/python3.9/site-packages/xgboost/sklearn.py:1224: UserWarning: The use of label encoder in XGBClassifier is deprecated and will be removed in a future release. To remove this warning, do the following: 1) Pass option use_label_encoder=False when constructing XGBClassifier object; and 2) Encode your labels (y) as integers starting with 0, i.e. 0, 1, 2, ..., [num_class - 1].\n",
      "  warnings.warn(label_encoder_deprecation_msg, UserWarning)\n",
      "/Users/evgeny/PycharmProjects/Titanic/venv/lib/python3.9/site-packages/xgboost/sklearn.py:1224: UserWarning: The use of label encoder in XGBClassifier is deprecated and will be removed in a future release. To remove this warning, do the following: 1) Pass option use_label_encoder=False when constructing XGBClassifier object; and 2) Encode your labels (y) as integers starting with 0, i.e. 0, 1, 2, ..., [num_class - 1].\n",
      "  warnings.warn(label_encoder_deprecation_msg, UserWarning)\n",
      "/Users/evgeny/PycharmProjects/Titanic/venv/lib/python3.9/site-packages/xgboost/sklearn.py:1224: UserWarning: The use of label encoder in XGBClassifier is deprecated and will be removed in a future release. To remove this warning, do the following: 1) Pass option use_label_encoder=False when constructing XGBClassifier object; and 2) Encode your labels (y) as integers starting with 0, i.e. 0, 1, 2, ..., [num_class - 1].\n",
      "  warnings.warn(label_encoder_deprecation_msg, UserWarning)\n",
      "/Users/evgeny/PycharmProjects/Titanic/venv/lib/python3.9/site-packages/xgboost/sklearn.py:1224: UserWarning: The use of label encoder in XGBClassifier is deprecated and will be removed in a future release. To remove this warning, do the following: 1) Pass option use_label_encoder=False when constructing XGBClassifier object; and 2) Encode your labels (y) as integers starting with 0, i.e. 0, 1, 2, ..., [num_class - 1].\n",
      "  warnings.warn(label_encoder_deprecation_msg, UserWarning)\n",
      "/Users/evgeny/PycharmProjects/Titanic/venv/lib/python3.9/site-packages/xgboost/sklearn.py:1224: UserWarning: The use of label encoder in XGBClassifier is deprecated and will be removed in a future release. To remove this warning, do the following: 1) Pass option use_label_encoder=False when constructing XGBClassifier object; and 2) Encode your labels (y) as integers starting with 0, i.e. 0, 1, 2, ..., [num_class - 1].\n",
      "  warnings.warn(label_encoder_deprecation_msg, UserWarning)\n",
      "/Users/evgeny/PycharmProjects/Titanic/venv/lib/python3.9/site-packages/xgboost/sklearn.py:1224: UserWarning: The use of label encoder in XGBClassifier is deprecated and will be removed in a future release. To remove this warning, do the following: 1) Pass option use_label_encoder=False when constructing XGBClassifier object; and 2) Encode your labels (y) as integers starting with 0, i.e. 0, 1, 2, ..., [num_class - 1].\n",
      "  warnings.warn(label_encoder_deprecation_msg, UserWarning)\n",
      "/Users/evgeny/PycharmProjects/Titanic/venv/lib/python3.9/site-packages/xgboost/sklearn.py:1224: UserWarning: The use of label encoder in XGBClassifier is deprecated and will be removed in a future release. To remove this warning, do the following: 1) Pass option use_label_encoder=False when constructing XGBClassifier object; and 2) Encode your labels (y) as integers starting with 0, i.e. 0, 1, 2, ..., [num_class - 1].\n",
      "  warnings.warn(label_encoder_deprecation_msg, UserWarning)\n",
      "/Users/evgeny/PycharmProjects/Titanic/venv/lib/python3.9/site-packages/xgboost/sklearn.py:1224: UserWarning: The use of label encoder in XGBClassifier is deprecated and will be removed in a future release. To remove this warning, do the following: 1) Pass option use_label_encoder=False when constructing XGBClassifier object; and 2) Encode your labels (y) as integers starting with 0, i.e. 0, 1, 2, ..., [num_class - 1].\n",
      "  warnings.warn(label_encoder_deprecation_msg, UserWarning)\n"
     ]
    },
    {
     "name": "stdout",
     "output_type": "stream",
     "text": [
      "Fitting 5 folds for each of 4 candidates, totalling 20 fits\n"
     ]
    },
    {
     "name": "stderr",
     "output_type": "stream",
     "text": [
      "/Users/evgeny/PycharmProjects/Titanic/venv/lib/python3.9/site-packages/xgboost/sklearn.py:1224: UserWarning: The use of label encoder in XGBClassifier is deprecated and will be removed in a future release. To remove this warning, do the following: 1) Pass option use_label_encoder=False when constructing XGBClassifier object; and 2) Encode your labels (y) as integers starting with 0, i.e. 0, 1, 2, ..., [num_class - 1].\n",
      "  warnings.warn(label_encoder_deprecation_msg, UserWarning)\n",
      "/Users/evgeny/PycharmProjects/Titanic/venv/lib/python3.9/site-packages/xgboost/sklearn.py:1224: UserWarning: The use of label encoder in XGBClassifier is deprecated and will be removed in a future release. To remove this warning, do the following: 1) Pass option use_label_encoder=False when constructing XGBClassifier object; and 2) Encode your labels (y) as integers starting with 0, i.e. 0, 1, 2, ..., [num_class - 1].\n",
      "  warnings.warn(label_encoder_deprecation_msg, UserWarning)\n",
      "/Users/evgeny/PycharmProjects/Titanic/venv/lib/python3.9/site-packages/xgboost/sklearn.py:1224: UserWarning: The use of label encoder in XGBClassifier is deprecated and will be removed in a future release. To remove this warning, do the following: 1) Pass option use_label_encoder=False when constructing XGBClassifier object; and 2) Encode your labels (y) as integers starting with 0, i.e. 0, 1, 2, ..., [num_class - 1].\n",
      "  warnings.warn(label_encoder_deprecation_msg, UserWarning)\n",
      "/Users/evgeny/PycharmProjects/Titanic/venv/lib/python3.9/site-packages/xgboost/sklearn.py:1224: UserWarning: The use of label encoder in XGBClassifier is deprecated and will be removed in a future release. To remove this warning, do the following: 1) Pass option use_label_encoder=False when constructing XGBClassifier object; and 2) Encode your labels (y) as integers starting with 0, i.e. 0, 1, 2, ..., [num_class - 1].\n",
      "  warnings.warn(label_encoder_deprecation_msg, UserWarning)\n",
      "/Users/evgeny/PycharmProjects/Titanic/venv/lib/python3.9/site-packages/xgboost/sklearn.py:1224: UserWarning: The use of label encoder in XGBClassifier is deprecated and will be removed in a future release. To remove this warning, do the following: 1) Pass option use_label_encoder=False when constructing XGBClassifier object; and 2) Encode your labels (y) as integers starting with 0, i.e. 0, 1, 2, ..., [num_class - 1].\n",
      "  warnings.warn(label_encoder_deprecation_msg, UserWarning)\n",
      "/Users/evgeny/PycharmProjects/Titanic/venv/lib/python3.9/site-packages/xgboost/sklearn.py:1224: UserWarning: The use of label encoder in XGBClassifier is deprecated and will be removed in a future release. To remove this warning, do the following: 1) Pass option use_label_encoder=False when constructing XGBClassifier object; and 2) Encode your labels (y) as integers starting with 0, i.e. 0, 1, 2, ..., [num_class - 1].\n",
      "  warnings.warn(label_encoder_deprecation_msg, UserWarning)\n",
      "/Users/evgeny/PycharmProjects/Titanic/venv/lib/python3.9/site-packages/xgboost/sklearn.py:1224: UserWarning: The use of label encoder in XGBClassifier is deprecated and will be removed in a future release. To remove this warning, do the following: 1) Pass option use_label_encoder=False when constructing XGBClassifier object; and 2) Encode your labels (y) as integers starting with 0, i.e. 0, 1, 2, ..., [num_class - 1].\n",
      "  warnings.warn(label_encoder_deprecation_msg, UserWarning)\n",
      "/Users/evgeny/PycharmProjects/Titanic/venv/lib/python3.9/site-packages/xgboost/sklearn.py:1224: UserWarning: The use of label encoder in XGBClassifier is deprecated and will be removed in a future release. To remove this warning, do the following: 1) Pass option use_label_encoder=False when constructing XGBClassifier object; and 2) Encode your labels (y) as integers starting with 0, i.e. 0, 1, 2, ..., [num_class - 1].\n",
      "  warnings.warn(label_encoder_deprecation_msg, UserWarning)\n",
      "/Users/evgeny/PycharmProjects/Titanic/venv/lib/python3.9/site-packages/xgboost/sklearn.py:1224: UserWarning: The use of label encoder in XGBClassifier is deprecated and will be removed in a future release. To remove this warning, do the following: 1) Pass option use_label_encoder=False when constructing XGBClassifier object; and 2) Encode your labels (y) as integers starting with 0, i.e. 0, 1, 2, ..., [num_class - 1].\n",
      "  warnings.warn(label_encoder_deprecation_msg, UserWarning)\n"
     ]
    },
    {
     "name": "stdout",
     "output_type": "stream",
     "text": [
      "[23:34:37] WARNING: /Users/runner/work/xgboost/xgboost/src/learner.cc:1115: Starting in XGBoost 1.3.0, the default evaluation metric used with the objective 'binary:logistic' was changed from 'error' to 'logloss'. Explicitly set eval_metric if you'd like to restore the old behavior.\n"
     ]
    },
    {
     "data": {
      "text/plain": "GridSearchCV(cv=5,\n             estimator=Pipeline(steps=[('preprocessor',\n                                        ColumnTransformer(transformers=[('num',\n                                                                         SimpleImputer(strategy='constant'),\n                                                                         ['Age',\n                                                                          'SibSp',\n                                                                          'Parch',\n                                                                          'Fare']),\n                                                                        ('cat',\n                                                                         Pipeline(steps=[('imputer',\n                                                                                          SimpleImputer(strategy='most_frequent')),\n                                                                                         ('onehot',\n                                                                                          OneHotEncoder(handle_unknown='ignore'))]),\n                                                                         ['Pclass',\n                                                                          'Sex',\n                                                                          'Embarked'])])),\n                                       ('model',\n                                        XGBClassifier(ba...\n                                                      min_child_weight=1,\n                                                      missing=nan,\n                                                      monotone_constraints='()',\n                                                      n_estimators=100,\n                                                      n_jobs=12,\n                                                      num_parallel_tree=1,\n                                                      predictor='auto',\n                                                      random_state=1902,\n                                                      reg_alpha=0, reg_lambda=1,\n                                                      scale_pos_weight=1,\n                                                      subsample=1,\n                                                      tree_method='exact',\n                                                      validate_parameters=1,\n                                                      verbosity=None))]),\n             n_jobs=-1,\n             param_grid={'model__learning_rate': [0.01, 0.05, 0.2, 0.3]},\n             scoring='accuracy', verbose=2)",
      "text/html": "<style>#sk-b1759986-c1a2-4f70-ab4e-c8f8b85fdab0 {color: black;background-color: white;}#sk-b1759986-c1a2-4f70-ab4e-c8f8b85fdab0 pre{padding: 0;}#sk-b1759986-c1a2-4f70-ab4e-c8f8b85fdab0 div.sk-toggleable {background-color: white;}#sk-b1759986-c1a2-4f70-ab4e-c8f8b85fdab0 label.sk-toggleable__label {cursor: pointer;display: block;width: 100%;margin-bottom: 0;padding: 0.3em;box-sizing: border-box;text-align: center;}#sk-b1759986-c1a2-4f70-ab4e-c8f8b85fdab0 label.sk-toggleable__label-arrow:before {content: \"▸\";float: left;margin-right: 0.25em;color: #696969;}#sk-b1759986-c1a2-4f70-ab4e-c8f8b85fdab0 label.sk-toggleable__label-arrow:hover:before {color: black;}#sk-b1759986-c1a2-4f70-ab4e-c8f8b85fdab0 div.sk-estimator:hover label.sk-toggleable__label-arrow:before {color: black;}#sk-b1759986-c1a2-4f70-ab4e-c8f8b85fdab0 div.sk-toggleable__content {max-height: 0;max-width: 0;overflow: hidden;text-align: left;background-color: #f0f8ff;}#sk-b1759986-c1a2-4f70-ab4e-c8f8b85fdab0 div.sk-toggleable__content pre {margin: 0.2em;color: black;border-radius: 0.25em;background-color: #f0f8ff;}#sk-b1759986-c1a2-4f70-ab4e-c8f8b85fdab0 input.sk-toggleable__control:checked~div.sk-toggleable__content {max-height: 200px;max-width: 100%;overflow: auto;}#sk-b1759986-c1a2-4f70-ab4e-c8f8b85fdab0 input.sk-toggleable__control:checked~label.sk-toggleable__label-arrow:before {content: \"▾\";}#sk-b1759986-c1a2-4f70-ab4e-c8f8b85fdab0 div.sk-estimator input.sk-toggleable__control:checked~label.sk-toggleable__label {background-color: #d4ebff;}#sk-b1759986-c1a2-4f70-ab4e-c8f8b85fdab0 div.sk-label input.sk-toggleable__control:checked~label.sk-toggleable__label {background-color: #d4ebff;}#sk-b1759986-c1a2-4f70-ab4e-c8f8b85fdab0 input.sk-hidden--visually {border: 0;clip: rect(1px 1px 1px 1px);clip: rect(1px, 1px, 1px, 1px);height: 1px;margin: -1px;overflow: hidden;padding: 0;position: absolute;width: 1px;}#sk-b1759986-c1a2-4f70-ab4e-c8f8b85fdab0 div.sk-estimator {font-family: monospace;background-color: #f0f8ff;border: 1px dotted black;border-radius: 0.25em;box-sizing: border-box;margin-bottom: 0.5em;}#sk-b1759986-c1a2-4f70-ab4e-c8f8b85fdab0 div.sk-estimator:hover {background-color: #d4ebff;}#sk-b1759986-c1a2-4f70-ab4e-c8f8b85fdab0 div.sk-parallel-item::after {content: \"\";width: 100%;border-bottom: 1px solid gray;flex-grow: 1;}#sk-b1759986-c1a2-4f70-ab4e-c8f8b85fdab0 div.sk-label:hover label.sk-toggleable__label {background-color: #d4ebff;}#sk-b1759986-c1a2-4f70-ab4e-c8f8b85fdab0 div.sk-serial::before {content: \"\";position: absolute;border-left: 1px solid gray;box-sizing: border-box;top: 2em;bottom: 0;left: 50%;}#sk-b1759986-c1a2-4f70-ab4e-c8f8b85fdab0 div.sk-serial {display: flex;flex-direction: column;align-items: center;background-color: white;padding-right: 0.2em;padding-left: 0.2em;}#sk-b1759986-c1a2-4f70-ab4e-c8f8b85fdab0 div.sk-item {z-index: 1;}#sk-b1759986-c1a2-4f70-ab4e-c8f8b85fdab0 div.sk-parallel {display: flex;align-items: stretch;justify-content: center;background-color: white;}#sk-b1759986-c1a2-4f70-ab4e-c8f8b85fdab0 div.sk-parallel::before {content: \"\";position: absolute;border-left: 1px solid gray;box-sizing: border-box;top: 2em;bottom: 0;left: 50%;}#sk-b1759986-c1a2-4f70-ab4e-c8f8b85fdab0 div.sk-parallel-item {display: flex;flex-direction: column;position: relative;background-color: white;}#sk-b1759986-c1a2-4f70-ab4e-c8f8b85fdab0 div.sk-parallel-item:first-child::after {align-self: flex-end;width: 50%;}#sk-b1759986-c1a2-4f70-ab4e-c8f8b85fdab0 div.sk-parallel-item:last-child::after {align-self: flex-start;width: 50%;}#sk-b1759986-c1a2-4f70-ab4e-c8f8b85fdab0 div.sk-parallel-item:only-child::after {width: 0;}#sk-b1759986-c1a2-4f70-ab4e-c8f8b85fdab0 div.sk-dashed-wrapped {border: 1px dashed gray;margin: 0 0.4em 0.5em 0.4em;box-sizing: border-box;padding-bottom: 0.4em;background-color: white;position: relative;}#sk-b1759986-c1a2-4f70-ab4e-c8f8b85fdab0 div.sk-label label {font-family: monospace;font-weight: bold;background-color: white;display: inline-block;line-height: 1.2em;}#sk-b1759986-c1a2-4f70-ab4e-c8f8b85fdab0 div.sk-label-container {position: relative;z-index: 2;text-align: center;}#sk-b1759986-c1a2-4f70-ab4e-c8f8b85fdab0 div.sk-container {/* jupyter's `normalize.less` sets `[hidden] { display: none; }` but bootstrap.min.css set `[hidden] { display: none !important; }` so we also need the `!important` here to be able to override the default hidden behavior on the sphinx rendered scikit-learn.org. See: https://github.com/scikit-learn/scikit-learn/issues/21755 */display: inline-block !important;position: relative;}#sk-b1759986-c1a2-4f70-ab4e-c8f8b85fdab0 div.sk-text-repr-fallback {display: none;}</style><div id=\"sk-b1759986-c1a2-4f70-ab4e-c8f8b85fdab0\" class=\"sk-top-container\"><div class=\"sk-text-repr-fallback\"><pre>GridSearchCV(cv=5,\n             estimator=Pipeline(steps=[(&#x27;preprocessor&#x27;,\n                                        ColumnTransformer(transformers=[(&#x27;num&#x27;,\n                                                                         SimpleImputer(strategy=&#x27;constant&#x27;),\n                                                                         [&#x27;Age&#x27;,\n                                                                          &#x27;SibSp&#x27;,\n                                                                          &#x27;Parch&#x27;,\n                                                                          &#x27;Fare&#x27;]),\n                                                                        (&#x27;cat&#x27;,\n                                                                         Pipeline(steps=[(&#x27;imputer&#x27;,\n                                                                                          SimpleImputer(strategy=&#x27;most_frequent&#x27;)),\n                                                                                         (&#x27;onehot&#x27;,\n                                                                                          OneHotEncoder(handle_unknown=&#x27;ignore&#x27;))]),\n                                                                         [&#x27;Pclass&#x27;,\n                                                                          &#x27;Sex&#x27;,\n                                                                          &#x27;Embarked&#x27;])])),\n                                       (&#x27;model&#x27;,\n                                        XGBClassifier(ba...\n                                                      min_child_weight=1,\n                                                      missing=nan,\n                                                      monotone_constraints=&#x27;()&#x27;,\n                                                      n_estimators=100,\n                                                      n_jobs=12,\n                                                      num_parallel_tree=1,\n                                                      predictor=&#x27;auto&#x27;,\n                                                      random_state=1902,\n                                                      reg_alpha=0, reg_lambda=1,\n                                                      scale_pos_weight=1,\n                                                      subsample=1,\n                                                      tree_method=&#x27;exact&#x27;,\n                                                      validate_parameters=1,\n                                                      verbosity=None))]),\n             n_jobs=-1,\n             param_grid={&#x27;model__learning_rate&#x27;: [0.01, 0.05, 0.2, 0.3]},\n             scoring=&#x27;accuracy&#x27;, verbose=2)</pre><b>Please rerun this cell to show the HTML repr or trust the notebook.</b></div><div class=\"sk-container\" hidden><div class=\"sk-item sk-dashed-wrapped\"><div class=\"sk-label-container\"><div class=\"sk-label sk-toggleable\"><input class=\"sk-toggleable__control sk-hidden--visually\" id=\"d8318468-258c-4858-8bfa-c905da1c92b4\" type=\"checkbox\" ><label for=\"d8318468-258c-4858-8bfa-c905da1c92b4\" class=\"sk-toggleable__label sk-toggleable__label-arrow\">GridSearchCV</label><div class=\"sk-toggleable__content\"><pre>GridSearchCV(cv=5,\n             estimator=Pipeline(steps=[(&#x27;preprocessor&#x27;,\n                                        ColumnTransformer(transformers=[(&#x27;num&#x27;,\n                                                                         SimpleImputer(strategy=&#x27;constant&#x27;),\n                                                                         [&#x27;Age&#x27;,\n                                                                          &#x27;SibSp&#x27;,\n                                                                          &#x27;Parch&#x27;,\n                                                                          &#x27;Fare&#x27;]),\n                                                                        (&#x27;cat&#x27;,\n                                                                         Pipeline(steps=[(&#x27;imputer&#x27;,\n                                                                                          SimpleImputer(strategy=&#x27;most_frequent&#x27;)),\n                                                                                         (&#x27;onehot&#x27;,\n                                                                                          OneHotEncoder(handle_unknown=&#x27;ignore&#x27;))]),\n                                                                         [&#x27;Pclass&#x27;,\n                                                                          &#x27;Sex&#x27;,\n                                                                          &#x27;Embarked&#x27;])])),\n                                       (&#x27;model&#x27;,\n                                        XGBClassifier(ba...\n                                                      min_child_weight=1,\n                                                      missing=nan,\n                                                      monotone_constraints=&#x27;()&#x27;,\n                                                      n_estimators=100,\n                                                      n_jobs=12,\n                                                      num_parallel_tree=1,\n                                                      predictor=&#x27;auto&#x27;,\n                                                      random_state=1902,\n                                                      reg_alpha=0, reg_lambda=1,\n                                                      scale_pos_weight=1,\n                                                      subsample=1,\n                                                      tree_method=&#x27;exact&#x27;,\n                                                      validate_parameters=1,\n                                                      verbosity=None))]),\n             n_jobs=-1,\n             param_grid={&#x27;model__learning_rate&#x27;: [0.01, 0.05, 0.2, 0.3]},\n             scoring=&#x27;accuracy&#x27;, verbose=2)</pre></div></div></div><div class=\"sk-parallel\"><div class=\"sk-parallel-item\"><div class=\"sk-item\"><div class=\"sk-serial\"><div class=\"sk-item\"><div class=\"sk-serial\"><div class=\"sk-item sk-dashed-wrapped\"><div class=\"sk-label-container\"><div class=\"sk-label sk-toggleable\"><input class=\"sk-toggleable__control sk-hidden--visually\" id=\"514a37b7-2de7-4de8-8d28-1251d36a6b95\" type=\"checkbox\" ><label for=\"514a37b7-2de7-4de8-8d28-1251d36a6b95\" class=\"sk-toggleable__label sk-toggleable__label-arrow\">preprocessor: ColumnTransformer</label><div class=\"sk-toggleable__content\"><pre>ColumnTransformer(transformers=[(&#x27;num&#x27;, SimpleImputer(strategy=&#x27;constant&#x27;),\n                                 [&#x27;Age&#x27;, &#x27;SibSp&#x27;, &#x27;Parch&#x27;, &#x27;Fare&#x27;]),\n                                (&#x27;cat&#x27;,\n                                 Pipeline(steps=[(&#x27;imputer&#x27;,\n                                                  SimpleImputer(strategy=&#x27;most_frequent&#x27;)),\n                                                 (&#x27;onehot&#x27;,\n                                                  OneHotEncoder(handle_unknown=&#x27;ignore&#x27;))]),\n                                 [&#x27;Pclass&#x27;, &#x27;Sex&#x27;, &#x27;Embarked&#x27;])])</pre></div></div></div><div class=\"sk-parallel\"><div class=\"sk-parallel-item\"><div class=\"sk-item\"><div class=\"sk-label-container\"><div class=\"sk-label sk-toggleable\"><input class=\"sk-toggleable__control sk-hidden--visually\" id=\"1d287b54-8845-4447-82bb-92446ec7e984\" type=\"checkbox\" ><label for=\"1d287b54-8845-4447-82bb-92446ec7e984\" class=\"sk-toggleable__label sk-toggleable__label-arrow\">num</label><div class=\"sk-toggleable__content\"><pre>[&#x27;Age&#x27;, &#x27;SibSp&#x27;, &#x27;Parch&#x27;, &#x27;Fare&#x27;]</pre></div></div></div><div class=\"sk-serial\"><div class=\"sk-item\"><div class=\"sk-estimator sk-toggleable\"><input class=\"sk-toggleable__control sk-hidden--visually\" id=\"65f92ac8-c946-489c-8d0e-5fe7aa2ce8d6\" type=\"checkbox\" ><label for=\"65f92ac8-c946-489c-8d0e-5fe7aa2ce8d6\" class=\"sk-toggleable__label sk-toggleable__label-arrow\">SimpleImputer</label><div class=\"sk-toggleable__content\"><pre>SimpleImputer(strategy=&#x27;constant&#x27;)</pre></div></div></div></div></div></div><div class=\"sk-parallel-item\"><div class=\"sk-item\"><div class=\"sk-label-container\"><div class=\"sk-label sk-toggleable\"><input class=\"sk-toggleable__control sk-hidden--visually\" id=\"c2873817-f203-4061-bd13-2a2ba804eb55\" type=\"checkbox\" ><label for=\"c2873817-f203-4061-bd13-2a2ba804eb55\" class=\"sk-toggleable__label sk-toggleable__label-arrow\">cat</label><div class=\"sk-toggleable__content\"><pre>[&#x27;Pclass&#x27;, &#x27;Sex&#x27;, &#x27;Embarked&#x27;]</pre></div></div></div><div class=\"sk-serial\"><div class=\"sk-item\"><div class=\"sk-serial\"><div class=\"sk-item\"><div class=\"sk-estimator sk-toggleable\"><input class=\"sk-toggleable__control sk-hidden--visually\" id=\"8c968e01-851d-4d26-8389-4f3b765899d2\" type=\"checkbox\" ><label for=\"8c968e01-851d-4d26-8389-4f3b765899d2\" class=\"sk-toggleable__label sk-toggleable__label-arrow\">SimpleImputer</label><div class=\"sk-toggleable__content\"><pre>SimpleImputer(strategy=&#x27;most_frequent&#x27;)</pre></div></div></div><div class=\"sk-item\"><div class=\"sk-estimator sk-toggleable\"><input class=\"sk-toggleable__control sk-hidden--visually\" id=\"2734dd4e-c047-4130-a9c2-d016d5614cd0\" type=\"checkbox\" ><label for=\"2734dd4e-c047-4130-a9c2-d016d5614cd0\" class=\"sk-toggleable__label sk-toggleable__label-arrow\">OneHotEncoder</label><div class=\"sk-toggleable__content\"><pre>OneHotEncoder(handle_unknown=&#x27;ignore&#x27;)</pre></div></div></div></div></div></div></div></div></div></div><div class=\"sk-item\"><div class=\"sk-estimator sk-toggleable\"><input class=\"sk-toggleable__control sk-hidden--visually\" id=\"27c54d82-410b-4fee-a46d-7a652160137e\" type=\"checkbox\" ><label for=\"27c54d82-410b-4fee-a46d-7a652160137e\" class=\"sk-toggleable__label sk-toggleable__label-arrow\">XGBClassifier</label><div class=\"sk-toggleable__content\"><pre>XGBClassifier(base_score=0.5, booster=&#x27;gbtree&#x27;, colsample_bylevel=1,\n              colsample_bynode=1, colsample_bytree=1, enable_categorical=False,\n              gamma=0, gpu_id=-1, importance_type=None,\n              interaction_constraints=&#x27;&#x27;, learning_rate=0.300000012,\n              max_delta_step=0, max_depth=6, min_child_weight=1, missing=nan,\n              monotone_constraints=&#x27;()&#x27;, n_estimators=100, n_jobs=12,\n              num_parallel_tree=1, predictor=&#x27;auto&#x27;, random_state=1902,\n              reg_alpha=0, reg_lambda=1, scale_pos_weight=1, subsample=1,\n              tree_method=&#x27;exact&#x27;, validate_parameters=1, verbosity=None)</pre></div></div></div></div></div></div></div></div></div></div></div></div>"
     },
     "execution_count": 22,
     "metadata": {},
     "output_type": "execute_result"
    }
   ]
  },
  {
   "cell_type": "code",
   "source": [
    "print(gs_2.best_score_)\n",
    "print(gs_2.best_params_)"
   ],
   "metadata": {
    "execution": {
     "iopub.status.busy": "2022-01-23T20:18:20.788376Z",
     "iopub.execute_input": "2022-01-23T20:18:20.788733Z",
     "iopub.status.idle": "2022-01-23T20:18:20.794033Z",
     "shell.execute_reply.started": "2022-01-23T20:18:20.788701Z",
     "shell.execute_reply": "2022-01-23T20:18:20.793034Z"
    },
    "trusted": true
   },
   "execution_count": 23,
   "outputs": [
    {
     "name": "stdout",
     "output_type": "stream",
     "text": [
      "0.8125855250768941\n",
      "{'model__learning_rate': 0.05}\n"
     ]
    }
   ]
  },
  {
   "cell_type": "markdown",
   "source": [
    "### Max depth"
   ],
   "metadata": {}
  },
  {
   "cell_type": "code",
   "source": [
    "gs_3 = GridSearchCV(\n",
    "    estimator=clf_XGB,\n",
    "    param_grid=gs_params[3], \n",
    "    cv=5, \n",
    "    n_jobs=-1, \n",
    "    scoring='accuracy',\n",
    "    verbose=2\n",
    ")"
   ],
   "metadata": {
    "execution": {
     "iopub.status.busy": "2022-01-23T20:18:23.963374Z",
     "iopub.execute_input": "2022-01-23T20:18:23.96394Z",
     "iopub.status.idle": "2022-01-23T20:18:23.968609Z",
     "shell.execute_reply.started": "2022-01-23T20:18:23.963898Z",
     "shell.execute_reply": "2022-01-23T20:18:23.967902Z"
    },
    "trusted": true
   },
   "execution_count": 24,
   "outputs": []
  },
  {
   "cell_type": "code",
   "source": [
    "gs_3.fit(X_train.append(X_test),y_train.append(y_test))"
   ],
   "metadata": {
    "execution": {
     "iopub.status.busy": "2022-01-23T20:18:33.785869Z",
     "iopub.execute_input": "2022-01-23T20:18:33.786201Z",
     "iopub.status.idle": "2022-01-23T20:21:26.743677Z",
     "shell.execute_reply.started": "2022-01-23T20:18:33.786172Z",
     "shell.execute_reply": "2022-01-23T20:21:26.742968Z"
    },
    "trusted": true
   },
   "execution_count": 25,
   "outputs": [
    {
     "name": "stdout",
     "output_type": "stream",
     "text": [
      "Fitting 5 folds for each of 4 candidates, totalling 20 fits\n"
     ]
    },
    {
     "name": "stderr",
     "output_type": "stream",
     "text": [
      "/var/folders/_0/nwqrty512s5bb9npv3jrwv240000gn/T/ipykernel_18044/1104065283.py:1: FutureWarning: The frame.append method is deprecated and will be removed from pandas in a future version. Use pandas.concat instead.\n",
      "  gs_3.fit(X_train.append(X_test),y_train.append(y_test))\n",
      "/var/folders/_0/nwqrty512s5bb9npv3jrwv240000gn/T/ipykernel_18044/1104065283.py:1: FutureWarning: The series.append method is deprecated and will be removed from pandas in a future version. Use pandas.concat instead.\n",
      "  gs_3.fit(X_train.append(X_test),y_train.append(y_test))\n",
      "/Users/evgeny/PycharmProjects/Titanic/venv/lib/python3.9/site-packages/xgboost/sklearn.py:1224: UserWarning: The use of label encoder in XGBClassifier is deprecated and will be removed in a future release. To remove this warning, do the following: 1) Pass option use_label_encoder=False when constructing XGBClassifier object; and 2) Encode your labels (y) as integers starting with 0, i.e. 0, 1, 2, ..., [num_class - 1].\n",
      "  warnings.warn(label_encoder_deprecation_msg, UserWarning)\n",
      "/Users/evgeny/PycharmProjects/Titanic/venv/lib/python3.9/site-packages/xgboost/sklearn.py:1224: UserWarning: The use of label encoder in XGBClassifier is deprecated and will be removed in a future release. To remove this warning, do the following: 1) Pass option use_label_encoder=False when constructing XGBClassifier object; and 2) Encode your labels (y) as integers starting with 0, i.e. 0, 1, 2, ..., [num_class - 1].\n",
      "  warnings.warn(label_encoder_deprecation_msg, UserWarning)\n",
      "/Users/evgeny/PycharmProjects/Titanic/venv/lib/python3.9/site-packages/xgboost/sklearn.py:1224: UserWarning: The use of label encoder in XGBClassifier is deprecated and will be removed in a future release. To remove this warning, do the following: 1) Pass option use_label_encoder=False when constructing XGBClassifier object; and 2) Encode your labels (y) as integers starting with 0, i.e. 0, 1, 2, ..., [num_class - 1].\n",
      "  warnings.warn(label_encoder_deprecation_msg, UserWarning)\n",
      "/Users/evgeny/PycharmProjects/Titanic/venv/lib/python3.9/site-packages/xgboost/sklearn.py:1224: UserWarning: The use of label encoder in XGBClassifier is deprecated and will be removed in a future release. To remove this warning, do the following: 1) Pass option use_label_encoder=False when constructing XGBClassifier object; and 2) Encode your labels (y) as integers starting with 0, i.e. 0, 1, 2, ..., [num_class - 1].\n",
      "  warnings.warn(label_encoder_deprecation_msg, UserWarning)\n",
      "/Users/evgeny/PycharmProjects/Titanic/venv/lib/python3.9/site-packages/xgboost/sklearn.py:1224: UserWarning: The use of label encoder in XGBClassifier is deprecated and will be removed in a future release. To remove this warning, do the following: 1) Pass option use_label_encoder=False when constructing XGBClassifier object; and 2) Encode your labels (y) as integers starting with 0, i.e. 0, 1, 2, ..., [num_class - 1].\n",
      "  warnings.warn(label_encoder_deprecation_msg, UserWarning)\n",
      "/Users/evgeny/PycharmProjects/Titanic/venv/lib/python3.9/site-packages/xgboost/sklearn.py:1224: UserWarning: The use of label encoder in XGBClassifier is deprecated and will be removed in a future release. To remove this warning, do the following: 1) Pass option use_label_encoder=False when constructing XGBClassifier object; and 2) Encode your labels (y) as integers starting with 0, i.e. 0, 1, 2, ..., [num_class - 1].\n",
      "  warnings.warn(label_encoder_deprecation_msg, UserWarning)\n",
      "/Users/evgeny/PycharmProjects/Titanic/venv/lib/python3.9/site-packages/xgboost/sklearn.py:1224: UserWarning: The use of label encoder in XGBClassifier is deprecated and will be removed in a future release. To remove this warning, do the following: 1) Pass option use_label_encoder=False when constructing XGBClassifier object; and 2) Encode your labels (y) as integers starting with 0, i.e. 0, 1, 2, ..., [num_class - 1].\n",
      "  warnings.warn(label_encoder_deprecation_msg, UserWarning)\n",
      "/Users/evgeny/PycharmProjects/Titanic/venv/lib/python3.9/site-packages/xgboost/sklearn.py:1224: UserWarning: The use of label encoder in XGBClassifier is deprecated and will be removed in a future release. To remove this warning, do the following: 1) Pass option use_label_encoder=False when constructing XGBClassifier object; and 2) Encode your labels (y) as integers starting with 0, i.e. 0, 1, 2, ..., [num_class - 1].\n",
      "  warnings.warn(label_encoder_deprecation_msg, UserWarning)\n",
      "/Users/evgeny/PycharmProjects/Titanic/venv/lib/python3.9/site-packages/xgboost/sklearn.py:1224: UserWarning: The use of label encoder in XGBClassifier is deprecated and will be removed in a future release. To remove this warning, do the following: 1) Pass option use_label_encoder=False when constructing XGBClassifier object; and 2) Encode your labels (y) as integers starting with 0, i.e. 0, 1, 2, ..., [num_class - 1].\n",
      "  warnings.warn(label_encoder_deprecation_msg, UserWarning)\n",
      "/Users/evgeny/PycharmProjects/Titanic/venv/lib/python3.9/site-packages/xgboost/sklearn.py:1224: UserWarning: The use of label encoder in XGBClassifier is deprecated and will be removed in a future release. To remove this warning, do the following: 1) Pass option use_label_encoder=False when constructing XGBClassifier object; and 2) Encode your labels (y) as integers starting with 0, i.e. 0, 1, 2, ..., [num_class - 1].\n",
      "  warnings.warn(label_encoder_deprecation_msg, UserWarning)\n",
      "/Users/evgeny/PycharmProjects/Titanic/venv/lib/python3.9/site-packages/xgboost/sklearn.py:1224: UserWarning: The use of label encoder in XGBClassifier is deprecated and will be removed in a future release. To remove this warning, do the following: 1) Pass option use_label_encoder=False when constructing XGBClassifier object; and 2) Encode your labels (y) as integers starting with 0, i.e. 0, 1, 2, ..., [num_class - 1].\n",
      "  warnings.warn(label_encoder_deprecation_msg, UserWarning)\n",
      "/Users/evgeny/PycharmProjects/Titanic/venv/lib/python3.9/site-packages/xgboost/sklearn.py:1224: UserWarning: The use of label encoder in XGBClassifier is deprecated and will be removed in a future release. To remove this warning, do the following: 1) Pass option use_label_encoder=False when constructing XGBClassifier object; and 2) Encode your labels (y) as integers starting with 0, i.e. 0, 1, 2, ..., [num_class - 1].\n",
      "  warnings.warn(label_encoder_deprecation_msg, UserWarning)\n",
      "/Users/evgeny/PycharmProjects/Titanic/venv/lib/python3.9/site-packages/xgboost/sklearn.py:1224: UserWarning: The use of label encoder in XGBClassifier is deprecated and will be removed in a future release. To remove this warning, do the following: 1) Pass option use_label_encoder=False when constructing XGBClassifier object; and 2) Encode your labels (y) as integers starting with 0, i.e. 0, 1, 2, ..., [num_class - 1].\n",
      "  warnings.warn(label_encoder_deprecation_msg, UserWarning)\n",
      "/Users/evgeny/PycharmProjects/Titanic/venv/lib/python3.9/site-packages/xgboost/sklearn.py:1224: UserWarning: The use of label encoder in XGBClassifier is deprecated and will be removed in a future release. To remove this warning, do the following: 1) Pass option use_label_encoder=False when constructing XGBClassifier object; and 2) Encode your labels (y) as integers starting with 0, i.e. 0, 1, 2, ..., [num_class - 1].\n",
      "  warnings.warn(label_encoder_deprecation_msg, UserWarning)\n",
      "/Users/evgeny/PycharmProjects/Titanic/venv/lib/python3.9/site-packages/xgboost/sklearn.py:1224: UserWarning: The use of label encoder in XGBClassifier is deprecated and will be removed in a future release. To remove this warning, do the following: 1) Pass option use_label_encoder=False when constructing XGBClassifier object; and 2) Encode your labels (y) as integers starting with 0, i.e. 0, 1, 2, ..., [num_class - 1].\n",
      "  warnings.warn(label_encoder_deprecation_msg, UserWarning)\n",
      "/Users/evgeny/PycharmProjects/Titanic/venv/lib/python3.9/site-packages/xgboost/sklearn.py:1224: UserWarning: The use of label encoder in XGBClassifier is deprecated and will be removed in a future release. To remove this warning, do the following: 1) Pass option use_label_encoder=False when constructing XGBClassifier object; and 2) Encode your labels (y) as integers starting with 0, i.e. 0, 1, 2, ..., [num_class - 1].\n",
      "  warnings.warn(label_encoder_deprecation_msg, UserWarning)\n",
      "/Users/evgeny/PycharmProjects/Titanic/venv/lib/python3.9/site-packages/xgboost/sklearn.py:1224: UserWarning: The use of label encoder in XGBClassifier is deprecated and will be removed in a future release. To remove this warning, do the following: 1) Pass option use_label_encoder=False when constructing XGBClassifier object; and 2) Encode your labels (y) as integers starting with 0, i.e. 0, 1, 2, ..., [num_class - 1].\n",
      "  warnings.warn(label_encoder_deprecation_msg, UserWarning)\n",
      "/Users/evgeny/PycharmProjects/Titanic/venv/lib/python3.9/site-packages/xgboost/sklearn.py:1224: UserWarning: The use of label encoder in XGBClassifier is deprecated and will be removed in a future release. To remove this warning, do the following: 1) Pass option use_label_encoder=False when constructing XGBClassifier object; and 2) Encode your labels (y) as integers starting with 0, i.e. 0, 1, 2, ..., [num_class - 1].\n",
      "  warnings.warn(label_encoder_deprecation_msg, UserWarning)\n",
      "/Users/evgeny/PycharmProjects/Titanic/venv/lib/python3.9/site-packages/xgboost/sklearn.py:1224: UserWarning: The use of label encoder in XGBClassifier is deprecated and will be removed in a future release. To remove this warning, do the following: 1) Pass option use_label_encoder=False when constructing XGBClassifier object; and 2) Encode your labels (y) as integers starting with 0, i.e. 0, 1, 2, ..., [num_class - 1].\n",
      "  warnings.warn(label_encoder_deprecation_msg, UserWarning)\n",
      "/Users/evgeny/PycharmProjects/Titanic/venv/lib/python3.9/site-packages/xgboost/sklearn.py:1224: UserWarning: The use of label encoder in XGBClassifier is deprecated and will be removed in a future release. To remove this warning, do the following: 1) Pass option use_label_encoder=False when constructing XGBClassifier object; and 2) Encode your labels (y) as integers starting with 0, i.e. 0, 1, 2, ..., [num_class - 1].\n",
      "  warnings.warn(label_encoder_deprecation_msg, UserWarning)\n",
      "/Users/evgeny/PycharmProjects/Titanic/venv/lib/python3.9/site-packages/xgboost/sklearn.py:1224: UserWarning: The use of label encoder in XGBClassifier is deprecated and will be removed in a future release. To remove this warning, do the following: 1) Pass option use_label_encoder=False when constructing XGBClassifier object; and 2) Encode your labels (y) as integers starting with 0, i.e. 0, 1, 2, ..., [num_class - 1].\n",
      "  warnings.warn(label_encoder_deprecation_msg, UserWarning)\n"
     ]
    },
    {
     "name": "stdout",
     "output_type": "stream",
     "text": [
      "[23:34:42] WARNING: /Users/runner/work/xgboost/xgboost/src/learner.cc:1115: Starting in XGBoost 1.3.0, the default evaluation metric used with the objective 'binary:logistic' was changed from 'error' to 'logloss'. Explicitly set eval_metric if you'd like to restore the old behavior.\n"
     ]
    },
    {
     "data": {
      "text/plain": "GridSearchCV(cv=5,\n             estimator=Pipeline(steps=[('preprocessor',\n                                        ColumnTransformer(transformers=[('num',\n                                                                         SimpleImputer(strategy='constant'),\n                                                                         ['Age',\n                                                                          'SibSp',\n                                                                          'Parch',\n                                                                          'Fare']),\n                                                                        ('cat',\n                                                                         Pipeline(steps=[('imputer',\n                                                                                          SimpleImputer(strategy='most_frequent')),\n                                                                                         ('onehot',\n                                                                                          OneHotEncoder(handle_unknown='ignore'))]),\n                                                                         ['Pclass',\n                                                                          'Sex',\n                                                                          'Embarked'])])),\n                                       ('model',\n                                        XGBClassifier(ba...\n                                                      max_delta_step=0,\n                                                      max_depth=6,\n                                                      min_child_weight=1,\n                                                      missing=nan,\n                                                      monotone_constraints='()',\n                                                      n_estimators=100,\n                                                      n_jobs=12,\n                                                      num_parallel_tree=1,\n                                                      predictor='auto',\n                                                      random_state=1902,\n                                                      reg_alpha=0, reg_lambda=1,\n                                                      scale_pos_weight=1,\n                                                      subsample=1,\n                                                      tree_method='exact',\n                                                      validate_parameters=1,\n                                                      verbosity=None))]),\n             n_jobs=-1, param_grid={'model__max_depth': [1, 2, 4, 8]},\n             scoring='accuracy', verbose=2)",
      "text/html": "<style>#sk-c8f07114-e5ce-4dd2-99ce-58c522de9756 {color: black;background-color: white;}#sk-c8f07114-e5ce-4dd2-99ce-58c522de9756 pre{padding: 0;}#sk-c8f07114-e5ce-4dd2-99ce-58c522de9756 div.sk-toggleable {background-color: white;}#sk-c8f07114-e5ce-4dd2-99ce-58c522de9756 label.sk-toggleable__label {cursor: pointer;display: block;width: 100%;margin-bottom: 0;padding: 0.3em;box-sizing: border-box;text-align: center;}#sk-c8f07114-e5ce-4dd2-99ce-58c522de9756 label.sk-toggleable__label-arrow:before {content: \"▸\";float: left;margin-right: 0.25em;color: #696969;}#sk-c8f07114-e5ce-4dd2-99ce-58c522de9756 label.sk-toggleable__label-arrow:hover:before {color: black;}#sk-c8f07114-e5ce-4dd2-99ce-58c522de9756 div.sk-estimator:hover label.sk-toggleable__label-arrow:before {color: black;}#sk-c8f07114-e5ce-4dd2-99ce-58c522de9756 div.sk-toggleable__content {max-height: 0;max-width: 0;overflow: hidden;text-align: left;background-color: #f0f8ff;}#sk-c8f07114-e5ce-4dd2-99ce-58c522de9756 div.sk-toggleable__content pre {margin: 0.2em;color: black;border-radius: 0.25em;background-color: #f0f8ff;}#sk-c8f07114-e5ce-4dd2-99ce-58c522de9756 input.sk-toggleable__control:checked~div.sk-toggleable__content {max-height: 200px;max-width: 100%;overflow: auto;}#sk-c8f07114-e5ce-4dd2-99ce-58c522de9756 input.sk-toggleable__control:checked~label.sk-toggleable__label-arrow:before {content: \"▾\";}#sk-c8f07114-e5ce-4dd2-99ce-58c522de9756 div.sk-estimator input.sk-toggleable__control:checked~label.sk-toggleable__label {background-color: #d4ebff;}#sk-c8f07114-e5ce-4dd2-99ce-58c522de9756 div.sk-label input.sk-toggleable__control:checked~label.sk-toggleable__label {background-color: #d4ebff;}#sk-c8f07114-e5ce-4dd2-99ce-58c522de9756 input.sk-hidden--visually {border: 0;clip: rect(1px 1px 1px 1px);clip: rect(1px, 1px, 1px, 1px);height: 1px;margin: -1px;overflow: hidden;padding: 0;position: absolute;width: 1px;}#sk-c8f07114-e5ce-4dd2-99ce-58c522de9756 div.sk-estimator {font-family: monospace;background-color: #f0f8ff;border: 1px dotted black;border-radius: 0.25em;box-sizing: border-box;margin-bottom: 0.5em;}#sk-c8f07114-e5ce-4dd2-99ce-58c522de9756 div.sk-estimator:hover {background-color: #d4ebff;}#sk-c8f07114-e5ce-4dd2-99ce-58c522de9756 div.sk-parallel-item::after {content: \"\";width: 100%;border-bottom: 1px solid gray;flex-grow: 1;}#sk-c8f07114-e5ce-4dd2-99ce-58c522de9756 div.sk-label:hover label.sk-toggleable__label {background-color: #d4ebff;}#sk-c8f07114-e5ce-4dd2-99ce-58c522de9756 div.sk-serial::before {content: \"\";position: absolute;border-left: 1px solid gray;box-sizing: border-box;top: 2em;bottom: 0;left: 50%;}#sk-c8f07114-e5ce-4dd2-99ce-58c522de9756 div.sk-serial {display: flex;flex-direction: column;align-items: center;background-color: white;padding-right: 0.2em;padding-left: 0.2em;}#sk-c8f07114-e5ce-4dd2-99ce-58c522de9756 div.sk-item {z-index: 1;}#sk-c8f07114-e5ce-4dd2-99ce-58c522de9756 div.sk-parallel {display: flex;align-items: stretch;justify-content: center;background-color: white;}#sk-c8f07114-e5ce-4dd2-99ce-58c522de9756 div.sk-parallel::before {content: \"\";position: absolute;border-left: 1px solid gray;box-sizing: border-box;top: 2em;bottom: 0;left: 50%;}#sk-c8f07114-e5ce-4dd2-99ce-58c522de9756 div.sk-parallel-item {display: flex;flex-direction: column;position: relative;background-color: white;}#sk-c8f07114-e5ce-4dd2-99ce-58c522de9756 div.sk-parallel-item:first-child::after {align-self: flex-end;width: 50%;}#sk-c8f07114-e5ce-4dd2-99ce-58c522de9756 div.sk-parallel-item:last-child::after {align-self: flex-start;width: 50%;}#sk-c8f07114-e5ce-4dd2-99ce-58c522de9756 div.sk-parallel-item:only-child::after {width: 0;}#sk-c8f07114-e5ce-4dd2-99ce-58c522de9756 div.sk-dashed-wrapped {border: 1px dashed gray;margin: 0 0.4em 0.5em 0.4em;box-sizing: border-box;padding-bottom: 0.4em;background-color: white;position: relative;}#sk-c8f07114-e5ce-4dd2-99ce-58c522de9756 div.sk-label label {font-family: monospace;font-weight: bold;background-color: white;display: inline-block;line-height: 1.2em;}#sk-c8f07114-e5ce-4dd2-99ce-58c522de9756 div.sk-label-container {position: relative;z-index: 2;text-align: center;}#sk-c8f07114-e5ce-4dd2-99ce-58c522de9756 div.sk-container {/* jupyter's `normalize.less` sets `[hidden] { display: none; }` but bootstrap.min.css set `[hidden] { display: none !important; }` so we also need the `!important` here to be able to override the default hidden behavior on the sphinx rendered scikit-learn.org. See: https://github.com/scikit-learn/scikit-learn/issues/21755 */display: inline-block !important;position: relative;}#sk-c8f07114-e5ce-4dd2-99ce-58c522de9756 div.sk-text-repr-fallback {display: none;}</style><div id=\"sk-c8f07114-e5ce-4dd2-99ce-58c522de9756\" class=\"sk-top-container\"><div class=\"sk-text-repr-fallback\"><pre>GridSearchCV(cv=5,\n             estimator=Pipeline(steps=[(&#x27;preprocessor&#x27;,\n                                        ColumnTransformer(transformers=[(&#x27;num&#x27;,\n                                                                         SimpleImputer(strategy=&#x27;constant&#x27;),\n                                                                         [&#x27;Age&#x27;,\n                                                                          &#x27;SibSp&#x27;,\n                                                                          &#x27;Parch&#x27;,\n                                                                          &#x27;Fare&#x27;]),\n                                                                        (&#x27;cat&#x27;,\n                                                                         Pipeline(steps=[(&#x27;imputer&#x27;,\n                                                                                          SimpleImputer(strategy=&#x27;most_frequent&#x27;)),\n                                                                                         (&#x27;onehot&#x27;,\n                                                                                          OneHotEncoder(handle_unknown=&#x27;ignore&#x27;))]),\n                                                                         [&#x27;Pclass&#x27;,\n                                                                          &#x27;Sex&#x27;,\n                                                                          &#x27;Embarked&#x27;])])),\n                                       (&#x27;model&#x27;,\n                                        XGBClassifier(ba...\n                                                      max_delta_step=0,\n                                                      max_depth=6,\n                                                      min_child_weight=1,\n                                                      missing=nan,\n                                                      monotone_constraints=&#x27;()&#x27;,\n                                                      n_estimators=100,\n                                                      n_jobs=12,\n                                                      num_parallel_tree=1,\n                                                      predictor=&#x27;auto&#x27;,\n                                                      random_state=1902,\n                                                      reg_alpha=0, reg_lambda=1,\n                                                      scale_pos_weight=1,\n                                                      subsample=1,\n                                                      tree_method=&#x27;exact&#x27;,\n                                                      validate_parameters=1,\n                                                      verbosity=None))]),\n             n_jobs=-1, param_grid={&#x27;model__max_depth&#x27;: [1, 2, 4, 8]},\n             scoring=&#x27;accuracy&#x27;, verbose=2)</pre><b>Please rerun this cell to show the HTML repr or trust the notebook.</b></div><div class=\"sk-container\" hidden><div class=\"sk-item sk-dashed-wrapped\"><div class=\"sk-label-container\"><div class=\"sk-label sk-toggleable\"><input class=\"sk-toggleable__control sk-hidden--visually\" id=\"900b4ad2-559f-45c0-813b-89007dd76fab\" type=\"checkbox\" ><label for=\"900b4ad2-559f-45c0-813b-89007dd76fab\" class=\"sk-toggleable__label sk-toggleable__label-arrow\">GridSearchCV</label><div class=\"sk-toggleable__content\"><pre>GridSearchCV(cv=5,\n             estimator=Pipeline(steps=[(&#x27;preprocessor&#x27;,\n                                        ColumnTransformer(transformers=[(&#x27;num&#x27;,\n                                                                         SimpleImputer(strategy=&#x27;constant&#x27;),\n                                                                         [&#x27;Age&#x27;,\n                                                                          &#x27;SibSp&#x27;,\n                                                                          &#x27;Parch&#x27;,\n                                                                          &#x27;Fare&#x27;]),\n                                                                        (&#x27;cat&#x27;,\n                                                                         Pipeline(steps=[(&#x27;imputer&#x27;,\n                                                                                          SimpleImputer(strategy=&#x27;most_frequent&#x27;)),\n                                                                                         (&#x27;onehot&#x27;,\n                                                                                          OneHotEncoder(handle_unknown=&#x27;ignore&#x27;))]),\n                                                                         [&#x27;Pclass&#x27;,\n                                                                          &#x27;Sex&#x27;,\n                                                                          &#x27;Embarked&#x27;])])),\n                                       (&#x27;model&#x27;,\n                                        XGBClassifier(ba...\n                                                      max_delta_step=0,\n                                                      max_depth=6,\n                                                      min_child_weight=1,\n                                                      missing=nan,\n                                                      monotone_constraints=&#x27;()&#x27;,\n                                                      n_estimators=100,\n                                                      n_jobs=12,\n                                                      num_parallel_tree=1,\n                                                      predictor=&#x27;auto&#x27;,\n                                                      random_state=1902,\n                                                      reg_alpha=0, reg_lambda=1,\n                                                      scale_pos_weight=1,\n                                                      subsample=1,\n                                                      tree_method=&#x27;exact&#x27;,\n                                                      validate_parameters=1,\n                                                      verbosity=None))]),\n             n_jobs=-1, param_grid={&#x27;model__max_depth&#x27;: [1, 2, 4, 8]},\n             scoring=&#x27;accuracy&#x27;, verbose=2)</pre></div></div></div><div class=\"sk-parallel\"><div class=\"sk-parallel-item\"><div class=\"sk-item\"><div class=\"sk-serial\"><div class=\"sk-item\"><div class=\"sk-serial\"><div class=\"sk-item sk-dashed-wrapped\"><div class=\"sk-label-container\"><div class=\"sk-label sk-toggleable\"><input class=\"sk-toggleable__control sk-hidden--visually\" id=\"ad0e84d2-8327-474d-97bd-aa7e77b80ae5\" type=\"checkbox\" ><label for=\"ad0e84d2-8327-474d-97bd-aa7e77b80ae5\" class=\"sk-toggleable__label sk-toggleable__label-arrow\">preprocessor: ColumnTransformer</label><div class=\"sk-toggleable__content\"><pre>ColumnTransformer(transformers=[(&#x27;num&#x27;, SimpleImputer(strategy=&#x27;constant&#x27;),\n                                 [&#x27;Age&#x27;, &#x27;SibSp&#x27;, &#x27;Parch&#x27;, &#x27;Fare&#x27;]),\n                                (&#x27;cat&#x27;,\n                                 Pipeline(steps=[(&#x27;imputer&#x27;,\n                                                  SimpleImputer(strategy=&#x27;most_frequent&#x27;)),\n                                                 (&#x27;onehot&#x27;,\n                                                  OneHotEncoder(handle_unknown=&#x27;ignore&#x27;))]),\n                                 [&#x27;Pclass&#x27;, &#x27;Sex&#x27;, &#x27;Embarked&#x27;])])</pre></div></div></div><div class=\"sk-parallel\"><div class=\"sk-parallel-item\"><div class=\"sk-item\"><div class=\"sk-label-container\"><div class=\"sk-label sk-toggleable\"><input class=\"sk-toggleable__control sk-hidden--visually\" id=\"4b1cecbc-dd11-4008-92cb-e2c2f5aae0dd\" type=\"checkbox\" ><label for=\"4b1cecbc-dd11-4008-92cb-e2c2f5aae0dd\" class=\"sk-toggleable__label sk-toggleable__label-arrow\">num</label><div class=\"sk-toggleable__content\"><pre>[&#x27;Age&#x27;, &#x27;SibSp&#x27;, &#x27;Parch&#x27;, &#x27;Fare&#x27;]</pre></div></div></div><div class=\"sk-serial\"><div class=\"sk-item\"><div class=\"sk-estimator sk-toggleable\"><input class=\"sk-toggleable__control sk-hidden--visually\" id=\"d94f82a4-f3f6-479c-bd62-f43253db510c\" type=\"checkbox\" ><label for=\"d94f82a4-f3f6-479c-bd62-f43253db510c\" class=\"sk-toggleable__label sk-toggleable__label-arrow\">SimpleImputer</label><div class=\"sk-toggleable__content\"><pre>SimpleImputer(strategy=&#x27;constant&#x27;)</pre></div></div></div></div></div></div><div class=\"sk-parallel-item\"><div class=\"sk-item\"><div class=\"sk-label-container\"><div class=\"sk-label sk-toggleable\"><input class=\"sk-toggleable__control sk-hidden--visually\" id=\"b2d8d557-e7d1-4839-86eb-b1acf0f232e5\" type=\"checkbox\" ><label for=\"b2d8d557-e7d1-4839-86eb-b1acf0f232e5\" class=\"sk-toggleable__label sk-toggleable__label-arrow\">cat</label><div class=\"sk-toggleable__content\"><pre>[&#x27;Pclass&#x27;, &#x27;Sex&#x27;, &#x27;Embarked&#x27;]</pre></div></div></div><div class=\"sk-serial\"><div class=\"sk-item\"><div class=\"sk-serial\"><div class=\"sk-item\"><div class=\"sk-estimator sk-toggleable\"><input class=\"sk-toggleable__control sk-hidden--visually\" id=\"e1af59b6-85f3-4a8d-b134-4b114056c10f\" type=\"checkbox\" ><label for=\"e1af59b6-85f3-4a8d-b134-4b114056c10f\" class=\"sk-toggleable__label sk-toggleable__label-arrow\">SimpleImputer</label><div class=\"sk-toggleable__content\"><pre>SimpleImputer(strategy=&#x27;most_frequent&#x27;)</pre></div></div></div><div class=\"sk-item\"><div class=\"sk-estimator sk-toggleable\"><input class=\"sk-toggleable__control sk-hidden--visually\" id=\"442abc48-5ae7-47cb-8c0c-03b0ce47e8c6\" type=\"checkbox\" ><label for=\"442abc48-5ae7-47cb-8c0c-03b0ce47e8c6\" class=\"sk-toggleable__label sk-toggleable__label-arrow\">OneHotEncoder</label><div class=\"sk-toggleable__content\"><pre>OneHotEncoder(handle_unknown=&#x27;ignore&#x27;)</pre></div></div></div></div></div></div></div></div></div></div><div class=\"sk-item\"><div class=\"sk-estimator sk-toggleable\"><input class=\"sk-toggleable__control sk-hidden--visually\" id=\"1333856e-3ace-425b-a62a-b0ac7c249b04\" type=\"checkbox\" ><label for=\"1333856e-3ace-425b-a62a-b0ac7c249b04\" class=\"sk-toggleable__label sk-toggleable__label-arrow\">XGBClassifier</label><div class=\"sk-toggleable__content\"><pre>XGBClassifier(base_score=0.5, booster=&#x27;gbtree&#x27;, colsample_bylevel=1,\n              colsample_bynode=1, colsample_bytree=1, enable_categorical=False,\n              gamma=0, gpu_id=-1, importance_type=None,\n              interaction_constraints=&#x27;&#x27;, learning_rate=0.300000012,\n              max_delta_step=0, max_depth=6, min_child_weight=1, missing=nan,\n              monotone_constraints=&#x27;()&#x27;, n_estimators=100, n_jobs=12,\n              num_parallel_tree=1, predictor=&#x27;auto&#x27;, random_state=1902,\n              reg_alpha=0, reg_lambda=1, scale_pos_weight=1, subsample=1,\n              tree_method=&#x27;exact&#x27;, validate_parameters=1, verbosity=None)</pre></div></div></div></div></div></div></div></div></div></div></div></div>"
     },
     "execution_count": 25,
     "metadata": {},
     "output_type": "execute_result"
    }
   ]
  },
  {
   "cell_type": "code",
   "source": [
    "print(gs_3.best_score_)\n",
    "print(gs_3.best_params_)"
   ],
   "metadata": {
    "execution": {
     "iopub.status.busy": "2022-01-23T20:21:26.74486Z",
     "iopub.execute_input": "2022-01-23T20:21:26.745277Z",
     "iopub.status.idle": "2022-01-23T20:21:26.749636Z",
     "shell.execute_reply.started": "2022-01-23T20:21:26.745245Z",
     "shell.execute_reply": "2022-01-23T20:21:26.748979Z"
    },
    "trusted": true
   },
   "execution_count": 26,
   "outputs": [
    {
     "name": "stdout",
     "output_type": "stream",
     "text": [
      "0.8137091205825122\n",
      "{'model__max_depth': 2}\n"
     ]
    }
   ]
  },
  {
   "cell_type": "markdown",
   "source": [
    "### Subsample"
   ],
   "metadata": {}
  },
  {
   "cell_type": "code",
   "source": [
    "gs_4 = GridSearchCV(\n",
    "    estimator=clf_XGB,\n",
    "    param_grid=gs_params[4], \n",
    "    cv=5, \n",
    "    n_jobs=-1, \n",
    "    scoring='accuracy',\n",
    "    verbose=2\n",
    ")"
   ],
   "metadata": {
    "execution": {
     "iopub.status.busy": "2022-01-23T20:21:26.751046Z",
     "iopub.execute_input": "2022-01-23T20:21:26.75143Z",
     "iopub.status.idle": "2022-01-23T20:21:26.758861Z",
     "shell.execute_reply.started": "2022-01-23T20:21:26.751401Z",
     "shell.execute_reply": "2022-01-23T20:21:26.758111Z"
    },
    "trusted": true
   },
   "execution_count": 27,
   "outputs": []
  },
  {
   "cell_type": "code",
   "source": [
    "gs_4.fit(X_train.append(X_test),y_train.append(y_test))"
   ],
   "metadata": {
    "execution": {
     "iopub.status.busy": "2022-01-23T20:21:26.760068Z",
     "iopub.execute_input": "2022-01-23T20:21:26.760424Z",
     "iopub.status.idle": "2022-01-23T20:25:17.419261Z",
     "shell.execute_reply.started": "2022-01-23T20:21:26.760396Z",
     "shell.execute_reply": "2022-01-23T20:25:17.417376Z"
    },
    "trusted": true
   },
   "execution_count": 28,
   "outputs": [
    {
     "name": "stdout",
     "output_type": "stream",
     "text": [
      "Fitting 5 folds for each of 4 candidates, totalling 20 fits\n"
     ]
    },
    {
     "name": "stderr",
     "output_type": "stream",
     "text": [
      "/var/folders/_0/nwqrty512s5bb9npv3jrwv240000gn/T/ipykernel_18044/2621731784.py:1: FutureWarning: The frame.append method is deprecated and will be removed from pandas in a future version. Use pandas.concat instead.\n",
      "  gs_4.fit(X_train.append(X_test),y_train.append(y_test))\n",
      "/var/folders/_0/nwqrty512s5bb9npv3jrwv240000gn/T/ipykernel_18044/2621731784.py:1: FutureWarning: The series.append method is deprecated and will be removed from pandas in a future version. Use pandas.concat instead.\n",
      "  gs_4.fit(X_train.append(X_test),y_train.append(y_test))\n",
      "/Users/evgeny/PycharmProjects/Titanic/venv/lib/python3.9/site-packages/xgboost/sklearn.py:1224: UserWarning: The use of label encoder in XGBClassifier is deprecated and will be removed in a future release. To remove this warning, do the following: 1) Pass option use_label_encoder=False when constructing XGBClassifier object; and 2) Encode your labels (y) as integers starting with 0, i.e. 0, 1, 2, ..., [num_class - 1].\n",
      "  warnings.warn(label_encoder_deprecation_msg, UserWarning)\n",
      "/Users/evgeny/PycharmProjects/Titanic/venv/lib/python3.9/site-packages/xgboost/sklearn.py:1224: UserWarning: The use of label encoder in XGBClassifier is deprecated and will be removed in a future release. To remove this warning, do the following: 1) Pass option use_label_encoder=False when constructing XGBClassifier object; and 2) Encode your labels (y) as integers starting with 0, i.e. 0, 1, 2, ..., [num_class - 1].\n",
      "  warnings.warn(label_encoder_deprecation_msg, UserWarning)\n",
      "/Users/evgeny/PycharmProjects/Titanic/venv/lib/python3.9/site-packages/xgboost/sklearn.py:1224: UserWarning: The use of label encoder in XGBClassifier is deprecated and will be removed in a future release. To remove this warning, do the following: 1) Pass option use_label_encoder=False when constructing XGBClassifier object; and 2) Encode your labels (y) as integers starting with 0, i.e. 0, 1, 2, ..., [num_class - 1].\n",
      "  warnings.warn(label_encoder_deprecation_msg, UserWarning)\n",
      "/Users/evgeny/PycharmProjects/Titanic/venv/lib/python3.9/site-packages/xgboost/sklearn.py:1224: UserWarning: The use of label encoder in XGBClassifier is deprecated and will be removed in a future release. To remove this warning, do the following: 1) Pass option use_label_encoder=False when constructing XGBClassifier object; and 2) Encode your labels (y) as integers starting with 0, i.e. 0, 1, 2, ..., [num_class - 1].\n",
      "  warnings.warn(label_encoder_deprecation_msg, UserWarning)\n",
      "/Users/evgeny/PycharmProjects/Titanic/venv/lib/python3.9/site-packages/xgboost/sklearn.py:1224: UserWarning: The use of label encoder in XGBClassifier is deprecated and will be removed in a future release. To remove this warning, do the following: 1) Pass option use_label_encoder=False when constructing XGBClassifier object; and 2) Encode your labels (y) as integers starting with 0, i.e. 0, 1, 2, ..., [num_class - 1].\n",
      "  warnings.warn(label_encoder_deprecation_msg, UserWarning)\n",
      "/Users/evgeny/PycharmProjects/Titanic/venv/lib/python3.9/site-packages/xgboost/sklearn.py:1224: UserWarning: The use of label encoder in XGBClassifier is deprecated and will be removed in a future release. To remove this warning, do the following: 1) Pass option use_label_encoder=False when constructing XGBClassifier object; and 2) Encode your labels (y) as integers starting with 0, i.e. 0, 1, 2, ..., [num_class - 1].\n",
      "  warnings.warn(label_encoder_deprecation_msg, UserWarning)\n",
      "/Users/evgeny/PycharmProjects/Titanic/venv/lib/python3.9/site-packages/xgboost/sklearn.py:1224: UserWarning: The use of label encoder in XGBClassifier is deprecated and will be removed in a future release. To remove this warning, do the following: 1) Pass option use_label_encoder=False when constructing XGBClassifier object; and 2) Encode your labels (y) as integers starting with 0, i.e. 0, 1, 2, ..., [num_class - 1].\n",
      "  warnings.warn(label_encoder_deprecation_msg, UserWarning)\n",
      "/Users/evgeny/PycharmProjects/Titanic/venv/lib/python3.9/site-packages/xgboost/sklearn.py:1224: UserWarning: The use of label encoder in XGBClassifier is deprecated and will be removed in a future release. To remove this warning, do the following: 1) Pass option use_label_encoder=False when constructing XGBClassifier object; and 2) Encode your labels (y) as integers starting with 0, i.e. 0, 1, 2, ..., [num_class - 1].\n",
      "  warnings.warn(label_encoder_deprecation_msg, UserWarning)\n",
      "/Users/evgeny/PycharmProjects/Titanic/venv/lib/python3.9/site-packages/xgboost/sklearn.py:1224: UserWarning: The use of label encoder in XGBClassifier is deprecated and will be removed in a future release. To remove this warning, do the following: 1) Pass option use_label_encoder=False when constructing XGBClassifier object; and 2) Encode your labels (y) as integers starting with 0, i.e. 0, 1, 2, ..., [num_class - 1].\n",
      "  warnings.warn(label_encoder_deprecation_msg, UserWarning)\n",
      "/Users/evgeny/PycharmProjects/Titanic/venv/lib/python3.9/site-packages/xgboost/sklearn.py:1224: UserWarning: The use of label encoder in XGBClassifier is deprecated and will be removed in a future release. To remove this warning, do the following: 1) Pass option use_label_encoder=False when constructing XGBClassifier object; and 2) Encode your labels (y) as integers starting with 0, i.e. 0, 1, 2, ..., [num_class - 1].\n",
      "  warnings.warn(label_encoder_deprecation_msg, UserWarning)\n",
      "/Users/evgeny/PycharmProjects/Titanic/venv/lib/python3.9/site-packages/xgboost/sklearn.py:1224: UserWarning: The use of label encoder in XGBClassifier is deprecated and will be removed in a future release. To remove this warning, do the following: 1) Pass option use_label_encoder=False when constructing XGBClassifier object; and 2) Encode your labels (y) as integers starting with 0, i.e. 0, 1, 2, ..., [num_class - 1].\n",
      "  warnings.warn(label_encoder_deprecation_msg, UserWarning)\n",
      "/Users/evgeny/PycharmProjects/Titanic/venv/lib/python3.9/site-packages/xgboost/sklearn.py:1224: UserWarning: The use of label encoder in XGBClassifier is deprecated and will be removed in a future release. To remove this warning, do the following: 1) Pass option use_label_encoder=False when constructing XGBClassifier object; and 2) Encode your labels (y) as integers starting with 0, i.e. 0, 1, 2, ..., [num_class - 1].\n",
      "  warnings.warn(label_encoder_deprecation_msg, UserWarning)\n",
      "/Users/evgeny/PycharmProjects/Titanic/venv/lib/python3.9/site-packages/xgboost/sklearn.py:1224: UserWarning: The use of label encoder in XGBClassifier is deprecated and will be removed in a future release. To remove this warning, do the following: 1) Pass option use_label_encoder=False when constructing XGBClassifier object; and 2) Encode your labels (y) as integers starting with 0, i.e. 0, 1, 2, ..., [num_class - 1].\n",
      "  warnings.warn(label_encoder_deprecation_msg, UserWarning)\n",
      "/Users/evgeny/PycharmProjects/Titanic/venv/lib/python3.9/site-packages/xgboost/sklearn.py:1224: UserWarning: The use of label encoder in XGBClassifier is deprecated and will be removed in a future release. To remove this warning, do the following: 1) Pass option use_label_encoder=False when constructing XGBClassifier object; and 2) Encode your labels (y) as integers starting with 0, i.e. 0, 1, 2, ..., [num_class - 1].\n",
      "  warnings.warn(label_encoder_deprecation_msg, UserWarning)\n",
      "/Users/evgeny/PycharmProjects/Titanic/venv/lib/python3.9/site-packages/xgboost/sklearn.py:1224: UserWarning: The use of label encoder in XGBClassifier is deprecated and will be removed in a future release. To remove this warning, do the following: 1) Pass option use_label_encoder=False when constructing XGBClassifier object; and 2) Encode your labels (y) as integers starting with 0, i.e. 0, 1, 2, ..., [num_class - 1].\n",
      "  warnings.warn(label_encoder_deprecation_msg, UserWarning)\n",
      "/Users/evgeny/PycharmProjects/Titanic/venv/lib/python3.9/site-packages/xgboost/sklearn.py:1224: UserWarning: The use of label encoder in XGBClassifier is deprecated and will be removed in a future release. To remove this warning, do the following: 1) Pass option use_label_encoder=False when constructing XGBClassifier object; and 2) Encode your labels (y) as integers starting with 0, i.e. 0, 1, 2, ..., [num_class - 1].\n",
      "  warnings.warn(label_encoder_deprecation_msg, UserWarning)\n",
      "/Users/evgeny/PycharmProjects/Titanic/venv/lib/python3.9/site-packages/xgboost/sklearn.py:1224: UserWarning: The use of label encoder in XGBClassifier is deprecated and will be removed in a future release. To remove this warning, do the following: 1) Pass option use_label_encoder=False when constructing XGBClassifier object; and 2) Encode your labels (y) as integers starting with 0, i.e. 0, 1, 2, ..., [num_class - 1].\n",
      "  warnings.warn(label_encoder_deprecation_msg, UserWarning)\n",
      "/Users/evgeny/PycharmProjects/Titanic/venv/lib/python3.9/site-packages/xgboost/sklearn.py:1224: UserWarning: The use of label encoder in XGBClassifier is deprecated and will be removed in a future release. To remove this warning, do the following: 1) Pass option use_label_encoder=False when constructing XGBClassifier object; and 2) Encode your labels (y) as integers starting with 0, i.e. 0, 1, 2, ..., [num_class - 1].\n",
      "  warnings.warn(label_encoder_deprecation_msg, UserWarning)\n",
      "/Users/evgeny/PycharmProjects/Titanic/venv/lib/python3.9/site-packages/xgboost/sklearn.py:1224: UserWarning: The use of label encoder in XGBClassifier is deprecated and will be removed in a future release. To remove this warning, do the following: 1) Pass option use_label_encoder=False when constructing XGBClassifier object; and 2) Encode your labels (y) as integers starting with 0, i.e. 0, 1, 2, ..., [num_class - 1].\n",
      "  warnings.warn(label_encoder_deprecation_msg, UserWarning)\n",
      "/Users/evgeny/PycharmProjects/Titanic/venv/lib/python3.9/site-packages/xgboost/sklearn.py:1224: UserWarning: The use of label encoder in XGBClassifier is deprecated and will be removed in a future release. To remove this warning, do the following: 1) Pass option use_label_encoder=False when constructing XGBClassifier object; and 2) Encode your labels (y) as integers starting with 0, i.e. 0, 1, 2, ..., [num_class - 1].\n",
      "  warnings.warn(label_encoder_deprecation_msg, UserWarning)\n",
      "/Users/evgeny/PycharmProjects/Titanic/venv/lib/python3.9/site-packages/xgboost/sklearn.py:1224: UserWarning: The use of label encoder in XGBClassifier is deprecated and will be removed in a future release. To remove this warning, do the following: 1) Pass option use_label_encoder=False when constructing XGBClassifier object; and 2) Encode your labels (y) as integers starting with 0, i.e. 0, 1, 2, ..., [num_class - 1].\n",
      "  warnings.warn(label_encoder_deprecation_msg, UserWarning)\n"
     ]
    },
    {
     "name": "stdout",
     "output_type": "stream",
     "text": [
      "[23:34:47] WARNING: /Users/runner/work/xgboost/xgboost/src/learner.cc:1115: Starting in XGBoost 1.3.0, the default evaluation metric used with the objective 'binary:logistic' was changed from 'error' to 'logloss'. Explicitly set eval_metric if you'd like to restore the old behavior.\n"
     ]
    },
    {
     "data": {
      "text/plain": "GridSearchCV(cv=5,\n             estimator=Pipeline(steps=[('preprocessor',\n                                        ColumnTransformer(transformers=[('num',\n                                                                         SimpleImputer(strategy='constant'),\n                                                                         ['Age',\n                                                                          'SibSp',\n                                                                          'Parch',\n                                                                          'Fare']),\n                                                                        ('cat',\n                                                                         Pipeline(steps=[('imputer',\n                                                                                          SimpleImputer(strategy='most_frequent')),\n                                                                                         ('onehot',\n                                                                                          OneHotEncoder(handle_unknown='ignore'))]),\n                                                                         ['Pclass',\n                                                                          'Sex',\n                                                                          'Embarked'])])),\n                                       ('model',\n                                        XGBClassifier(ba...\n                                                      max_depth=6,\n                                                      min_child_weight=1,\n                                                      missing=nan,\n                                                      monotone_constraints='()',\n                                                      n_estimators=100,\n                                                      n_jobs=12,\n                                                      num_parallel_tree=1,\n                                                      predictor='auto',\n                                                      random_state=1902,\n                                                      reg_alpha=0, reg_lambda=1,\n                                                      scale_pos_weight=1,\n                                                      subsample=1,\n                                                      tree_method='exact',\n                                                      validate_parameters=1,\n                                                      verbosity=None))]),\n             n_jobs=-1, param_grid={'model__subsample': [0.3, 0.5, 0.7, 0.9]},\n             scoring='accuracy', verbose=2)",
      "text/html": "<style>#sk-02372436-d1f2-47e2-92ab-76285e867913 {color: black;background-color: white;}#sk-02372436-d1f2-47e2-92ab-76285e867913 pre{padding: 0;}#sk-02372436-d1f2-47e2-92ab-76285e867913 div.sk-toggleable {background-color: white;}#sk-02372436-d1f2-47e2-92ab-76285e867913 label.sk-toggleable__label {cursor: pointer;display: block;width: 100%;margin-bottom: 0;padding: 0.3em;box-sizing: border-box;text-align: center;}#sk-02372436-d1f2-47e2-92ab-76285e867913 label.sk-toggleable__label-arrow:before {content: \"▸\";float: left;margin-right: 0.25em;color: #696969;}#sk-02372436-d1f2-47e2-92ab-76285e867913 label.sk-toggleable__label-arrow:hover:before {color: black;}#sk-02372436-d1f2-47e2-92ab-76285e867913 div.sk-estimator:hover label.sk-toggleable__label-arrow:before {color: black;}#sk-02372436-d1f2-47e2-92ab-76285e867913 div.sk-toggleable__content {max-height: 0;max-width: 0;overflow: hidden;text-align: left;background-color: #f0f8ff;}#sk-02372436-d1f2-47e2-92ab-76285e867913 div.sk-toggleable__content pre {margin: 0.2em;color: black;border-radius: 0.25em;background-color: #f0f8ff;}#sk-02372436-d1f2-47e2-92ab-76285e867913 input.sk-toggleable__control:checked~div.sk-toggleable__content {max-height: 200px;max-width: 100%;overflow: auto;}#sk-02372436-d1f2-47e2-92ab-76285e867913 input.sk-toggleable__control:checked~label.sk-toggleable__label-arrow:before {content: \"▾\";}#sk-02372436-d1f2-47e2-92ab-76285e867913 div.sk-estimator input.sk-toggleable__control:checked~label.sk-toggleable__label {background-color: #d4ebff;}#sk-02372436-d1f2-47e2-92ab-76285e867913 div.sk-label input.sk-toggleable__control:checked~label.sk-toggleable__label {background-color: #d4ebff;}#sk-02372436-d1f2-47e2-92ab-76285e867913 input.sk-hidden--visually {border: 0;clip: rect(1px 1px 1px 1px);clip: rect(1px, 1px, 1px, 1px);height: 1px;margin: -1px;overflow: hidden;padding: 0;position: absolute;width: 1px;}#sk-02372436-d1f2-47e2-92ab-76285e867913 div.sk-estimator {font-family: monospace;background-color: #f0f8ff;border: 1px dotted black;border-radius: 0.25em;box-sizing: border-box;margin-bottom: 0.5em;}#sk-02372436-d1f2-47e2-92ab-76285e867913 div.sk-estimator:hover {background-color: #d4ebff;}#sk-02372436-d1f2-47e2-92ab-76285e867913 div.sk-parallel-item::after {content: \"\";width: 100%;border-bottom: 1px solid gray;flex-grow: 1;}#sk-02372436-d1f2-47e2-92ab-76285e867913 div.sk-label:hover label.sk-toggleable__label {background-color: #d4ebff;}#sk-02372436-d1f2-47e2-92ab-76285e867913 div.sk-serial::before {content: \"\";position: absolute;border-left: 1px solid gray;box-sizing: border-box;top: 2em;bottom: 0;left: 50%;}#sk-02372436-d1f2-47e2-92ab-76285e867913 div.sk-serial {display: flex;flex-direction: column;align-items: center;background-color: white;padding-right: 0.2em;padding-left: 0.2em;}#sk-02372436-d1f2-47e2-92ab-76285e867913 div.sk-item {z-index: 1;}#sk-02372436-d1f2-47e2-92ab-76285e867913 div.sk-parallel {display: flex;align-items: stretch;justify-content: center;background-color: white;}#sk-02372436-d1f2-47e2-92ab-76285e867913 div.sk-parallel::before {content: \"\";position: absolute;border-left: 1px solid gray;box-sizing: border-box;top: 2em;bottom: 0;left: 50%;}#sk-02372436-d1f2-47e2-92ab-76285e867913 div.sk-parallel-item {display: flex;flex-direction: column;position: relative;background-color: white;}#sk-02372436-d1f2-47e2-92ab-76285e867913 div.sk-parallel-item:first-child::after {align-self: flex-end;width: 50%;}#sk-02372436-d1f2-47e2-92ab-76285e867913 div.sk-parallel-item:last-child::after {align-self: flex-start;width: 50%;}#sk-02372436-d1f2-47e2-92ab-76285e867913 div.sk-parallel-item:only-child::after {width: 0;}#sk-02372436-d1f2-47e2-92ab-76285e867913 div.sk-dashed-wrapped {border: 1px dashed gray;margin: 0 0.4em 0.5em 0.4em;box-sizing: border-box;padding-bottom: 0.4em;background-color: white;position: relative;}#sk-02372436-d1f2-47e2-92ab-76285e867913 div.sk-label label {font-family: monospace;font-weight: bold;background-color: white;display: inline-block;line-height: 1.2em;}#sk-02372436-d1f2-47e2-92ab-76285e867913 div.sk-label-container {position: relative;z-index: 2;text-align: center;}#sk-02372436-d1f2-47e2-92ab-76285e867913 div.sk-container {/* jupyter's `normalize.less` sets `[hidden] { display: none; }` but bootstrap.min.css set `[hidden] { display: none !important; }` so we also need the `!important` here to be able to override the default hidden behavior on the sphinx rendered scikit-learn.org. See: https://github.com/scikit-learn/scikit-learn/issues/21755 */display: inline-block !important;position: relative;}#sk-02372436-d1f2-47e2-92ab-76285e867913 div.sk-text-repr-fallback {display: none;}</style><div id=\"sk-02372436-d1f2-47e2-92ab-76285e867913\" class=\"sk-top-container\"><div class=\"sk-text-repr-fallback\"><pre>GridSearchCV(cv=5,\n             estimator=Pipeline(steps=[(&#x27;preprocessor&#x27;,\n                                        ColumnTransformer(transformers=[(&#x27;num&#x27;,\n                                                                         SimpleImputer(strategy=&#x27;constant&#x27;),\n                                                                         [&#x27;Age&#x27;,\n                                                                          &#x27;SibSp&#x27;,\n                                                                          &#x27;Parch&#x27;,\n                                                                          &#x27;Fare&#x27;]),\n                                                                        (&#x27;cat&#x27;,\n                                                                         Pipeline(steps=[(&#x27;imputer&#x27;,\n                                                                                          SimpleImputer(strategy=&#x27;most_frequent&#x27;)),\n                                                                                         (&#x27;onehot&#x27;,\n                                                                                          OneHotEncoder(handle_unknown=&#x27;ignore&#x27;))]),\n                                                                         [&#x27;Pclass&#x27;,\n                                                                          &#x27;Sex&#x27;,\n                                                                          &#x27;Embarked&#x27;])])),\n                                       (&#x27;model&#x27;,\n                                        XGBClassifier(ba...\n                                                      max_depth=6,\n                                                      min_child_weight=1,\n                                                      missing=nan,\n                                                      monotone_constraints=&#x27;()&#x27;,\n                                                      n_estimators=100,\n                                                      n_jobs=12,\n                                                      num_parallel_tree=1,\n                                                      predictor=&#x27;auto&#x27;,\n                                                      random_state=1902,\n                                                      reg_alpha=0, reg_lambda=1,\n                                                      scale_pos_weight=1,\n                                                      subsample=1,\n                                                      tree_method=&#x27;exact&#x27;,\n                                                      validate_parameters=1,\n                                                      verbosity=None))]),\n             n_jobs=-1, param_grid={&#x27;model__subsample&#x27;: [0.3, 0.5, 0.7, 0.9]},\n             scoring=&#x27;accuracy&#x27;, verbose=2)</pre><b>Please rerun this cell to show the HTML repr or trust the notebook.</b></div><div class=\"sk-container\" hidden><div class=\"sk-item sk-dashed-wrapped\"><div class=\"sk-label-container\"><div class=\"sk-label sk-toggleable\"><input class=\"sk-toggleable__control sk-hidden--visually\" id=\"67549727-923a-4c88-b6b1-1f27e9a9e5df\" type=\"checkbox\" ><label for=\"67549727-923a-4c88-b6b1-1f27e9a9e5df\" class=\"sk-toggleable__label sk-toggleable__label-arrow\">GridSearchCV</label><div class=\"sk-toggleable__content\"><pre>GridSearchCV(cv=5,\n             estimator=Pipeline(steps=[(&#x27;preprocessor&#x27;,\n                                        ColumnTransformer(transformers=[(&#x27;num&#x27;,\n                                                                         SimpleImputer(strategy=&#x27;constant&#x27;),\n                                                                         [&#x27;Age&#x27;,\n                                                                          &#x27;SibSp&#x27;,\n                                                                          &#x27;Parch&#x27;,\n                                                                          &#x27;Fare&#x27;]),\n                                                                        (&#x27;cat&#x27;,\n                                                                         Pipeline(steps=[(&#x27;imputer&#x27;,\n                                                                                          SimpleImputer(strategy=&#x27;most_frequent&#x27;)),\n                                                                                         (&#x27;onehot&#x27;,\n                                                                                          OneHotEncoder(handle_unknown=&#x27;ignore&#x27;))]),\n                                                                         [&#x27;Pclass&#x27;,\n                                                                          &#x27;Sex&#x27;,\n                                                                          &#x27;Embarked&#x27;])])),\n                                       (&#x27;model&#x27;,\n                                        XGBClassifier(ba...\n                                                      max_depth=6,\n                                                      min_child_weight=1,\n                                                      missing=nan,\n                                                      monotone_constraints=&#x27;()&#x27;,\n                                                      n_estimators=100,\n                                                      n_jobs=12,\n                                                      num_parallel_tree=1,\n                                                      predictor=&#x27;auto&#x27;,\n                                                      random_state=1902,\n                                                      reg_alpha=0, reg_lambda=1,\n                                                      scale_pos_weight=1,\n                                                      subsample=1,\n                                                      tree_method=&#x27;exact&#x27;,\n                                                      validate_parameters=1,\n                                                      verbosity=None))]),\n             n_jobs=-1, param_grid={&#x27;model__subsample&#x27;: [0.3, 0.5, 0.7, 0.9]},\n             scoring=&#x27;accuracy&#x27;, verbose=2)</pre></div></div></div><div class=\"sk-parallel\"><div class=\"sk-parallel-item\"><div class=\"sk-item\"><div class=\"sk-serial\"><div class=\"sk-item\"><div class=\"sk-serial\"><div class=\"sk-item sk-dashed-wrapped\"><div class=\"sk-label-container\"><div class=\"sk-label sk-toggleable\"><input class=\"sk-toggleable__control sk-hidden--visually\" id=\"8fb52959-ee48-4c4a-b0aa-c3842717b6fd\" type=\"checkbox\" ><label for=\"8fb52959-ee48-4c4a-b0aa-c3842717b6fd\" class=\"sk-toggleable__label sk-toggleable__label-arrow\">preprocessor: ColumnTransformer</label><div class=\"sk-toggleable__content\"><pre>ColumnTransformer(transformers=[(&#x27;num&#x27;, SimpleImputer(strategy=&#x27;constant&#x27;),\n                                 [&#x27;Age&#x27;, &#x27;SibSp&#x27;, &#x27;Parch&#x27;, &#x27;Fare&#x27;]),\n                                (&#x27;cat&#x27;,\n                                 Pipeline(steps=[(&#x27;imputer&#x27;,\n                                                  SimpleImputer(strategy=&#x27;most_frequent&#x27;)),\n                                                 (&#x27;onehot&#x27;,\n                                                  OneHotEncoder(handle_unknown=&#x27;ignore&#x27;))]),\n                                 [&#x27;Pclass&#x27;, &#x27;Sex&#x27;, &#x27;Embarked&#x27;])])</pre></div></div></div><div class=\"sk-parallel\"><div class=\"sk-parallel-item\"><div class=\"sk-item\"><div class=\"sk-label-container\"><div class=\"sk-label sk-toggleable\"><input class=\"sk-toggleable__control sk-hidden--visually\" id=\"9023de31-eded-4dee-be2a-2d84e8a9c6b2\" type=\"checkbox\" ><label for=\"9023de31-eded-4dee-be2a-2d84e8a9c6b2\" class=\"sk-toggleable__label sk-toggleable__label-arrow\">num</label><div class=\"sk-toggleable__content\"><pre>[&#x27;Age&#x27;, &#x27;SibSp&#x27;, &#x27;Parch&#x27;, &#x27;Fare&#x27;]</pre></div></div></div><div class=\"sk-serial\"><div class=\"sk-item\"><div class=\"sk-estimator sk-toggleable\"><input class=\"sk-toggleable__control sk-hidden--visually\" id=\"c6238a56-24f9-4adb-8625-85d0110383fd\" type=\"checkbox\" ><label for=\"c6238a56-24f9-4adb-8625-85d0110383fd\" class=\"sk-toggleable__label sk-toggleable__label-arrow\">SimpleImputer</label><div class=\"sk-toggleable__content\"><pre>SimpleImputer(strategy=&#x27;constant&#x27;)</pre></div></div></div></div></div></div><div class=\"sk-parallel-item\"><div class=\"sk-item\"><div class=\"sk-label-container\"><div class=\"sk-label sk-toggleable\"><input class=\"sk-toggleable__control sk-hidden--visually\" id=\"927810b5-06a9-4483-a2e1-08d0dce6aaae\" type=\"checkbox\" ><label for=\"927810b5-06a9-4483-a2e1-08d0dce6aaae\" class=\"sk-toggleable__label sk-toggleable__label-arrow\">cat</label><div class=\"sk-toggleable__content\"><pre>[&#x27;Pclass&#x27;, &#x27;Sex&#x27;, &#x27;Embarked&#x27;]</pre></div></div></div><div class=\"sk-serial\"><div class=\"sk-item\"><div class=\"sk-serial\"><div class=\"sk-item\"><div class=\"sk-estimator sk-toggleable\"><input class=\"sk-toggleable__control sk-hidden--visually\" id=\"f4e14e8c-eb23-4863-b862-af6e12bf18b4\" type=\"checkbox\" ><label for=\"f4e14e8c-eb23-4863-b862-af6e12bf18b4\" class=\"sk-toggleable__label sk-toggleable__label-arrow\">SimpleImputer</label><div class=\"sk-toggleable__content\"><pre>SimpleImputer(strategy=&#x27;most_frequent&#x27;)</pre></div></div></div><div class=\"sk-item\"><div class=\"sk-estimator sk-toggleable\"><input class=\"sk-toggleable__control sk-hidden--visually\" id=\"579a2fac-5472-4e79-9356-97318546619f\" type=\"checkbox\" ><label for=\"579a2fac-5472-4e79-9356-97318546619f\" class=\"sk-toggleable__label sk-toggleable__label-arrow\">OneHotEncoder</label><div class=\"sk-toggleable__content\"><pre>OneHotEncoder(handle_unknown=&#x27;ignore&#x27;)</pre></div></div></div></div></div></div></div></div></div></div><div class=\"sk-item\"><div class=\"sk-estimator sk-toggleable\"><input class=\"sk-toggleable__control sk-hidden--visually\" id=\"9312cdf3-9280-4a0f-aa8a-1babb463b1a7\" type=\"checkbox\" ><label for=\"9312cdf3-9280-4a0f-aa8a-1babb463b1a7\" class=\"sk-toggleable__label sk-toggleable__label-arrow\">XGBClassifier</label><div class=\"sk-toggleable__content\"><pre>XGBClassifier(base_score=0.5, booster=&#x27;gbtree&#x27;, colsample_bylevel=1,\n              colsample_bynode=1, colsample_bytree=1, enable_categorical=False,\n              gamma=0, gpu_id=-1, importance_type=None,\n              interaction_constraints=&#x27;&#x27;, learning_rate=0.300000012,\n              max_delta_step=0, max_depth=6, min_child_weight=1, missing=nan,\n              monotone_constraints=&#x27;()&#x27;, n_estimators=100, n_jobs=12,\n              num_parallel_tree=1, predictor=&#x27;auto&#x27;, random_state=1902,\n              reg_alpha=0, reg_lambda=1, scale_pos_weight=1, subsample=1,\n              tree_method=&#x27;exact&#x27;, validate_parameters=1, verbosity=None)</pre></div></div></div></div></div></div></div></div></div></div></div></div>"
     },
     "execution_count": 28,
     "metadata": {},
     "output_type": "execute_result"
    }
   ]
  },
  {
   "cell_type": "code",
   "source": [
    "print(gs_4.best_score_)\n",
    "print(gs_4.best_params_)"
   ],
   "metadata": {
    "execution": {
     "iopub.status.busy": "2022-01-23T20:25:17.420513Z",
     "iopub.execute_input": "2022-01-23T20:25:17.420842Z",
     "iopub.status.idle": "2022-01-23T20:25:17.426516Z",
     "shell.execute_reply.started": "2022-01-23T20:25:17.420806Z",
     "shell.execute_reply": "2022-01-23T20:25:17.425539Z"
    },
    "trusted": true
   },
   "execution_count": 29,
   "outputs": [
    {
     "name": "stdout",
     "output_type": "stream",
     "text": [
      "0.8092147385600402\n",
      "{'model__subsample': 0.3}\n"
     ]
    }
   ]
  },
  {
   "cell_type": "markdown",
   "source": [
    "### Gamma"
   ],
   "metadata": {}
  },
  {
   "cell_type": "code",
   "source": [
    "gs_5 = GridSearchCV(\n",
    "    estimator=clf_XGB,\n",
    "    param_grid=gs_params[5], \n",
    "    cv=5, \n",
    "    n_jobs=-1, \n",
    "    scoring='accuracy',\n",
    "    verbose=2\n",
    ")"
   ],
   "metadata": {
    "execution": {
     "iopub.status.busy": "2022-01-23T20:25:17.42788Z",
     "iopub.execute_input": "2022-01-23T20:25:17.428257Z",
     "iopub.status.idle": "2022-01-23T20:25:17.436624Z",
     "shell.execute_reply.started": "2022-01-23T20:25:17.42822Z",
     "shell.execute_reply": "2022-01-23T20:25:17.435688Z"
    },
    "trusted": true
   },
   "execution_count": 30,
   "outputs": []
  },
  {
   "cell_type": "code",
   "source": [
    "gs_5.fit(X_train.append(X_test),y_train.append(y_test))"
   ],
   "metadata": {
    "execution": {
     "iopub.status.busy": "2022-01-23T20:25:17.437848Z",
     "iopub.execute_input": "2022-01-23T20:25:17.438226Z",
     "iopub.status.idle": "2022-01-23T20:30:32.662831Z",
     "shell.execute_reply.started": "2022-01-23T20:25:17.438195Z",
     "shell.execute_reply": "2022-01-23T20:30:32.661725Z"
    },
    "trusted": true
   },
   "execution_count": 31,
   "outputs": [
    {
     "name": "stdout",
     "output_type": "stream",
     "text": [
      "Fitting 5 folds for each of 4 candidates, totalling 20 fits\n"
     ]
    },
    {
     "name": "stderr",
     "output_type": "stream",
     "text": [
      "/var/folders/_0/nwqrty512s5bb9npv3jrwv240000gn/T/ipykernel_18044/4291009197.py:1: FutureWarning: The frame.append method is deprecated and will be removed from pandas in a future version. Use pandas.concat instead.\n",
      "  gs_5.fit(X_train.append(X_test),y_train.append(y_test))\n",
      "/var/folders/_0/nwqrty512s5bb9npv3jrwv240000gn/T/ipykernel_18044/4291009197.py:1: FutureWarning: The series.append method is deprecated and will be removed from pandas in a future version. Use pandas.concat instead.\n",
      "  gs_5.fit(X_train.append(X_test),y_train.append(y_test))\n",
      "/Users/evgeny/PycharmProjects/Titanic/venv/lib/python3.9/site-packages/xgboost/sklearn.py:1224: UserWarning: The use of label encoder in XGBClassifier is deprecated and will be removed in a future release. To remove this warning, do the following: 1) Pass option use_label_encoder=False when constructing XGBClassifier object; and 2) Encode your labels (y) as integers starting with 0, i.e. 0, 1, 2, ..., [num_class - 1].\n",
      "  warnings.warn(label_encoder_deprecation_msg, UserWarning)\n",
      "/Users/evgeny/PycharmProjects/Titanic/venv/lib/python3.9/site-packages/xgboost/sklearn.py:1224: UserWarning: The use of label encoder in XGBClassifier is deprecated and will be removed in a future release. To remove this warning, do the following: 1) Pass option use_label_encoder=False when constructing XGBClassifier object; and 2) Encode your labels (y) as integers starting with 0, i.e. 0, 1, 2, ..., [num_class - 1].\n",
      "  warnings.warn(label_encoder_deprecation_msg, UserWarning)\n",
      "/Users/evgeny/PycharmProjects/Titanic/venv/lib/python3.9/site-packages/xgboost/sklearn.py:1224: UserWarning: The use of label encoder in XGBClassifier is deprecated and will be removed in a future release. To remove this warning, do the following: 1) Pass option use_label_encoder=False when constructing XGBClassifier object; and 2) Encode your labels (y) as integers starting with 0, i.e. 0, 1, 2, ..., [num_class - 1].\n",
      "  warnings.warn(label_encoder_deprecation_msg, UserWarning)\n",
      "/Users/evgeny/PycharmProjects/Titanic/venv/lib/python3.9/site-packages/xgboost/sklearn.py:1224: UserWarning: The use of label encoder in XGBClassifier is deprecated and will be removed in a future release. To remove this warning, do the following: 1) Pass option use_label_encoder=False when constructing XGBClassifier object; and 2) Encode your labels (y) as integers starting with 0, i.e. 0, 1, 2, ..., [num_class - 1].\n",
      "  warnings.warn(label_encoder_deprecation_msg, UserWarning)\n",
      "/Users/evgeny/PycharmProjects/Titanic/venv/lib/python3.9/site-packages/xgboost/sklearn.py:1224: UserWarning: The use of label encoder in XGBClassifier is deprecated and will be removed in a future release. To remove this warning, do the following: 1) Pass option use_label_encoder=False when constructing XGBClassifier object; and 2) Encode your labels (y) as integers starting with 0, i.e. 0, 1, 2, ..., [num_class - 1].\n",
      "  warnings.warn(label_encoder_deprecation_msg, UserWarning)\n",
      "/Users/evgeny/PycharmProjects/Titanic/venv/lib/python3.9/site-packages/xgboost/sklearn.py:1224: UserWarning: The use of label encoder in XGBClassifier is deprecated and will be removed in a future release. To remove this warning, do the following: 1) Pass option use_label_encoder=False when constructing XGBClassifier object; and 2) Encode your labels (y) as integers starting with 0, i.e. 0, 1, 2, ..., [num_class - 1].\n",
      "  warnings.warn(label_encoder_deprecation_msg, UserWarning)\n",
      "/Users/evgeny/PycharmProjects/Titanic/venv/lib/python3.9/site-packages/xgboost/sklearn.py:1224: UserWarning: The use of label encoder in XGBClassifier is deprecated and will be removed in a future release. To remove this warning, do the following: 1) Pass option use_label_encoder=False when constructing XGBClassifier object; and 2) Encode your labels (y) as integers starting with 0, i.e. 0, 1, 2, ..., [num_class - 1].\n",
      "  warnings.warn(label_encoder_deprecation_msg, UserWarning)\n",
      "/Users/evgeny/PycharmProjects/Titanic/venv/lib/python3.9/site-packages/xgboost/sklearn.py:1224: UserWarning: The use of label encoder in XGBClassifier is deprecated and will be removed in a future release. To remove this warning, do the following: 1) Pass option use_label_encoder=False when constructing XGBClassifier object; and 2) Encode your labels (y) as integers starting with 0, i.e. 0, 1, 2, ..., [num_class - 1].\n",
      "  warnings.warn(label_encoder_deprecation_msg, UserWarning)\n",
      "/Users/evgeny/PycharmProjects/Titanic/venv/lib/python3.9/site-packages/xgboost/sklearn.py:1224: UserWarning: The use of label encoder in XGBClassifier is deprecated and will be removed in a future release. To remove this warning, do the following: 1) Pass option use_label_encoder=False when constructing XGBClassifier object; and 2) Encode your labels (y) as integers starting with 0, i.e. 0, 1, 2, ..., [num_class - 1].\n",
      "  warnings.warn(label_encoder_deprecation_msg, UserWarning)\n",
      "/Users/evgeny/PycharmProjects/Titanic/venv/lib/python3.9/site-packages/xgboost/sklearn.py:1224: UserWarning: The use of label encoder in XGBClassifier is deprecated and will be removed in a future release. To remove this warning, do the following: 1) Pass option use_label_encoder=False when constructing XGBClassifier object; and 2) Encode your labels (y) as integers starting with 0, i.e. 0, 1, 2, ..., [num_class - 1].\n",
      "  warnings.warn(label_encoder_deprecation_msg, UserWarning)\n",
      "/Users/evgeny/PycharmProjects/Titanic/venv/lib/python3.9/site-packages/xgboost/sklearn.py:1224: UserWarning: The use of label encoder in XGBClassifier is deprecated and will be removed in a future release. To remove this warning, do the following: 1) Pass option use_label_encoder=False when constructing XGBClassifier object; and 2) Encode your labels (y) as integers starting with 0, i.e. 0, 1, 2, ..., [num_class - 1].\n",
      "  warnings.warn(label_encoder_deprecation_msg, UserWarning)\n",
      "/Users/evgeny/PycharmProjects/Titanic/venv/lib/python3.9/site-packages/xgboost/sklearn.py:1224: UserWarning: The use of label encoder in XGBClassifier is deprecated and will be removed in a future release. To remove this warning, do the following: 1) Pass option use_label_encoder=False when constructing XGBClassifier object; and 2) Encode your labels (y) as integers starting with 0, i.e. 0, 1, 2, ..., [num_class - 1].\n",
      "  warnings.warn(label_encoder_deprecation_msg, UserWarning)\n",
      "/Users/evgeny/PycharmProjects/Titanic/venv/lib/python3.9/site-packages/xgboost/sklearn.py:1224: UserWarning: The use of label encoder in XGBClassifier is deprecated and will be removed in a future release. To remove this warning, do the following: 1) Pass option use_label_encoder=False when constructing XGBClassifier object; and 2) Encode your labels (y) as integers starting with 0, i.e. 0, 1, 2, ..., [num_class - 1].\n",
      "  warnings.warn(label_encoder_deprecation_msg, UserWarning)\n",
      "/Users/evgeny/PycharmProjects/Titanic/venv/lib/python3.9/site-packages/xgboost/sklearn.py:1224: UserWarning: The use of label encoder in XGBClassifier is deprecated and will be removed in a future release. To remove this warning, do the following: 1) Pass option use_label_encoder=False when constructing XGBClassifier object; and 2) Encode your labels (y) as integers starting with 0, i.e. 0, 1, 2, ..., [num_class - 1].\n",
      "  warnings.warn(label_encoder_deprecation_msg, UserWarning)\n",
      "/Users/evgeny/PycharmProjects/Titanic/venv/lib/python3.9/site-packages/xgboost/sklearn.py:1224: UserWarning: The use of label encoder in XGBClassifier is deprecated and will be removed in a future release. To remove this warning, do the following: 1) Pass option use_label_encoder=False when constructing XGBClassifier object; and 2) Encode your labels (y) as integers starting with 0, i.e. 0, 1, 2, ..., [num_class - 1].\n",
      "  warnings.warn(label_encoder_deprecation_msg, UserWarning)\n",
      "/Users/evgeny/PycharmProjects/Titanic/venv/lib/python3.9/site-packages/xgboost/sklearn.py:1224: UserWarning: The use of label encoder in XGBClassifier is deprecated and will be removed in a future release. To remove this warning, do the following: 1) Pass option use_label_encoder=False when constructing XGBClassifier object; and 2) Encode your labels (y) as integers starting with 0, i.e. 0, 1, 2, ..., [num_class - 1].\n",
      "  warnings.warn(label_encoder_deprecation_msg, UserWarning)\n",
      "/Users/evgeny/PycharmProjects/Titanic/venv/lib/python3.9/site-packages/xgboost/sklearn.py:1224: UserWarning: The use of label encoder in XGBClassifier is deprecated and will be removed in a future release. To remove this warning, do the following: 1) Pass option use_label_encoder=False when constructing XGBClassifier object; and 2) Encode your labels (y) as integers starting with 0, i.e. 0, 1, 2, ..., [num_class - 1].\n",
      "  warnings.warn(label_encoder_deprecation_msg, UserWarning)\n",
      "/Users/evgeny/PycharmProjects/Titanic/venv/lib/python3.9/site-packages/xgboost/sklearn.py:1224: UserWarning: The use of label encoder in XGBClassifier is deprecated and will be removed in a future release. To remove this warning, do the following: 1) Pass option use_label_encoder=False when constructing XGBClassifier object; and 2) Encode your labels (y) as integers starting with 0, i.e. 0, 1, 2, ..., [num_class - 1].\n",
      "  warnings.warn(label_encoder_deprecation_msg, UserWarning)\n",
      "/Users/evgeny/PycharmProjects/Titanic/venv/lib/python3.9/site-packages/xgboost/sklearn.py:1224: UserWarning: The use of label encoder in XGBClassifier is deprecated and will be removed in a future release. To remove this warning, do the following: 1) Pass option use_label_encoder=False when constructing XGBClassifier object; and 2) Encode your labels (y) as integers starting with 0, i.e. 0, 1, 2, ..., [num_class - 1].\n",
      "  warnings.warn(label_encoder_deprecation_msg, UserWarning)\n",
      "/Users/evgeny/PycharmProjects/Titanic/venv/lib/python3.9/site-packages/xgboost/sklearn.py:1224: UserWarning: The use of label encoder in XGBClassifier is deprecated and will be removed in a future release. To remove this warning, do the following: 1) Pass option use_label_encoder=False when constructing XGBClassifier object; and 2) Encode your labels (y) as integers starting with 0, i.e. 0, 1, 2, ..., [num_class - 1].\n",
      "  warnings.warn(label_encoder_deprecation_msg, UserWarning)\n",
      "/Users/evgeny/PycharmProjects/Titanic/venv/lib/python3.9/site-packages/xgboost/sklearn.py:1224: UserWarning: The use of label encoder in XGBClassifier is deprecated and will be removed in a future release. To remove this warning, do the following: 1) Pass option use_label_encoder=False when constructing XGBClassifier object; and 2) Encode your labels (y) as integers starting with 0, i.e. 0, 1, 2, ..., [num_class - 1].\n",
      "  warnings.warn(label_encoder_deprecation_msg, UserWarning)\n"
     ]
    },
    {
     "name": "stdout",
     "output_type": "stream",
     "text": [
      "[23:35:40] WARNING: /Users/runner/work/xgboost/xgboost/src/learner.cc:1115: Starting in XGBoost 1.3.0, the default evaluation metric used with the objective 'binary:logistic' was changed from 'error' to 'logloss'. Explicitly set eval_metric if you'd like to restore the old behavior.\n"
     ]
    },
    {
     "data": {
      "text/plain": "GridSearchCV(cv=5,\n             estimator=Pipeline(steps=[('preprocessor',\n                                        ColumnTransformer(transformers=[('num',\n                                                                         SimpleImputer(strategy='constant'),\n                                                                         ['Age',\n                                                                          'SibSp',\n                                                                          'Parch',\n                                                                          'Fare']),\n                                                                        ('cat',\n                                                                         Pipeline(steps=[('imputer',\n                                                                                          SimpleImputer(strategy='most_frequent')),\n                                                                                         ('onehot',\n                                                                                          OneHotEncoder(handle_unknown='ignore'))]),\n                                                                         ['Pclass',\n                                                                          'Sex',\n                                                                          'Embarked'])])),\n                                       ('model',\n                                        XGBClassifier(ba...\n                                                      max_depth=6,\n                                                      min_child_weight=1,\n                                                      missing=nan,\n                                                      monotone_constraints='()',\n                                                      n_estimators=100,\n                                                      n_jobs=12,\n                                                      num_parallel_tree=1,\n                                                      predictor='auto',\n                                                      random_state=1902,\n                                                      reg_alpha=0, reg_lambda=1,\n                                                      scale_pos_weight=1,\n                                                      subsample=1,\n                                                      tree_method='exact',\n                                                      validate_parameters=1,\n                                                      verbosity=None))]),\n             n_jobs=-1, param_grid={'model__gamma': [0.05, 0.1, 0.5, 1]},\n             scoring='accuracy', verbose=2)",
      "text/html": "<style>#sk-c274ff6c-3c2a-414e-877b-9ad8c191b40b {color: black;background-color: white;}#sk-c274ff6c-3c2a-414e-877b-9ad8c191b40b pre{padding: 0;}#sk-c274ff6c-3c2a-414e-877b-9ad8c191b40b div.sk-toggleable {background-color: white;}#sk-c274ff6c-3c2a-414e-877b-9ad8c191b40b label.sk-toggleable__label {cursor: pointer;display: block;width: 100%;margin-bottom: 0;padding: 0.3em;box-sizing: border-box;text-align: center;}#sk-c274ff6c-3c2a-414e-877b-9ad8c191b40b label.sk-toggleable__label-arrow:before {content: \"▸\";float: left;margin-right: 0.25em;color: #696969;}#sk-c274ff6c-3c2a-414e-877b-9ad8c191b40b label.sk-toggleable__label-arrow:hover:before {color: black;}#sk-c274ff6c-3c2a-414e-877b-9ad8c191b40b div.sk-estimator:hover label.sk-toggleable__label-arrow:before {color: black;}#sk-c274ff6c-3c2a-414e-877b-9ad8c191b40b div.sk-toggleable__content {max-height: 0;max-width: 0;overflow: hidden;text-align: left;background-color: #f0f8ff;}#sk-c274ff6c-3c2a-414e-877b-9ad8c191b40b div.sk-toggleable__content pre {margin: 0.2em;color: black;border-radius: 0.25em;background-color: #f0f8ff;}#sk-c274ff6c-3c2a-414e-877b-9ad8c191b40b input.sk-toggleable__control:checked~div.sk-toggleable__content {max-height: 200px;max-width: 100%;overflow: auto;}#sk-c274ff6c-3c2a-414e-877b-9ad8c191b40b input.sk-toggleable__control:checked~label.sk-toggleable__label-arrow:before {content: \"▾\";}#sk-c274ff6c-3c2a-414e-877b-9ad8c191b40b div.sk-estimator input.sk-toggleable__control:checked~label.sk-toggleable__label {background-color: #d4ebff;}#sk-c274ff6c-3c2a-414e-877b-9ad8c191b40b div.sk-label input.sk-toggleable__control:checked~label.sk-toggleable__label {background-color: #d4ebff;}#sk-c274ff6c-3c2a-414e-877b-9ad8c191b40b input.sk-hidden--visually {border: 0;clip: rect(1px 1px 1px 1px);clip: rect(1px, 1px, 1px, 1px);height: 1px;margin: -1px;overflow: hidden;padding: 0;position: absolute;width: 1px;}#sk-c274ff6c-3c2a-414e-877b-9ad8c191b40b div.sk-estimator {font-family: monospace;background-color: #f0f8ff;border: 1px dotted black;border-radius: 0.25em;box-sizing: border-box;margin-bottom: 0.5em;}#sk-c274ff6c-3c2a-414e-877b-9ad8c191b40b div.sk-estimator:hover {background-color: #d4ebff;}#sk-c274ff6c-3c2a-414e-877b-9ad8c191b40b div.sk-parallel-item::after {content: \"\";width: 100%;border-bottom: 1px solid gray;flex-grow: 1;}#sk-c274ff6c-3c2a-414e-877b-9ad8c191b40b div.sk-label:hover label.sk-toggleable__label {background-color: #d4ebff;}#sk-c274ff6c-3c2a-414e-877b-9ad8c191b40b div.sk-serial::before {content: \"\";position: absolute;border-left: 1px solid gray;box-sizing: border-box;top: 2em;bottom: 0;left: 50%;}#sk-c274ff6c-3c2a-414e-877b-9ad8c191b40b div.sk-serial {display: flex;flex-direction: column;align-items: center;background-color: white;padding-right: 0.2em;padding-left: 0.2em;}#sk-c274ff6c-3c2a-414e-877b-9ad8c191b40b div.sk-item {z-index: 1;}#sk-c274ff6c-3c2a-414e-877b-9ad8c191b40b div.sk-parallel {display: flex;align-items: stretch;justify-content: center;background-color: white;}#sk-c274ff6c-3c2a-414e-877b-9ad8c191b40b div.sk-parallel::before {content: \"\";position: absolute;border-left: 1px solid gray;box-sizing: border-box;top: 2em;bottom: 0;left: 50%;}#sk-c274ff6c-3c2a-414e-877b-9ad8c191b40b div.sk-parallel-item {display: flex;flex-direction: column;position: relative;background-color: white;}#sk-c274ff6c-3c2a-414e-877b-9ad8c191b40b div.sk-parallel-item:first-child::after {align-self: flex-end;width: 50%;}#sk-c274ff6c-3c2a-414e-877b-9ad8c191b40b div.sk-parallel-item:last-child::after {align-self: flex-start;width: 50%;}#sk-c274ff6c-3c2a-414e-877b-9ad8c191b40b div.sk-parallel-item:only-child::after {width: 0;}#sk-c274ff6c-3c2a-414e-877b-9ad8c191b40b div.sk-dashed-wrapped {border: 1px dashed gray;margin: 0 0.4em 0.5em 0.4em;box-sizing: border-box;padding-bottom: 0.4em;background-color: white;position: relative;}#sk-c274ff6c-3c2a-414e-877b-9ad8c191b40b div.sk-label label {font-family: monospace;font-weight: bold;background-color: white;display: inline-block;line-height: 1.2em;}#sk-c274ff6c-3c2a-414e-877b-9ad8c191b40b div.sk-label-container {position: relative;z-index: 2;text-align: center;}#sk-c274ff6c-3c2a-414e-877b-9ad8c191b40b div.sk-container {/* jupyter's `normalize.less` sets `[hidden] { display: none; }` but bootstrap.min.css set `[hidden] { display: none !important; }` so we also need the `!important` here to be able to override the default hidden behavior on the sphinx rendered scikit-learn.org. See: https://github.com/scikit-learn/scikit-learn/issues/21755 */display: inline-block !important;position: relative;}#sk-c274ff6c-3c2a-414e-877b-9ad8c191b40b div.sk-text-repr-fallback {display: none;}</style><div id=\"sk-c274ff6c-3c2a-414e-877b-9ad8c191b40b\" class=\"sk-top-container\"><div class=\"sk-text-repr-fallback\"><pre>GridSearchCV(cv=5,\n             estimator=Pipeline(steps=[(&#x27;preprocessor&#x27;,\n                                        ColumnTransformer(transformers=[(&#x27;num&#x27;,\n                                                                         SimpleImputer(strategy=&#x27;constant&#x27;),\n                                                                         [&#x27;Age&#x27;,\n                                                                          &#x27;SibSp&#x27;,\n                                                                          &#x27;Parch&#x27;,\n                                                                          &#x27;Fare&#x27;]),\n                                                                        (&#x27;cat&#x27;,\n                                                                         Pipeline(steps=[(&#x27;imputer&#x27;,\n                                                                                          SimpleImputer(strategy=&#x27;most_frequent&#x27;)),\n                                                                                         (&#x27;onehot&#x27;,\n                                                                                          OneHotEncoder(handle_unknown=&#x27;ignore&#x27;))]),\n                                                                         [&#x27;Pclass&#x27;,\n                                                                          &#x27;Sex&#x27;,\n                                                                          &#x27;Embarked&#x27;])])),\n                                       (&#x27;model&#x27;,\n                                        XGBClassifier(ba...\n                                                      max_depth=6,\n                                                      min_child_weight=1,\n                                                      missing=nan,\n                                                      monotone_constraints=&#x27;()&#x27;,\n                                                      n_estimators=100,\n                                                      n_jobs=12,\n                                                      num_parallel_tree=1,\n                                                      predictor=&#x27;auto&#x27;,\n                                                      random_state=1902,\n                                                      reg_alpha=0, reg_lambda=1,\n                                                      scale_pos_weight=1,\n                                                      subsample=1,\n                                                      tree_method=&#x27;exact&#x27;,\n                                                      validate_parameters=1,\n                                                      verbosity=None))]),\n             n_jobs=-1, param_grid={&#x27;model__gamma&#x27;: [0.05, 0.1, 0.5, 1]},\n             scoring=&#x27;accuracy&#x27;, verbose=2)</pre><b>Please rerun this cell to show the HTML repr or trust the notebook.</b></div><div class=\"sk-container\" hidden><div class=\"sk-item sk-dashed-wrapped\"><div class=\"sk-label-container\"><div class=\"sk-label sk-toggleable\"><input class=\"sk-toggleable__control sk-hidden--visually\" id=\"081b475a-9cb3-4b86-8607-9925807467bf\" type=\"checkbox\" ><label for=\"081b475a-9cb3-4b86-8607-9925807467bf\" class=\"sk-toggleable__label sk-toggleable__label-arrow\">GridSearchCV</label><div class=\"sk-toggleable__content\"><pre>GridSearchCV(cv=5,\n             estimator=Pipeline(steps=[(&#x27;preprocessor&#x27;,\n                                        ColumnTransformer(transformers=[(&#x27;num&#x27;,\n                                                                         SimpleImputer(strategy=&#x27;constant&#x27;),\n                                                                         [&#x27;Age&#x27;,\n                                                                          &#x27;SibSp&#x27;,\n                                                                          &#x27;Parch&#x27;,\n                                                                          &#x27;Fare&#x27;]),\n                                                                        (&#x27;cat&#x27;,\n                                                                         Pipeline(steps=[(&#x27;imputer&#x27;,\n                                                                                          SimpleImputer(strategy=&#x27;most_frequent&#x27;)),\n                                                                                         (&#x27;onehot&#x27;,\n                                                                                          OneHotEncoder(handle_unknown=&#x27;ignore&#x27;))]),\n                                                                         [&#x27;Pclass&#x27;,\n                                                                          &#x27;Sex&#x27;,\n                                                                          &#x27;Embarked&#x27;])])),\n                                       (&#x27;model&#x27;,\n                                        XGBClassifier(ba...\n                                                      max_depth=6,\n                                                      min_child_weight=1,\n                                                      missing=nan,\n                                                      monotone_constraints=&#x27;()&#x27;,\n                                                      n_estimators=100,\n                                                      n_jobs=12,\n                                                      num_parallel_tree=1,\n                                                      predictor=&#x27;auto&#x27;,\n                                                      random_state=1902,\n                                                      reg_alpha=0, reg_lambda=1,\n                                                      scale_pos_weight=1,\n                                                      subsample=1,\n                                                      tree_method=&#x27;exact&#x27;,\n                                                      validate_parameters=1,\n                                                      verbosity=None))]),\n             n_jobs=-1, param_grid={&#x27;model__gamma&#x27;: [0.05, 0.1, 0.5, 1]},\n             scoring=&#x27;accuracy&#x27;, verbose=2)</pre></div></div></div><div class=\"sk-parallel\"><div class=\"sk-parallel-item\"><div class=\"sk-item\"><div class=\"sk-serial\"><div class=\"sk-item\"><div class=\"sk-serial\"><div class=\"sk-item sk-dashed-wrapped\"><div class=\"sk-label-container\"><div class=\"sk-label sk-toggleable\"><input class=\"sk-toggleable__control sk-hidden--visually\" id=\"6de178d4-6ecb-4038-bab2-e93f6335f478\" type=\"checkbox\" ><label for=\"6de178d4-6ecb-4038-bab2-e93f6335f478\" class=\"sk-toggleable__label sk-toggleable__label-arrow\">preprocessor: ColumnTransformer</label><div class=\"sk-toggleable__content\"><pre>ColumnTransformer(transformers=[(&#x27;num&#x27;, SimpleImputer(strategy=&#x27;constant&#x27;),\n                                 [&#x27;Age&#x27;, &#x27;SibSp&#x27;, &#x27;Parch&#x27;, &#x27;Fare&#x27;]),\n                                (&#x27;cat&#x27;,\n                                 Pipeline(steps=[(&#x27;imputer&#x27;,\n                                                  SimpleImputer(strategy=&#x27;most_frequent&#x27;)),\n                                                 (&#x27;onehot&#x27;,\n                                                  OneHotEncoder(handle_unknown=&#x27;ignore&#x27;))]),\n                                 [&#x27;Pclass&#x27;, &#x27;Sex&#x27;, &#x27;Embarked&#x27;])])</pre></div></div></div><div class=\"sk-parallel\"><div class=\"sk-parallel-item\"><div class=\"sk-item\"><div class=\"sk-label-container\"><div class=\"sk-label sk-toggleable\"><input class=\"sk-toggleable__control sk-hidden--visually\" id=\"984641aa-93e2-4303-a35d-5ed1830932e3\" type=\"checkbox\" ><label for=\"984641aa-93e2-4303-a35d-5ed1830932e3\" class=\"sk-toggleable__label sk-toggleable__label-arrow\">num</label><div class=\"sk-toggleable__content\"><pre>[&#x27;Age&#x27;, &#x27;SibSp&#x27;, &#x27;Parch&#x27;, &#x27;Fare&#x27;]</pre></div></div></div><div class=\"sk-serial\"><div class=\"sk-item\"><div class=\"sk-estimator sk-toggleable\"><input class=\"sk-toggleable__control sk-hidden--visually\" id=\"66f0905f-9364-4393-82c1-0f0bab262bd3\" type=\"checkbox\" ><label for=\"66f0905f-9364-4393-82c1-0f0bab262bd3\" class=\"sk-toggleable__label sk-toggleable__label-arrow\">SimpleImputer</label><div class=\"sk-toggleable__content\"><pre>SimpleImputer(strategy=&#x27;constant&#x27;)</pre></div></div></div></div></div></div><div class=\"sk-parallel-item\"><div class=\"sk-item\"><div class=\"sk-label-container\"><div class=\"sk-label sk-toggleable\"><input class=\"sk-toggleable__control sk-hidden--visually\" id=\"b588db6b-7251-40c8-b9a9-9fbaea63c502\" type=\"checkbox\" ><label for=\"b588db6b-7251-40c8-b9a9-9fbaea63c502\" class=\"sk-toggleable__label sk-toggleable__label-arrow\">cat</label><div class=\"sk-toggleable__content\"><pre>[&#x27;Pclass&#x27;, &#x27;Sex&#x27;, &#x27;Embarked&#x27;]</pre></div></div></div><div class=\"sk-serial\"><div class=\"sk-item\"><div class=\"sk-serial\"><div class=\"sk-item\"><div class=\"sk-estimator sk-toggleable\"><input class=\"sk-toggleable__control sk-hidden--visually\" id=\"be3c41dd-f9b7-4206-810d-737337bbdd04\" type=\"checkbox\" ><label for=\"be3c41dd-f9b7-4206-810d-737337bbdd04\" class=\"sk-toggleable__label sk-toggleable__label-arrow\">SimpleImputer</label><div class=\"sk-toggleable__content\"><pre>SimpleImputer(strategy=&#x27;most_frequent&#x27;)</pre></div></div></div><div class=\"sk-item\"><div class=\"sk-estimator sk-toggleable\"><input class=\"sk-toggleable__control sk-hidden--visually\" id=\"8a11533c-5e92-44c2-915d-26988129d08a\" type=\"checkbox\" ><label for=\"8a11533c-5e92-44c2-915d-26988129d08a\" class=\"sk-toggleable__label sk-toggleable__label-arrow\">OneHotEncoder</label><div class=\"sk-toggleable__content\"><pre>OneHotEncoder(handle_unknown=&#x27;ignore&#x27;)</pre></div></div></div></div></div></div></div></div></div></div><div class=\"sk-item\"><div class=\"sk-estimator sk-toggleable\"><input class=\"sk-toggleable__control sk-hidden--visually\" id=\"b5742d3d-ea6d-4d5d-b49e-cdec35a87751\" type=\"checkbox\" ><label for=\"b5742d3d-ea6d-4d5d-b49e-cdec35a87751\" class=\"sk-toggleable__label sk-toggleable__label-arrow\">XGBClassifier</label><div class=\"sk-toggleable__content\"><pre>XGBClassifier(base_score=0.5, booster=&#x27;gbtree&#x27;, colsample_bylevel=1,\n              colsample_bynode=1, colsample_bytree=1, enable_categorical=False,\n              gamma=0, gpu_id=-1, importance_type=None,\n              interaction_constraints=&#x27;&#x27;, learning_rate=0.300000012,\n              max_delta_step=0, max_depth=6, min_child_weight=1, missing=nan,\n              monotone_constraints=&#x27;()&#x27;, n_estimators=100, n_jobs=12,\n              num_parallel_tree=1, predictor=&#x27;auto&#x27;, random_state=1902,\n              reg_alpha=0, reg_lambda=1, scale_pos_weight=1, subsample=1,\n              tree_method=&#x27;exact&#x27;, validate_parameters=1, verbosity=None)</pre></div></div></div></div></div></div></div></div></div></div></div></div>"
     },
     "execution_count": 31,
     "metadata": {},
     "output_type": "execute_result"
    }
   ]
  },
  {
   "cell_type": "code",
   "source": [
    "print(gs_5.best_score_)\n",
    "print(gs_5.best_params_)"
   ],
   "metadata": {
    "execution": {
     "iopub.status.busy": "2022-01-23T20:30:32.664856Z",
     "iopub.execute_input": "2022-01-23T20:30:32.665173Z",
     "iopub.status.idle": "2022-01-23T20:30:32.670979Z",
     "shell.execute_reply.started": "2022-01-23T20:30:32.665142Z",
     "shell.execute_reply": "2022-01-23T20:30:32.669799Z"
    },
    "trusted": true
   },
   "execution_count": 32,
   "outputs": [
    {
     "name": "stdout",
     "output_type": "stream",
     "text": [
      "0.822666499278137\n",
      "{'model__gamma': 0.5}\n"
     ]
    }
   ]
  },
  {
   "cell_type": "markdown",
   "source": [
    "### More over suboptimal"
   ],
   "metadata": {}
  },
  {
   "cell_type": "code",
   "source": [
    "print(gs_1.best_params_)\n",
    "print(gs_2.best_params_)\n",
    "print(gs_3.best_params_)\n",
    "print(gs_4.best_params_)\n",
    "print(gs_5.best_params_)"
   ],
   "metadata": {
    "execution": {
     "iopub.status.busy": "2022-01-23T20:32:16.056879Z",
     "iopub.execute_input": "2022-01-23T20:32:16.057574Z",
     "iopub.status.idle": "2022-01-23T20:32:16.064789Z",
     "shell.execute_reply.started": "2022-01-23T20:32:16.057513Z",
     "shell.execute_reply": "2022-01-23T20:32:16.063831Z"
    },
    "trusted": true
   },
   "execution_count": 33,
   "outputs": [
    {
     "name": "stdout",
     "output_type": "stream",
     "text": [
      "{'model__n_estimators': 10}\n",
      "{'model__learning_rate': 0.05}\n",
      "{'model__max_depth': 2}\n",
      "{'model__subsample': 0.3}\n",
      "{'model__gamma': 0.5}\n"
     ]
    }
   ]
  },
  {
   "cell_type": "code",
   "source": [
    "# gs_params[6] = {'model__n_estimators': [5,10,15,20]\n",
    "#                 ,'model__learning_rate': [0.03,0.04,0.05,0.06,0.07]\n",
    "#                 ,'model__max_depth': [2,3,4,5]\n",
    "#                 ,'model__subsample': [0.2,0.25,0.3,0.35,0.4]\n",
    "#                 ,'model__gamma': [0.4,0.45,0.5,0.55,0.6]}"
   ],
   "metadata": {
    "execution": {
     "iopub.status.busy": "2022-01-23T20:36:14.653859Z",
     "iopub.execute_input": "2022-01-23T20:36:14.654247Z",
     "iopub.status.idle": "2022-01-23T20:36:14.659602Z",
     "shell.execute_reply.started": "2022-01-23T20:36:14.654215Z",
     "shell.execute_reply": "2022-01-23T20:36:14.658798Z"
    },
    "trusted": true
   },
   "execution_count": 34,
   "outputs": []
  },
  {
   "cell_type": "code",
   "source": [
    "# gs_6 = GridSearchCV(\n",
    "#     estimator=clf_XGB,\n",
    "#     param_grid=gs_params[6],\n",
    "#     cv=5,\n",
    "#     n_jobs=-1,\n",
    "#     scoring='accuracy',\n",
    "#     verbose=-1\n",
    "# )"
   ],
   "metadata": {
    "execution": {
     "iopub.status.busy": "2022-01-23T20:36:30.084471Z",
     "iopub.execute_input": "2022-01-23T20:36:30.085072Z",
     "iopub.status.idle": "2022-01-23T20:36:30.0898Z",
     "shell.execute_reply.started": "2022-01-23T20:36:30.085027Z",
     "shell.execute_reply": "2022-01-23T20:36:30.089114Z"
    },
    "trusted": true
   },
   "execution_count": 55,
   "outputs": []
  },
  {
   "cell_type": "code",
   "source": [
    "# gs_6.fit(X_train.append(X_test),y_train.append(y_test))"
   ],
   "metadata": {
    "execution": {
     "iopub.status.busy": "2022-01-23T20:37:36.891877Z",
     "iopub.execute_input": "2022-01-23T20:37:36.89238Z"
    },
    "trusted": true
   },
   "execution_count": 57,
   "outputs": []
  },
  {
   "cell_type": "code",
   "source": [
    "# print(gs_6.best_score_)\n",
    "# print(gs_6.best_params_)"
   ],
   "metadata": {
    "trusted": true
   },
   "execution_count": 37,
   "outputs": [
    {
     "name": "stdout",
     "output_type": "stream",
     "text": [
      "0.8148452702278576\n",
      "{'model__gamma': 0.4, 'model__learning_rate': 0.05, 'model__max_depth': 3, 'model__n_estimators': 20, 'model__subsample': 0.4}\n"
     ]
    }
   ]
  },
  {
   "cell_type": "code",
   "execution_count": 39,
   "outputs": [],
   "source": [
    "best_params = {'model__gamma': 0.4, 'model__learning_rate': 0.05, 'model__max_depth': 3, 'model__n_estimators': 20, 'model__subsample': 0.4}"
   ],
   "metadata": {
    "collapsed": false,
    "pycharm": {
     "name": "#%%\n"
    }
   }
  },
  {
   "cell_type": "code",
   "execution_count": 58,
   "outputs": [
    {
     "data": {
      "text/plain": "Pipeline(steps=[('preprocessor',\n                 ColumnTransformer(transformers=[('num',\n                                                  SimpleImputer(strategy='constant'),\n                                                  ['Age', 'SibSp', 'Parch',\n                                                   'Fare']),\n                                                 ('cat',\n                                                  Pipeline(steps=[('imputer',\n                                                                   SimpleImputer(strategy='most_frequent')),\n                                                                  ('onehot',\n                                                                   OneHotEncoder(handle_unknown='ignore'))]),\n                                                  ['Pclass', 'Sex',\n                                                   'Embarked'])])),\n                ('model',\n                 XGBClassifier(base_score=0.5, booster='gbtree...\n                               gamma=0.4, gpu_id=-1, importance_type=None,\n                               interaction_constraints='', learning_rate=0.05,\n                               max_delta_step=0, max_depth=3,\n                               min_child_weight=1, missing=nan,\n                               monotone_constraints='()', n_estimators=20,\n                               n_jobs=12, num_parallel_tree=1, predictor='auto',\n                               random_state=1902, reg_alpha=0, reg_lambda=1,\n                               scale_pos_weight=1, subsample=0.4,\n                               tree_method='exact', validate_parameters=1,\n                               verbosity=None))])",
      "text/html": "<style>#sk-75e23c46-bcd7-45e7-bc67-afb55ed32611 {color: black;background-color: white;}#sk-75e23c46-bcd7-45e7-bc67-afb55ed32611 pre{padding: 0;}#sk-75e23c46-bcd7-45e7-bc67-afb55ed32611 div.sk-toggleable {background-color: white;}#sk-75e23c46-bcd7-45e7-bc67-afb55ed32611 label.sk-toggleable__label {cursor: pointer;display: block;width: 100%;margin-bottom: 0;padding: 0.3em;box-sizing: border-box;text-align: center;}#sk-75e23c46-bcd7-45e7-bc67-afb55ed32611 label.sk-toggleable__label-arrow:before {content: \"▸\";float: left;margin-right: 0.25em;color: #696969;}#sk-75e23c46-bcd7-45e7-bc67-afb55ed32611 label.sk-toggleable__label-arrow:hover:before {color: black;}#sk-75e23c46-bcd7-45e7-bc67-afb55ed32611 div.sk-estimator:hover label.sk-toggleable__label-arrow:before {color: black;}#sk-75e23c46-bcd7-45e7-bc67-afb55ed32611 div.sk-toggleable__content {max-height: 0;max-width: 0;overflow: hidden;text-align: left;background-color: #f0f8ff;}#sk-75e23c46-bcd7-45e7-bc67-afb55ed32611 div.sk-toggleable__content pre {margin: 0.2em;color: black;border-radius: 0.25em;background-color: #f0f8ff;}#sk-75e23c46-bcd7-45e7-bc67-afb55ed32611 input.sk-toggleable__control:checked~div.sk-toggleable__content {max-height: 200px;max-width: 100%;overflow: auto;}#sk-75e23c46-bcd7-45e7-bc67-afb55ed32611 input.sk-toggleable__control:checked~label.sk-toggleable__label-arrow:before {content: \"▾\";}#sk-75e23c46-bcd7-45e7-bc67-afb55ed32611 div.sk-estimator input.sk-toggleable__control:checked~label.sk-toggleable__label {background-color: #d4ebff;}#sk-75e23c46-bcd7-45e7-bc67-afb55ed32611 div.sk-label input.sk-toggleable__control:checked~label.sk-toggleable__label {background-color: #d4ebff;}#sk-75e23c46-bcd7-45e7-bc67-afb55ed32611 input.sk-hidden--visually {border: 0;clip: rect(1px 1px 1px 1px);clip: rect(1px, 1px, 1px, 1px);height: 1px;margin: -1px;overflow: hidden;padding: 0;position: absolute;width: 1px;}#sk-75e23c46-bcd7-45e7-bc67-afb55ed32611 div.sk-estimator {font-family: monospace;background-color: #f0f8ff;border: 1px dotted black;border-radius: 0.25em;box-sizing: border-box;margin-bottom: 0.5em;}#sk-75e23c46-bcd7-45e7-bc67-afb55ed32611 div.sk-estimator:hover {background-color: #d4ebff;}#sk-75e23c46-bcd7-45e7-bc67-afb55ed32611 div.sk-parallel-item::after {content: \"\";width: 100%;border-bottom: 1px solid gray;flex-grow: 1;}#sk-75e23c46-bcd7-45e7-bc67-afb55ed32611 div.sk-label:hover label.sk-toggleable__label {background-color: #d4ebff;}#sk-75e23c46-bcd7-45e7-bc67-afb55ed32611 div.sk-serial::before {content: \"\";position: absolute;border-left: 1px solid gray;box-sizing: border-box;top: 2em;bottom: 0;left: 50%;}#sk-75e23c46-bcd7-45e7-bc67-afb55ed32611 div.sk-serial {display: flex;flex-direction: column;align-items: center;background-color: white;padding-right: 0.2em;padding-left: 0.2em;}#sk-75e23c46-bcd7-45e7-bc67-afb55ed32611 div.sk-item {z-index: 1;}#sk-75e23c46-bcd7-45e7-bc67-afb55ed32611 div.sk-parallel {display: flex;align-items: stretch;justify-content: center;background-color: white;}#sk-75e23c46-bcd7-45e7-bc67-afb55ed32611 div.sk-parallel::before {content: \"\";position: absolute;border-left: 1px solid gray;box-sizing: border-box;top: 2em;bottom: 0;left: 50%;}#sk-75e23c46-bcd7-45e7-bc67-afb55ed32611 div.sk-parallel-item {display: flex;flex-direction: column;position: relative;background-color: white;}#sk-75e23c46-bcd7-45e7-bc67-afb55ed32611 div.sk-parallel-item:first-child::after {align-self: flex-end;width: 50%;}#sk-75e23c46-bcd7-45e7-bc67-afb55ed32611 div.sk-parallel-item:last-child::after {align-self: flex-start;width: 50%;}#sk-75e23c46-bcd7-45e7-bc67-afb55ed32611 div.sk-parallel-item:only-child::after {width: 0;}#sk-75e23c46-bcd7-45e7-bc67-afb55ed32611 div.sk-dashed-wrapped {border: 1px dashed gray;margin: 0 0.4em 0.5em 0.4em;box-sizing: border-box;padding-bottom: 0.4em;background-color: white;position: relative;}#sk-75e23c46-bcd7-45e7-bc67-afb55ed32611 div.sk-label label {font-family: monospace;font-weight: bold;background-color: white;display: inline-block;line-height: 1.2em;}#sk-75e23c46-bcd7-45e7-bc67-afb55ed32611 div.sk-label-container {position: relative;z-index: 2;text-align: center;}#sk-75e23c46-bcd7-45e7-bc67-afb55ed32611 div.sk-container {/* jupyter's `normalize.less` sets `[hidden] { display: none; }` but bootstrap.min.css set `[hidden] { display: none !important; }` so we also need the `!important` here to be able to override the default hidden behavior on the sphinx rendered scikit-learn.org. See: https://github.com/scikit-learn/scikit-learn/issues/21755 */display: inline-block !important;position: relative;}#sk-75e23c46-bcd7-45e7-bc67-afb55ed32611 div.sk-text-repr-fallback {display: none;}</style><div id=\"sk-75e23c46-bcd7-45e7-bc67-afb55ed32611\" class=\"sk-top-container\"><div class=\"sk-text-repr-fallback\"><pre>Pipeline(steps=[(&#x27;preprocessor&#x27;,\n                 ColumnTransformer(transformers=[(&#x27;num&#x27;,\n                                                  SimpleImputer(strategy=&#x27;constant&#x27;),\n                                                  [&#x27;Age&#x27;, &#x27;SibSp&#x27;, &#x27;Parch&#x27;,\n                                                   &#x27;Fare&#x27;]),\n                                                 (&#x27;cat&#x27;,\n                                                  Pipeline(steps=[(&#x27;imputer&#x27;,\n                                                                   SimpleImputer(strategy=&#x27;most_frequent&#x27;)),\n                                                                  (&#x27;onehot&#x27;,\n                                                                   OneHotEncoder(handle_unknown=&#x27;ignore&#x27;))]),\n                                                  [&#x27;Pclass&#x27;, &#x27;Sex&#x27;,\n                                                   &#x27;Embarked&#x27;])])),\n                (&#x27;model&#x27;,\n                 XGBClassifier(base_score=0.5, booster=&#x27;gbtree...\n                               gamma=0.4, gpu_id=-1, importance_type=None,\n                               interaction_constraints=&#x27;&#x27;, learning_rate=0.05,\n                               max_delta_step=0, max_depth=3,\n                               min_child_weight=1, missing=nan,\n                               monotone_constraints=&#x27;()&#x27;, n_estimators=20,\n                               n_jobs=12, num_parallel_tree=1, predictor=&#x27;auto&#x27;,\n                               random_state=1902, reg_alpha=0, reg_lambda=1,\n                               scale_pos_weight=1, subsample=0.4,\n                               tree_method=&#x27;exact&#x27;, validate_parameters=1,\n                               verbosity=None))])</pre><b>Please rerun this cell to show the HTML repr or trust the notebook.</b></div><div class=\"sk-container\" hidden><div class=\"sk-item sk-dashed-wrapped\"><div class=\"sk-label-container\"><div class=\"sk-label sk-toggleable\"><input class=\"sk-toggleable__control sk-hidden--visually\" id=\"812d26f6-b039-412d-84d7-8f044c4ff97f\" type=\"checkbox\" ><label for=\"812d26f6-b039-412d-84d7-8f044c4ff97f\" class=\"sk-toggleable__label sk-toggleable__label-arrow\">Pipeline</label><div class=\"sk-toggleable__content\"><pre>Pipeline(steps=[(&#x27;preprocessor&#x27;,\n                 ColumnTransformer(transformers=[(&#x27;num&#x27;,\n                                                  SimpleImputer(strategy=&#x27;constant&#x27;),\n                                                  [&#x27;Age&#x27;, &#x27;SibSp&#x27;, &#x27;Parch&#x27;,\n                                                   &#x27;Fare&#x27;]),\n                                                 (&#x27;cat&#x27;,\n                                                  Pipeline(steps=[(&#x27;imputer&#x27;,\n                                                                   SimpleImputer(strategy=&#x27;most_frequent&#x27;)),\n                                                                  (&#x27;onehot&#x27;,\n                                                                   OneHotEncoder(handle_unknown=&#x27;ignore&#x27;))]),\n                                                  [&#x27;Pclass&#x27;, &#x27;Sex&#x27;,\n                                                   &#x27;Embarked&#x27;])])),\n                (&#x27;model&#x27;,\n                 XGBClassifier(base_score=0.5, booster=&#x27;gbtree...\n                               gamma=0.4, gpu_id=-1, importance_type=None,\n                               interaction_constraints=&#x27;&#x27;, learning_rate=0.05,\n                               max_delta_step=0, max_depth=3,\n                               min_child_weight=1, missing=nan,\n                               monotone_constraints=&#x27;()&#x27;, n_estimators=20,\n                               n_jobs=12, num_parallel_tree=1, predictor=&#x27;auto&#x27;,\n                               random_state=1902, reg_alpha=0, reg_lambda=1,\n                               scale_pos_weight=1, subsample=0.4,\n                               tree_method=&#x27;exact&#x27;, validate_parameters=1,\n                               verbosity=None))])</pre></div></div></div><div class=\"sk-serial\"><div class=\"sk-item sk-dashed-wrapped\"><div class=\"sk-label-container\"><div class=\"sk-label sk-toggleable\"><input class=\"sk-toggleable__control sk-hidden--visually\" id=\"1021df09-4e93-42a3-9079-89103510495a\" type=\"checkbox\" ><label for=\"1021df09-4e93-42a3-9079-89103510495a\" class=\"sk-toggleable__label sk-toggleable__label-arrow\">preprocessor: ColumnTransformer</label><div class=\"sk-toggleable__content\"><pre>ColumnTransformer(transformers=[(&#x27;num&#x27;, SimpleImputer(strategy=&#x27;constant&#x27;),\n                                 [&#x27;Age&#x27;, &#x27;SibSp&#x27;, &#x27;Parch&#x27;, &#x27;Fare&#x27;]),\n                                (&#x27;cat&#x27;,\n                                 Pipeline(steps=[(&#x27;imputer&#x27;,\n                                                  SimpleImputer(strategy=&#x27;most_frequent&#x27;)),\n                                                 (&#x27;onehot&#x27;,\n                                                  OneHotEncoder(handle_unknown=&#x27;ignore&#x27;))]),\n                                 [&#x27;Pclass&#x27;, &#x27;Sex&#x27;, &#x27;Embarked&#x27;])])</pre></div></div></div><div class=\"sk-parallel\"><div class=\"sk-parallel-item\"><div class=\"sk-item\"><div class=\"sk-label-container\"><div class=\"sk-label sk-toggleable\"><input class=\"sk-toggleable__control sk-hidden--visually\" id=\"d7631874-099d-4e09-85b5-41e56dc4bfc3\" type=\"checkbox\" ><label for=\"d7631874-099d-4e09-85b5-41e56dc4bfc3\" class=\"sk-toggleable__label sk-toggleable__label-arrow\">num</label><div class=\"sk-toggleable__content\"><pre>[&#x27;Age&#x27;, &#x27;SibSp&#x27;, &#x27;Parch&#x27;, &#x27;Fare&#x27;]</pre></div></div></div><div class=\"sk-serial\"><div class=\"sk-item\"><div class=\"sk-estimator sk-toggleable\"><input class=\"sk-toggleable__control sk-hidden--visually\" id=\"b09b8fc0-3ce6-4409-9a4b-109ea0b08820\" type=\"checkbox\" ><label for=\"b09b8fc0-3ce6-4409-9a4b-109ea0b08820\" class=\"sk-toggleable__label sk-toggleable__label-arrow\">SimpleImputer</label><div class=\"sk-toggleable__content\"><pre>SimpleImputer(strategy=&#x27;constant&#x27;)</pre></div></div></div></div></div></div><div class=\"sk-parallel-item\"><div class=\"sk-item\"><div class=\"sk-label-container\"><div class=\"sk-label sk-toggleable\"><input class=\"sk-toggleable__control sk-hidden--visually\" id=\"8af4ce7d-d164-4f85-8c6a-202af30d8a1e\" type=\"checkbox\" ><label for=\"8af4ce7d-d164-4f85-8c6a-202af30d8a1e\" class=\"sk-toggleable__label sk-toggleable__label-arrow\">cat</label><div class=\"sk-toggleable__content\"><pre>[&#x27;Pclass&#x27;, &#x27;Sex&#x27;, &#x27;Embarked&#x27;]</pre></div></div></div><div class=\"sk-serial\"><div class=\"sk-item\"><div class=\"sk-serial\"><div class=\"sk-item\"><div class=\"sk-estimator sk-toggleable\"><input class=\"sk-toggleable__control sk-hidden--visually\" id=\"8647a097-3817-40a1-a865-4f7be66fdb44\" type=\"checkbox\" ><label for=\"8647a097-3817-40a1-a865-4f7be66fdb44\" class=\"sk-toggleable__label sk-toggleable__label-arrow\">SimpleImputer</label><div class=\"sk-toggleable__content\"><pre>SimpleImputer(strategy=&#x27;most_frequent&#x27;)</pre></div></div></div><div class=\"sk-item\"><div class=\"sk-estimator sk-toggleable\"><input class=\"sk-toggleable__control sk-hidden--visually\" id=\"bc270d82-9b3d-4eca-9ac0-dc144346a4c3\" type=\"checkbox\" ><label for=\"bc270d82-9b3d-4eca-9ac0-dc144346a4c3\" class=\"sk-toggleable__label sk-toggleable__label-arrow\">OneHotEncoder</label><div class=\"sk-toggleable__content\"><pre>OneHotEncoder(handle_unknown=&#x27;ignore&#x27;)</pre></div></div></div></div></div></div></div></div></div></div><div class=\"sk-item\"><div class=\"sk-estimator sk-toggleable\"><input class=\"sk-toggleable__control sk-hidden--visually\" id=\"b711b890-1f1b-4b5d-bfb9-e788bc452515\" type=\"checkbox\" ><label for=\"b711b890-1f1b-4b5d-bfb9-e788bc452515\" class=\"sk-toggleable__label sk-toggleable__label-arrow\">XGBClassifier</label><div class=\"sk-toggleable__content\"><pre>XGBClassifier(base_score=0.5, booster=&#x27;gbtree&#x27;, colsample_bylevel=1,\n              colsample_bynode=1, colsample_bytree=1, enable_categorical=False,\n              gamma=0.4, gpu_id=-1, importance_type=None,\n              interaction_constraints=&#x27;&#x27;, learning_rate=0.05, max_delta_step=0,\n              max_depth=3, min_child_weight=1, missing=nan,\n              monotone_constraints=&#x27;()&#x27;, n_estimators=20, n_jobs=12,\n              num_parallel_tree=1, predictor=&#x27;auto&#x27;, random_state=1902,\n              reg_alpha=0, reg_lambda=1, scale_pos_weight=1, subsample=0.4,\n              tree_method=&#x27;exact&#x27;, validate_parameters=1, verbosity=None)</pre></div></div></div></div></div></div></div>"
     },
     "execution_count": 58,
     "metadata": {},
     "output_type": "execute_result"
    }
   ],
   "source": [
    "clf_XGB.set_params(**best_params)"
   ],
   "metadata": {
    "collapsed": false,
    "pycharm": {
     "name": "#%%\n"
    }
   }
  },
  {
   "cell_type": "code",
   "execution_count": 59,
   "outputs": [
    {
     "name": "stdout",
     "output_type": "stream",
     "text": [
      "[09:18:15] WARNING: /Users/runner/work/xgboost/xgboost/src/learner.cc:1115: Starting in XGBoost 1.3.0, the default evaluation metric used with the objective 'binary:logistic' was changed from 'error' to 'logloss'. Explicitly set eval_metric if you'd like to restore the old behavior.\n"
     ]
    },
    {
     "name": "stderr",
     "output_type": "stream",
     "text": [
      "/Users/evgeny/PycharmProjects/Titanic/venv/lib/python3.9/site-packages/xgboost/sklearn.py:1224: UserWarning: The use of label encoder in XGBClassifier is deprecated and will be removed in a future release. To remove this warning, do the following: 1) Pass option use_label_encoder=False when constructing XGBClassifier object; and 2) Encode your labels (y) as integers starting with 0, i.e. 0, 1, 2, ..., [num_class - 1].\n",
      "  warnings.warn(label_encoder_deprecation_msg, UserWarning)\n"
     ]
    },
    {
     "data": {
      "text/plain": "Pipeline(steps=[('preprocessor',\n                 ColumnTransformer(transformers=[('num',\n                                                  SimpleImputer(strategy='constant'),\n                                                  ['Age', 'SibSp', 'Parch',\n                                                   'Fare']),\n                                                 ('cat',\n                                                  Pipeline(steps=[('imputer',\n                                                                   SimpleImputer(strategy='most_frequent')),\n                                                                  ('onehot',\n                                                                   OneHotEncoder(handle_unknown='ignore'))]),\n                                                  ['Pclass', 'Sex',\n                                                   'Embarked'])])),\n                ('model',\n                 XGBClassifier(base_score=0.5, booster='gbtree...\n                               gamma=0.4, gpu_id=-1, importance_type=None,\n                               interaction_constraints='', learning_rate=0.05,\n                               max_delta_step=0, max_depth=3,\n                               min_child_weight=1, missing=nan,\n                               monotone_constraints='()', n_estimators=20,\n                               n_jobs=12, num_parallel_tree=1, predictor='auto',\n                               random_state=1902, reg_alpha=0, reg_lambda=1,\n                               scale_pos_weight=1, subsample=0.4,\n                               tree_method='exact', validate_parameters=1,\n                               verbosity=None))])",
      "text/html": "<style>#sk-76a60c45-244d-45cb-9c30-bc28d8668fc2 {color: black;background-color: white;}#sk-76a60c45-244d-45cb-9c30-bc28d8668fc2 pre{padding: 0;}#sk-76a60c45-244d-45cb-9c30-bc28d8668fc2 div.sk-toggleable {background-color: white;}#sk-76a60c45-244d-45cb-9c30-bc28d8668fc2 label.sk-toggleable__label {cursor: pointer;display: block;width: 100%;margin-bottom: 0;padding: 0.3em;box-sizing: border-box;text-align: center;}#sk-76a60c45-244d-45cb-9c30-bc28d8668fc2 label.sk-toggleable__label-arrow:before {content: \"▸\";float: left;margin-right: 0.25em;color: #696969;}#sk-76a60c45-244d-45cb-9c30-bc28d8668fc2 label.sk-toggleable__label-arrow:hover:before {color: black;}#sk-76a60c45-244d-45cb-9c30-bc28d8668fc2 div.sk-estimator:hover label.sk-toggleable__label-arrow:before {color: black;}#sk-76a60c45-244d-45cb-9c30-bc28d8668fc2 div.sk-toggleable__content {max-height: 0;max-width: 0;overflow: hidden;text-align: left;background-color: #f0f8ff;}#sk-76a60c45-244d-45cb-9c30-bc28d8668fc2 div.sk-toggleable__content pre {margin: 0.2em;color: black;border-radius: 0.25em;background-color: #f0f8ff;}#sk-76a60c45-244d-45cb-9c30-bc28d8668fc2 input.sk-toggleable__control:checked~div.sk-toggleable__content {max-height: 200px;max-width: 100%;overflow: auto;}#sk-76a60c45-244d-45cb-9c30-bc28d8668fc2 input.sk-toggleable__control:checked~label.sk-toggleable__label-arrow:before {content: \"▾\";}#sk-76a60c45-244d-45cb-9c30-bc28d8668fc2 div.sk-estimator input.sk-toggleable__control:checked~label.sk-toggleable__label {background-color: #d4ebff;}#sk-76a60c45-244d-45cb-9c30-bc28d8668fc2 div.sk-label input.sk-toggleable__control:checked~label.sk-toggleable__label {background-color: #d4ebff;}#sk-76a60c45-244d-45cb-9c30-bc28d8668fc2 input.sk-hidden--visually {border: 0;clip: rect(1px 1px 1px 1px);clip: rect(1px, 1px, 1px, 1px);height: 1px;margin: -1px;overflow: hidden;padding: 0;position: absolute;width: 1px;}#sk-76a60c45-244d-45cb-9c30-bc28d8668fc2 div.sk-estimator {font-family: monospace;background-color: #f0f8ff;border: 1px dotted black;border-radius: 0.25em;box-sizing: border-box;margin-bottom: 0.5em;}#sk-76a60c45-244d-45cb-9c30-bc28d8668fc2 div.sk-estimator:hover {background-color: #d4ebff;}#sk-76a60c45-244d-45cb-9c30-bc28d8668fc2 div.sk-parallel-item::after {content: \"\";width: 100%;border-bottom: 1px solid gray;flex-grow: 1;}#sk-76a60c45-244d-45cb-9c30-bc28d8668fc2 div.sk-label:hover label.sk-toggleable__label {background-color: #d4ebff;}#sk-76a60c45-244d-45cb-9c30-bc28d8668fc2 div.sk-serial::before {content: \"\";position: absolute;border-left: 1px solid gray;box-sizing: border-box;top: 2em;bottom: 0;left: 50%;}#sk-76a60c45-244d-45cb-9c30-bc28d8668fc2 div.sk-serial {display: flex;flex-direction: column;align-items: center;background-color: white;padding-right: 0.2em;padding-left: 0.2em;}#sk-76a60c45-244d-45cb-9c30-bc28d8668fc2 div.sk-item {z-index: 1;}#sk-76a60c45-244d-45cb-9c30-bc28d8668fc2 div.sk-parallel {display: flex;align-items: stretch;justify-content: center;background-color: white;}#sk-76a60c45-244d-45cb-9c30-bc28d8668fc2 div.sk-parallel::before {content: \"\";position: absolute;border-left: 1px solid gray;box-sizing: border-box;top: 2em;bottom: 0;left: 50%;}#sk-76a60c45-244d-45cb-9c30-bc28d8668fc2 div.sk-parallel-item {display: flex;flex-direction: column;position: relative;background-color: white;}#sk-76a60c45-244d-45cb-9c30-bc28d8668fc2 div.sk-parallel-item:first-child::after {align-self: flex-end;width: 50%;}#sk-76a60c45-244d-45cb-9c30-bc28d8668fc2 div.sk-parallel-item:last-child::after {align-self: flex-start;width: 50%;}#sk-76a60c45-244d-45cb-9c30-bc28d8668fc2 div.sk-parallel-item:only-child::after {width: 0;}#sk-76a60c45-244d-45cb-9c30-bc28d8668fc2 div.sk-dashed-wrapped {border: 1px dashed gray;margin: 0 0.4em 0.5em 0.4em;box-sizing: border-box;padding-bottom: 0.4em;background-color: white;position: relative;}#sk-76a60c45-244d-45cb-9c30-bc28d8668fc2 div.sk-label label {font-family: monospace;font-weight: bold;background-color: white;display: inline-block;line-height: 1.2em;}#sk-76a60c45-244d-45cb-9c30-bc28d8668fc2 div.sk-label-container {position: relative;z-index: 2;text-align: center;}#sk-76a60c45-244d-45cb-9c30-bc28d8668fc2 div.sk-container {/* jupyter's `normalize.less` sets `[hidden] { display: none; }` but bootstrap.min.css set `[hidden] { display: none !important; }` so we also need the `!important` here to be able to override the default hidden behavior on the sphinx rendered scikit-learn.org. See: https://github.com/scikit-learn/scikit-learn/issues/21755 */display: inline-block !important;position: relative;}#sk-76a60c45-244d-45cb-9c30-bc28d8668fc2 div.sk-text-repr-fallback {display: none;}</style><div id=\"sk-76a60c45-244d-45cb-9c30-bc28d8668fc2\" class=\"sk-top-container\"><div class=\"sk-text-repr-fallback\"><pre>Pipeline(steps=[(&#x27;preprocessor&#x27;,\n                 ColumnTransformer(transformers=[(&#x27;num&#x27;,\n                                                  SimpleImputer(strategy=&#x27;constant&#x27;),\n                                                  [&#x27;Age&#x27;, &#x27;SibSp&#x27;, &#x27;Parch&#x27;,\n                                                   &#x27;Fare&#x27;]),\n                                                 (&#x27;cat&#x27;,\n                                                  Pipeline(steps=[(&#x27;imputer&#x27;,\n                                                                   SimpleImputer(strategy=&#x27;most_frequent&#x27;)),\n                                                                  (&#x27;onehot&#x27;,\n                                                                   OneHotEncoder(handle_unknown=&#x27;ignore&#x27;))]),\n                                                  [&#x27;Pclass&#x27;, &#x27;Sex&#x27;,\n                                                   &#x27;Embarked&#x27;])])),\n                (&#x27;model&#x27;,\n                 XGBClassifier(base_score=0.5, booster=&#x27;gbtree...\n                               gamma=0.4, gpu_id=-1, importance_type=None,\n                               interaction_constraints=&#x27;&#x27;, learning_rate=0.05,\n                               max_delta_step=0, max_depth=3,\n                               min_child_weight=1, missing=nan,\n                               monotone_constraints=&#x27;()&#x27;, n_estimators=20,\n                               n_jobs=12, num_parallel_tree=1, predictor=&#x27;auto&#x27;,\n                               random_state=1902, reg_alpha=0, reg_lambda=1,\n                               scale_pos_weight=1, subsample=0.4,\n                               tree_method=&#x27;exact&#x27;, validate_parameters=1,\n                               verbosity=None))])</pre><b>Please rerun this cell to show the HTML repr or trust the notebook.</b></div><div class=\"sk-container\" hidden><div class=\"sk-item sk-dashed-wrapped\"><div class=\"sk-label-container\"><div class=\"sk-label sk-toggleable\"><input class=\"sk-toggleable__control sk-hidden--visually\" id=\"0460f4fc-576b-416d-ac32-b31764398917\" type=\"checkbox\" ><label for=\"0460f4fc-576b-416d-ac32-b31764398917\" class=\"sk-toggleable__label sk-toggleable__label-arrow\">Pipeline</label><div class=\"sk-toggleable__content\"><pre>Pipeline(steps=[(&#x27;preprocessor&#x27;,\n                 ColumnTransformer(transformers=[(&#x27;num&#x27;,\n                                                  SimpleImputer(strategy=&#x27;constant&#x27;),\n                                                  [&#x27;Age&#x27;, &#x27;SibSp&#x27;, &#x27;Parch&#x27;,\n                                                   &#x27;Fare&#x27;]),\n                                                 (&#x27;cat&#x27;,\n                                                  Pipeline(steps=[(&#x27;imputer&#x27;,\n                                                                   SimpleImputer(strategy=&#x27;most_frequent&#x27;)),\n                                                                  (&#x27;onehot&#x27;,\n                                                                   OneHotEncoder(handle_unknown=&#x27;ignore&#x27;))]),\n                                                  [&#x27;Pclass&#x27;, &#x27;Sex&#x27;,\n                                                   &#x27;Embarked&#x27;])])),\n                (&#x27;model&#x27;,\n                 XGBClassifier(base_score=0.5, booster=&#x27;gbtree...\n                               gamma=0.4, gpu_id=-1, importance_type=None,\n                               interaction_constraints=&#x27;&#x27;, learning_rate=0.05,\n                               max_delta_step=0, max_depth=3,\n                               min_child_weight=1, missing=nan,\n                               monotone_constraints=&#x27;()&#x27;, n_estimators=20,\n                               n_jobs=12, num_parallel_tree=1, predictor=&#x27;auto&#x27;,\n                               random_state=1902, reg_alpha=0, reg_lambda=1,\n                               scale_pos_weight=1, subsample=0.4,\n                               tree_method=&#x27;exact&#x27;, validate_parameters=1,\n                               verbosity=None))])</pre></div></div></div><div class=\"sk-serial\"><div class=\"sk-item sk-dashed-wrapped\"><div class=\"sk-label-container\"><div class=\"sk-label sk-toggleable\"><input class=\"sk-toggleable__control sk-hidden--visually\" id=\"80f776ec-bb4c-479f-92b3-28ff205ead99\" type=\"checkbox\" ><label for=\"80f776ec-bb4c-479f-92b3-28ff205ead99\" class=\"sk-toggleable__label sk-toggleable__label-arrow\">preprocessor: ColumnTransformer</label><div class=\"sk-toggleable__content\"><pre>ColumnTransformer(transformers=[(&#x27;num&#x27;, SimpleImputer(strategy=&#x27;constant&#x27;),\n                                 [&#x27;Age&#x27;, &#x27;SibSp&#x27;, &#x27;Parch&#x27;, &#x27;Fare&#x27;]),\n                                (&#x27;cat&#x27;,\n                                 Pipeline(steps=[(&#x27;imputer&#x27;,\n                                                  SimpleImputer(strategy=&#x27;most_frequent&#x27;)),\n                                                 (&#x27;onehot&#x27;,\n                                                  OneHotEncoder(handle_unknown=&#x27;ignore&#x27;))]),\n                                 [&#x27;Pclass&#x27;, &#x27;Sex&#x27;, &#x27;Embarked&#x27;])])</pre></div></div></div><div class=\"sk-parallel\"><div class=\"sk-parallel-item\"><div class=\"sk-item\"><div class=\"sk-label-container\"><div class=\"sk-label sk-toggleable\"><input class=\"sk-toggleable__control sk-hidden--visually\" id=\"fb40378f-5e38-40ec-b3b0-255076b23a7f\" type=\"checkbox\" ><label for=\"fb40378f-5e38-40ec-b3b0-255076b23a7f\" class=\"sk-toggleable__label sk-toggleable__label-arrow\">num</label><div class=\"sk-toggleable__content\"><pre>[&#x27;Age&#x27;, &#x27;SibSp&#x27;, &#x27;Parch&#x27;, &#x27;Fare&#x27;]</pre></div></div></div><div class=\"sk-serial\"><div class=\"sk-item\"><div class=\"sk-estimator sk-toggleable\"><input class=\"sk-toggleable__control sk-hidden--visually\" id=\"48bc6292-8ee6-4b1c-a5f9-ef486987a9e7\" type=\"checkbox\" ><label for=\"48bc6292-8ee6-4b1c-a5f9-ef486987a9e7\" class=\"sk-toggleable__label sk-toggleable__label-arrow\">SimpleImputer</label><div class=\"sk-toggleable__content\"><pre>SimpleImputer(strategy=&#x27;constant&#x27;)</pre></div></div></div></div></div></div><div class=\"sk-parallel-item\"><div class=\"sk-item\"><div class=\"sk-label-container\"><div class=\"sk-label sk-toggleable\"><input class=\"sk-toggleable__control sk-hidden--visually\" id=\"02c73261-2940-4377-85fb-b48d1bf8153f\" type=\"checkbox\" ><label for=\"02c73261-2940-4377-85fb-b48d1bf8153f\" class=\"sk-toggleable__label sk-toggleable__label-arrow\">cat</label><div class=\"sk-toggleable__content\"><pre>[&#x27;Pclass&#x27;, &#x27;Sex&#x27;, &#x27;Embarked&#x27;]</pre></div></div></div><div class=\"sk-serial\"><div class=\"sk-item\"><div class=\"sk-serial\"><div class=\"sk-item\"><div class=\"sk-estimator sk-toggleable\"><input class=\"sk-toggleable__control sk-hidden--visually\" id=\"7fc512ac-8ddc-493a-b929-ad9d6ff34f70\" type=\"checkbox\" ><label for=\"7fc512ac-8ddc-493a-b929-ad9d6ff34f70\" class=\"sk-toggleable__label sk-toggleable__label-arrow\">SimpleImputer</label><div class=\"sk-toggleable__content\"><pre>SimpleImputer(strategy=&#x27;most_frequent&#x27;)</pre></div></div></div><div class=\"sk-item\"><div class=\"sk-estimator sk-toggleable\"><input class=\"sk-toggleable__control sk-hidden--visually\" id=\"5cc9bc91-d5d6-4df9-9683-3bee9282608e\" type=\"checkbox\" ><label for=\"5cc9bc91-d5d6-4df9-9683-3bee9282608e\" class=\"sk-toggleable__label sk-toggleable__label-arrow\">OneHotEncoder</label><div class=\"sk-toggleable__content\"><pre>OneHotEncoder(handle_unknown=&#x27;ignore&#x27;)</pre></div></div></div></div></div></div></div></div></div></div><div class=\"sk-item\"><div class=\"sk-estimator sk-toggleable\"><input class=\"sk-toggleable__control sk-hidden--visually\" id=\"890cbcce-8b92-4acd-a79e-3615b0266a40\" type=\"checkbox\" ><label for=\"890cbcce-8b92-4acd-a79e-3615b0266a40\" class=\"sk-toggleable__label sk-toggleable__label-arrow\">XGBClassifier</label><div class=\"sk-toggleable__content\"><pre>XGBClassifier(base_score=0.5, booster=&#x27;gbtree&#x27;, colsample_bylevel=1,\n              colsample_bynode=1, colsample_bytree=1, enable_categorical=False,\n              gamma=0.4, gpu_id=-1, importance_type=None,\n              interaction_constraints=&#x27;&#x27;, learning_rate=0.05, max_delta_step=0,\n              max_depth=3, min_child_weight=1, missing=nan,\n              monotone_constraints=&#x27;()&#x27;, n_estimators=20, n_jobs=12,\n              num_parallel_tree=1, predictor=&#x27;auto&#x27;, random_state=1902,\n              reg_alpha=0, reg_lambda=1, scale_pos_weight=1, subsample=0.4,\n              tree_method=&#x27;exact&#x27;, validate_parameters=1, verbosity=None)</pre></div></div></div></div></div></div></div>"
     },
     "execution_count": 59,
     "metadata": {},
     "output_type": "execute_result"
    }
   ],
   "source": [
    "# Preprocessing of training data, fit model\n",
    "clf_XGB.fit(X_train, y_train)"
   ],
   "metadata": {
    "collapsed": false,
    "pycharm": {
     "name": "#%%\n"
    }
   }
  },
  {
   "cell_type": "markdown",
   "source": [
    "# Submission"
   ],
   "metadata": {}
  },
  {
   "cell_type": "code",
   "source": [
    "predictions = clf_XGB.predict(X_valid)\n",
    "\n",
    "output = pd.DataFrame({'PassengerId': X_valid.index, 'Survived': predictions})\n",
    "output.to_csv('submission.csv', index=False)"
   ],
   "metadata": {
    "trusted": true
   },
   "execution_count": 62,
   "outputs": []
  },
  {
   "cell_type": "code",
   "source": "",
   "metadata": {},
   "execution_count": null,
   "outputs": []
  }
 ]
}